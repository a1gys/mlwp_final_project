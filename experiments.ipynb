{
 "cells": [
  {
   "cell_type": "code",
   "outputs": [],
   "source": [
    "from collections import namedtuple\n",
    "from itertools import product\n",
    "\n",
    "import torch\n",
    "import torch.nn as nn\n",
    "import torch.nn.functional as F\n",
    "import numpy as np\n",
    "import matplotlib.pyplot as plt\n",
    "import pandas as pd\n",
    "\n",
    "from torch_geometric.datasets import UPFD\n",
    "from torch_geometric.loader import DataLoader\n",
    "from tqdm.notebook import tqdm\n",
    "from box import Box\n",
    "\n",
    "from models import UPFDNet, UPFDSingle, MultiFeatureNet, ParallelFeatureNet\n",
    "from dataset import MultiFeatureDataset, get_data\n",
    "from utils import train, validate, test, train_multi, validate_multi, test_multi"
   ],
   "metadata": {
    "collapsed": true,
    "ExecuteTime": {
     "end_time": "2024-11-24T12:48:51.774541755Z",
     "start_time": "2024-11-24T12:48:48.905656540Z"
    }
   },
   "id": "initial_id",
   "execution_count": 1
  },
  {
   "cell_type": "code",
   "outputs": [
    {
     "data": {
      "text/plain": "device(type='cuda')"
     },
     "execution_count": 2,
     "metadata": {},
     "output_type": "execute_result"
    }
   ],
   "source": [
    "device = torch.device(\"cuda\" if torch.cuda.is_available() else \"cpu\")\n",
    "device"
   ],
   "metadata": {
    "collapsed": false,
    "ExecuteTime": {
     "end_time": "2024-11-24T12:48:53.236396576Z",
     "start_time": "2024-11-24T12:48:53.234313185Z"
    }
   },
   "id": "526da12bca4b9c76",
   "execution_count": 2
  },
  {
   "cell_type": "code",
   "outputs": [],
   "source": [
    "config = Box({\n",
    "    'batch_size': 128,\n",
    "    'epochs': 35,\n",
    "    'lr': 1e-2,\n",
    "    'l2': 1e-2,\n",
    "    'hidden_dim': 128,\n",
    "    'dropout': 0.2,\n",
    "})"
   ],
   "metadata": {
    "collapsed": false,
    "ExecuteTime": {
     "end_time": "2024-11-24T12:48:53.241414040Z",
     "start_time": "2024-11-24T12:48:53.236855936Z"
    }
   },
   "id": "de51a68bdf842b6d",
   "execution_count": 3
  },
  {
   "cell_type": "code",
   "outputs": [],
   "source": [
    "Result = namedtuple('Result', ['name', 'feature', 'conv_layer', 'accuracy', 'recall', 'precision', 'f1', 'roc_auc', 'train_mean', 'train_std', 'val_mean', 'val_std'])"
   ],
   "metadata": {
    "collapsed": false,
    "ExecuteTime": {
     "end_time": "2024-11-24T12:48:53.248998321Z",
     "start_time": "2024-11-24T12:48:53.242611903Z"
    }
   },
   "id": "9b7e9f658c6fc58d",
   "execution_count": 4
  },
  {
   "cell_type": "code",
   "outputs": [],
   "source": [
    "names = ['politifact', 'gossipcop']\n",
    "features = ['content', 'bert', 'profile', 'spacy']\n",
    "root = './datasets/UPFD'\n",
    "\n",
    "conv_layers = ['gcn', 'sage', 'gat']\n",
    "combinations = list(product(names, features, conv_layers))"
   ],
   "metadata": {
    "collapsed": false,
    "ExecuteTime": {
     "end_time": "2024-11-24T12:49:20.586519138Z",
     "start_time": "2024-11-24T12:49:20.545515168Z"
    }
   },
   "id": "bcebdfa737de780b",
   "execution_count": 8
  },
  {
   "cell_type": "markdown",
   "source": [
    "# UPFDNet Experiments"
   ],
   "metadata": {
    "collapsed": false
   },
   "id": "1b4aa77752bca21b"
  },
  {
   "cell_type": "code",
   "outputs": [
    {
     "data": {
      "text/plain": "Combination:   0%|          | 0/32 [00:00<?, ?it/s]",
      "application/vnd.jupyter.widget-view+json": {
       "version_major": 2,
       "version_minor": 0,
       "model_id": "98ff0812d3fd4236998b3e16ddc6e97b"
      }
     },
     "metadata": {},
     "output_type": "display_data"
    }
   ],
   "source": [
    "results = []\n",
    "\n",
    "for name, feature, conv_layer in tqdm(combinations, desc=f\"Combination\"):\n",
    "    train_dataset = UPFD(root=root, name=name, feature=feature, split='train')\n",
    "    val_dataset = UPFD(root=root, name=name, feature=feature, split='val')\n",
    "    test_dataset = UPFD(root=root, name=name, feature=feature, split='test')\n",
    "    break\n",
    "    train_loader = DataLoader(train_dataset, batch_size=config.batch_size, shuffle=True)\n",
    "    val_loader = DataLoader(val_dataset, batch_size=config.batch_size, shuffle=False)\n",
    "    test_loader = DataLoader(test_dataset, batch_size=config.batch_size, shuffle=False)\n",
    "    \n",
    "    model = UPFDNet(conv_layer=conv_layer, \n",
    "                    in_dim=train_dataset.num_features, \n",
    "                    hidden_dim=config.hidden_dim, \n",
    "                    out_dim=train_dataset.num_classes, \n",
    "                    concat=True, \n",
    "                    dropout=config.dropout).to(device)\n",
    "    optimizer = torch.optim.Adam(model.parameters(), lr=config.lr, weight_decay=config.l2)\n",
    "    \n",
    "    train_losses = []\n",
    "    val_losses = []\n",
    "\n",
    "    for epoch in tqdm(range(config.epochs), desc=f\"Training\"):\n",
    "        train_loss = train(model, optimizer, train_loader, device)\n",
    "        train_losses.append(train_loss)\n",
    "        \n",
    "        val_loss = validate(model, val_loader, device)\n",
    "        val_losses.append(val_loss)\n",
    "    \n",
    "    acc, recall, precision, f1, roc_auc = test(model, test_loader, device)\n",
    "    train_mean, train_std = np.mean(train_losses), np.std(train_losses)\n",
    "    val_mean, val_std = np.mean(val_losses), np.std(val_losses)\n",
    "    \n",
    "    curr_result = Result(name=name, feature=feature, conv_layer=conv_layer, accuracy=acc, recall=recall, precision=precision, f1=f1, roc_auc=roc_auc, train_mean=train_mean, train_std=train_std, val_mean=val_mean, val_std=val_std)\n",
    "    results.append(curr_result)"
   ],
   "metadata": {
    "collapsed": false,
    "ExecuteTime": {
     "end_time": "2024-11-19T22:32:40.208970620Z",
     "start_time": "2024-11-19T22:32:40.067435478Z"
    }
   },
   "id": "ce60aebc6e11bec0",
   "execution_count": 6
  },
  {
   "cell_type": "code",
   "outputs": [
    {
     "data": {
      "text/plain": "[Result(name='gossipcop', feature='bert', conv_layer='gat', accuracy=0.9696811291165708, recall=0.9796450939457203, precision=0.9605936540429887, f1=0.9700258397932816, roc_auc=0.9696654789100329, train_mean=0.19738492453027343, train_std=0.15418018112730295, val_mean=0.19631492103849138, val_std=0.13622124563453017),\n Result(name='gossipcop', feature='content', conv_layer='gat', accuracy=0.9683742812336644, recall=0.9650313152400835, precision=0.9716237519705728, f1=0.9683163131709872, roc_auc=0.9683795319655915, train_mean=0.47219475333889327, train_std=0.2514528047130513, val_mean=0.5144080175885133, val_std=0.3031630096850024),\n Result(name='gossipcop', feature='spacy', conv_layer='sage', accuracy=0.9584422373235756, recall=0.9702505219206681, precision=0.9479857215706272, f1=0.9589889089502193, roc_auc=0.9584236902797058, train_mean=0.17093955313875564, train_std=0.07788061144900925, val_mean=0.16229910671710965, val_std=0.05793061496084811),\n Result(name='gossipcop', feature='bert', conv_layer='sage', accuracy=0.9581808677469943, recall=0.9707724425887265, precision=0.9470468431771895, f1=0.9587628865979382, roc_auc=0.9581610904043109, train_mean=0.19671435527621753, train_std=0.16762063377827913, val_mean=0.18909031457134653, val_std=0.1319688115644673),\n Result(name='gossipcop', feature='bert', conv_layer='gcn', accuracy=0.9495556717198118, recall=0.9801670146137788, precision=0.9237579931136252, f1=0.951126867561408, roc_auc=0.9495075910765229, train_mean=0.21574473591550947, train_std=0.1612612138517859, val_mean=0.22428962630884988, val_std=0.12936880727213482),\n Result(name='gossipcop', feature='spacy', conv_layer='gat', accuracy=0.9430214323052797, recall=0.9211899791231732, precision=0.9634279475982532, f1=0.9418356456776947, roc_auc=0.9430557225458798, train_mean=0.22062480858867134, train_std=0.08372575236582709, val_mean=0.20417784133127756, val_std=0.058592785025642295),\n Result(name='gossipcop', feature='spacy', conv_layer='gcn', accuracy=0.9380554103502352, recall=0.9801670146137788, precision=0.9041887337506018, f1=0.9406461307287753, roc_auc=0.9379892664691931, train_mean=0.2148720110456149, train_std=0.11538824190622746, val_mean=0.20799779355525969, val_std=0.09652416483151177),\n Result(name='gossipcop', feature='profile', conv_layer='sage', accuracy=0.9215891270256142, recall=0.9342379958246346, precision=0.9114052953156823, f1=0.9226804123711341, roc_auc=0.9215692596924221, train_mean=0.23571043385872764, train_std=0.11184950787047317, val_mean=0.23639206290245057, val_std=0.08800647773899824),\n Result(name='gossipcop', feature='profile', conv_layer='gat', accuracy=0.9100888656560376, recall=0.9295407098121086, precision=0.8949748743718593, f1=0.9119303635432667, roc_auc=0.9100583130212375, train_mean=0.2902914381689496, train_std=0.07464023556034804, val_mean=0.27403098268168313, val_std=0.057367792504381405),\n Result(name='gossipcop', feature='profile', conv_layer='gcn', accuracy=0.8755880815473079, recall=0.8632567849686847, precision=0.8854389721627409, f1=0.8742071881606766, roc_auc=0.8756074500759654, train_mean=0.35058472605924756, train_std=0.06340194841649346, val_mean=0.34505592303616667, val_std=0.044538695134155336),\n Result(name='politifact', feature='spacy', conv_layer='sage', accuracy=0.8009049773755657, recall=0.8495575221238938, precision=0.7804878048780488, f1=0.8135593220338984, roc_auc=0.7997787610619469, train_mean=0.2766160674393177, train_std=0.23356981754888587, val_mean=0.6165647038391658, val_std=0.11223674597430984),\n Result(name='politifact', feature='bert', conv_layer='gat', accuracy=0.7918552036199095, recall=0.672566371681416, precision=0.8941176470588236, f1=0.7676767676767676, roc_auc=0.7946165191740413, train_mean=0.31549417819561704, train_std=0.44445189784642153, val_mean=0.8398735182625907, val_std=0.40964126109210053),\n Result(name='politifact', feature='spacy', conv_layer='gat', accuracy=0.7873303167420814, recall=0.7345132743362832, precision=0.83, f1=0.7793427230046949, roc_auc=0.7885529334644378, train_mean=0.30655661789434296, train_std=0.21507912361220985, val_mean=0.5556830721242088, val_std=0.10472525740946322),\n Result(name='politifact', feature='spacy', conv_layer='gcn', accuracy=0.7828054298642534, recall=0.7345132743362832, precision=0.8217821782178217, f1=0.7757009345794392, roc_auc=0.7839233038348083, train_mean=0.30108773963791985, train_std=0.21502078783343243, val_mean=0.5912012951714652, val_std=0.10408726414493064),\n Result(name='politifact', feature='bert', conv_layer='gcn', accuracy=0.7737556561085973, recall=0.8938053097345132, precision=0.7266187050359713, f1=0.8015873015873016, roc_auc=0.7709767289413306, train_mean=0.42561923460369666, train_std=0.7434816324637742, val_mean=0.8759020277432032, val_std=1.0536933865706728),\n Result(name='politifact', feature='profile', conv_layer='sage', accuracy=0.7692307692307693, recall=0.7256637168141593, precision=0.803921568627451, f1=0.7627906976744186, roc_auc=0.7702392658144872, train_mean=0.3749253098453794, train_std=0.18679897612996016, val_mean=0.8002643431935992, val_std=0.12561722917585638),\n Result(name='politifact', feature='spacy', conv_layer='parma', accuracy=0.746606334841629, recall=0.6548672566371682, precision=0.8131868131868132, f1=0.7254901960784313, roc_auc=0.7487299246148804, train_mean=0.2697486590061869, train_std=0.21735591665795864, val_mean=0.6349387441362654, val_std=0.08116077920014872),\n Result(name='politifact', feature='profile', conv_layer='parma', accuracy=0.7420814479638009, recall=0.7964601769911505, precision=0.7258064516129032, f1=0.759493670886076, roc_auc=0.7408226810881677, train_mean=0.5803552891526903, train_std=0.07641529431416327, val_mean=0.6442087173461915, val_std=0.07329143094050941),\n Result(name='gossipcop', feature='profile', conv_layer='parma', accuracy=0.7320961840041819, recall=0.7599164926931107, precision=0.7204354280059376, f1=0.7396494792989586, roc_auc=0.7320524871842518, train_mean=0.5503598454452696, train_std=0.03267252750165963, val_mean=0.5252796404702322, val_std=0.02907106480241138),\n Result(name='politifact', feature='profile', conv_layer='gcn', accuracy=0.7194570135746606, recall=0.6194690265486725, precision=0.7865168539325843, f1=0.693069306930693, roc_auc=0.7217715503113733, train_mean=0.4025549513953073, train_std=0.13668136778516918, val_mean=0.7670485547610691, val_std=0.0640023952381579),\n Result(name='politifact', feature='profile', conv_layer='gat', accuracy=0.7194570135746606, recall=0.5486725663716814, precision=0.8493150684931506, f1=0.6666666666666666, roc_auc=0.7234103572599148, train_mean=0.4293960213661194, train_std=0.14051299712426102, val_mean=0.7765960880688259, val_std=0.09301260546352307),\n Result(name='gossipcop', feature='bert', conv_layer='parma', accuracy=0.6923680083638265, recall=0.8397703549060542, precision=0.6490520371117386, f1=0.7321956769055745, roc_auc=0.6921364863535506, train_mean=0.4786408566293262, train_std=0.06197587296925171, val_mean=0.5635930808952877, val_std=0.08638581875418039),\n Result(name='politifact', feature='bert', conv_layer='sage', accuracy=0.6742081447963801, recall=0.39823008849557523, precision=0.9183673469387755, f1=0.5555555555555556, roc_auc=0.6805965257292692, train_mean=0.2759783855772444, train_std=0.48200980708646396, val_mean=0.712644887822015, val_std=0.540212544479433),\n Result(name='politifact', feature='content', conv_layer='sage', accuracy=0.6108597285067874, recall=0.9823008849557522, precision=0.5692307692307692, f1=0.7207792207792207, roc_auc=0.6022615535889873, train_mean=0.7342489157404218, train_std=0.34125402481948136, val_mean=0.8268608450889587, val_std=0.5120464562238334),\n Result(name='politifact', feature='content', conv_layer='gcn', accuracy=0.5203619909502263, recall=1.0, precision=0.5159817351598174, f1=0.6807228915662651, roc_auc=0.5092592592592593, train_mean=0.6999051570892334, train_std=0.15521683513460957, val_mean=0.7684007150786264, val_std=0.24954731895197615),\n Result(name='politifact', feature='bert', conv_layer='parma', accuracy=0.5203619909502263, recall=1.0, precision=0.5159817351598174, f1=0.6807228915662651, roc_auc=0.5092592592592593, train_mean=0.24224819182418286, train_std=0.29619762515503284, val_mean=0.8200212001800538, val_std=0.541466483052325),\n Result(name='politifact', feature='content', conv_layer='parma', accuracy=0.5113122171945701, recall=1.0, precision=0.5113122171945701, f1=0.6766467065868264, roc_auc=0.5, train_mean=0.6834108199392046, train_std=0.030693562071323198, val_mean=0.7416600142206464, val_std=0.07586433685396748),\n Result(name='gossipcop', feature='content', conv_layer='sage', accuracy=0.5007841087297439, recall=1.0, precision=0.5007841087297439, f1=0.6673632880529432, roc_auc=0.5, train_mean=0.6969576182819548, train_std=0.011536856039789462, val_mean=0.6958362940379551, val_std=0.005472727714513392),\n Result(name='gossipcop', feature='content', conv_layer='gcn', accuracy=0.4992158912702561, recall=0.0, precision=0.0, f1=0.0, roc_auc=0.5, train_mean=0.6984141879611544, train_std=0.028021082421462336, val_mean=0.6944018254961286, val_std=0.007666467192809788),\n Result(name='gossipcop', feature='content', conv_layer='parma', accuracy=0.4992158912702561, recall=0.0, precision=0.0, f1=0.0, roc_auc=0.5, train_mean=0.6943359791286406, train_std=0.005693797440214099, val_mean=0.6929820694242205, val_std=0.0001664708032547548),\n Result(name='gossipcop', feature='spacy', conv_layer='parma', accuracy=0.4992158912702561, recall=0.0, precision=0.0, f1=0.0, roc_auc=0.5, train_mean=0.6931944673023528, train_std=0.0002939880174119939, val_mean=0.693111024584089, val_std=0.0006076542729471328),\n Result(name='politifact', feature='content', conv_layer='gat', accuracy=0.48868778280542985, recall=0.0, precision=0.0, f1=0.0, roc_auc=0.5, train_mean=0.7053394981792995, train_std=0.1908981782439478, val_mean=0.7673993280955723, val_std=0.25230645797306506)]"
     },
     "execution_count": 7,
     "metadata": {},
     "output_type": "execute_result"
    }
   ],
   "source": [
    "sorted(results, key=lambda x: x.accuracy, reverse=True)"
   ],
   "metadata": {
    "collapsed": false,
    "ExecuteTime": {
     "end_time": "2024-11-18T18:49:14.626967956Z",
     "start_time": "2024-11-18T18:49:14.584696554Z"
    }
   },
   "id": "8d9ebd6c83871ed2",
   "execution_count": 7
  },
  {
   "cell_type": "code",
   "outputs": [],
   "source": [
    "df = pd.DataFrame(results)\n",
    "df.to_csv('./results/upfdnet.csv')"
   ],
   "metadata": {
    "collapsed": false,
    "ExecuteTime": {
     "end_time": "2024-11-18T18:49:17.543008845Z",
     "start_time": "2024-11-18T18:49:17.531189386Z"
    }
   },
   "id": "3261e02e9e7a8712",
   "execution_count": 8
  },
  {
   "cell_type": "markdown",
   "source": [
    "# UPFDSingle"
   ],
   "metadata": {
    "collapsed": false
   },
   "id": "a9f37a3fe146cd80"
  },
  {
   "cell_type": "code",
   "outputs": [
    {
     "data": {
      "text/plain": "Combination:   0%|          | 0/24 [00:00<?, ?it/s]",
      "application/vnd.jupyter.widget-view+json": {
       "version_major": 2,
       "version_minor": 0,
       "model_id": "225c9f50de2f41008789d948bbba5d24"
      }
     },
     "metadata": {},
     "output_type": "display_data"
    },
    {
     "data": {
      "text/plain": "Training:   0%|          | 0/35 [00:00<?, ?it/s]",
      "application/vnd.jupyter.widget-view+json": {
       "version_major": 2,
       "version_minor": 0,
       "model_id": "786de3e7b60143efa44f33b57c3a5ba3"
      }
     },
     "metadata": {},
     "output_type": "display_data"
    },
    {
     "data": {
      "text/plain": "Training:   0%|          | 0/35 [00:00<?, ?it/s]",
      "application/vnd.jupyter.widget-view+json": {
       "version_major": 2,
       "version_minor": 0,
       "model_id": "60c2140ec06744fb85f348a7f2e1eb79"
      }
     },
     "metadata": {},
     "output_type": "display_data"
    },
    {
     "data": {
      "text/plain": "Training:   0%|          | 0/35 [00:00<?, ?it/s]",
      "application/vnd.jupyter.widget-view+json": {
       "version_major": 2,
       "version_minor": 0,
       "model_id": "bd0907a0531040c4bc2835819de5495d"
      }
     },
     "metadata": {},
     "output_type": "display_data"
    },
    {
     "data": {
      "text/plain": "Training:   0%|          | 0/35 [00:00<?, ?it/s]",
      "application/vnd.jupyter.widget-view+json": {
       "version_major": 2,
       "version_minor": 0,
       "model_id": "f3bdb611c4cd4d77a655a3bc95ae46e0"
      }
     },
     "metadata": {},
     "output_type": "display_data"
    },
    {
     "data": {
      "text/plain": "Training:   0%|          | 0/35 [00:00<?, ?it/s]",
      "application/vnd.jupyter.widget-view+json": {
       "version_major": 2,
       "version_minor": 0,
       "model_id": "088598d0317c40f7afc8c20f31882c4c"
      }
     },
     "metadata": {},
     "output_type": "display_data"
    },
    {
     "data": {
      "text/plain": "Training:   0%|          | 0/35 [00:00<?, ?it/s]",
      "application/vnd.jupyter.widget-view+json": {
       "version_major": 2,
       "version_minor": 0,
       "model_id": "54e3bf0b609c418c81c899cf0952e89f"
      }
     },
     "metadata": {},
     "output_type": "display_data"
    },
    {
     "data": {
      "text/plain": "Training:   0%|          | 0/35 [00:00<?, ?it/s]",
      "application/vnd.jupyter.widget-view+json": {
       "version_major": 2,
       "version_minor": 0,
       "model_id": "84661de0fdcc43c4aa7a877097c5551d"
      }
     },
     "metadata": {},
     "output_type": "display_data"
    },
    {
     "data": {
      "text/plain": "Training:   0%|          | 0/35 [00:00<?, ?it/s]",
      "application/vnd.jupyter.widget-view+json": {
       "version_major": 2,
       "version_minor": 0,
       "model_id": "8bef6d4134b342698c6023e9335384a3"
      }
     },
     "metadata": {},
     "output_type": "display_data"
    },
    {
     "data": {
      "text/plain": "Training:   0%|          | 0/35 [00:00<?, ?it/s]",
      "application/vnd.jupyter.widget-view+json": {
       "version_major": 2,
       "version_minor": 0,
       "model_id": "aecacdc3f87b44958303a88f6e0bcc68"
      }
     },
     "metadata": {},
     "output_type": "display_data"
    },
    {
     "data": {
      "text/plain": "Training:   0%|          | 0/35 [00:00<?, ?it/s]",
      "application/vnd.jupyter.widget-view+json": {
       "version_major": 2,
       "version_minor": 0,
       "model_id": "51be4688893844e69011f50e7c14f043"
      }
     },
     "metadata": {},
     "output_type": "display_data"
    },
    {
     "data": {
      "text/plain": "Training:   0%|          | 0/35 [00:00<?, ?it/s]",
      "application/vnd.jupyter.widget-view+json": {
       "version_major": 2,
       "version_minor": 0,
       "model_id": "b9bb53024a84466c89ceda2674554f56"
      }
     },
     "metadata": {},
     "output_type": "display_data"
    },
    {
     "data": {
      "text/plain": "Training:   0%|          | 0/35 [00:00<?, ?it/s]",
      "application/vnd.jupyter.widget-view+json": {
       "version_major": 2,
       "version_minor": 0,
       "model_id": "bc17ad3afcfe4331a97e957953364b8d"
      }
     },
     "metadata": {},
     "output_type": "display_data"
    },
    {
     "data": {
      "text/plain": "Training:   0%|          | 0/35 [00:00<?, ?it/s]",
      "application/vnd.jupyter.widget-view+json": {
       "version_major": 2,
       "version_minor": 0,
       "model_id": "115988db08564a61bfe6e3794930d3b1"
      }
     },
     "metadata": {},
     "output_type": "display_data"
    },
    {
     "data": {
      "text/plain": "Training:   0%|          | 0/35 [00:00<?, ?it/s]",
      "application/vnd.jupyter.widget-view+json": {
       "version_major": 2,
       "version_minor": 0,
       "model_id": "c6e13d9a1c8f4c22a0f5eb953966d3d3"
      }
     },
     "metadata": {},
     "output_type": "display_data"
    },
    {
     "data": {
      "text/plain": "Training:   0%|          | 0/35 [00:00<?, ?it/s]",
      "application/vnd.jupyter.widget-view+json": {
       "version_major": 2,
       "version_minor": 0,
       "model_id": "c022c45b71104d3aa75022646473d689"
      }
     },
     "metadata": {},
     "output_type": "display_data"
    },
    {
     "data": {
      "text/plain": "Training:   0%|          | 0/35 [00:00<?, ?it/s]",
      "application/vnd.jupyter.widget-view+json": {
       "version_major": 2,
       "version_minor": 0,
       "model_id": "5cb2a93cfdc1478ba333e4d789a44c8e"
      }
     },
     "metadata": {},
     "output_type": "display_data"
    },
    {
     "data": {
      "text/plain": "Training:   0%|          | 0/35 [00:00<?, ?it/s]",
      "application/vnd.jupyter.widget-view+json": {
       "version_major": 2,
       "version_minor": 0,
       "model_id": "8474fc7cd0274fdab40e4d077a9a50ac"
      }
     },
     "metadata": {},
     "output_type": "display_data"
    },
    {
     "data": {
      "text/plain": "Training:   0%|          | 0/35 [00:00<?, ?it/s]",
      "application/vnd.jupyter.widget-view+json": {
       "version_major": 2,
       "version_minor": 0,
       "model_id": "0cdb4a41ca5f48cc94675e09a89d6f61"
      }
     },
     "metadata": {},
     "output_type": "display_data"
    },
    {
     "data": {
      "text/plain": "Training:   0%|          | 0/35 [00:00<?, ?it/s]",
      "application/vnd.jupyter.widget-view+json": {
       "version_major": 2,
       "version_minor": 0,
       "model_id": "6f26aa745c454859a7ecd5333d36aa36"
      }
     },
     "metadata": {},
     "output_type": "display_data"
    },
    {
     "data": {
      "text/plain": "Training:   0%|          | 0/35 [00:00<?, ?it/s]",
      "application/vnd.jupyter.widget-view+json": {
       "version_major": 2,
       "version_minor": 0,
       "model_id": "b189875629e049c59094eaa11efe88c0"
      }
     },
     "metadata": {},
     "output_type": "display_data"
    },
    {
     "data": {
      "text/plain": "Training:   0%|          | 0/35 [00:00<?, ?it/s]",
      "application/vnd.jupyter.widget-view+json": {
       "version_major": 2,
       "version_minor": 0,
       "model_id": "ac0b7f0c3e094b1d9cc29263eb4827a4"
      }
     },
     "metadata": {},
     "output_type": "display_data"
    },
    {
     "data": {
      "text/plain": "Training:   0%|          | 0/35 [00:00<?, ?it/s]",
      "application/vnd.jupyter.widget-view+json": {
       "version_major": 2,
       "version_minor": 0,
       "model_id": "6464e088b94b4228963dde1ed2dd5b68"
      }
     },
     "metadata": {},
     "output_type": "display_data"
    },
    {
     "data": {
      "text/plain": "Training:   0%|          | 0/35 [00:00<?, ?it/s]",
      "application/vnd.jupyter.widget-view+json": {
       "version_major": 2,
       "version_minor": 0,
       "model_id": "7bf02fb9d6b2402f8e1e0b5f6accef51"
      }
     },
     "metadata": {},
     "output_type": "display_data"
    },
    {
     "data": {
      "text/plain": "Training:   0%|          | 0/35 [00:00<?, ?it/s]",
      "application/vnd.jupyter.widget-view+json": {
       "version_major": 2,
       "version_minor": 0,
       "model_id": "1ac7a3639d7d469dab6c252f68f4828c"
      }
     },
     "metadata": {},
     "output_type": "display_data"
    }
   ],
   "source": [
    "results = []\n",
    "\n",
    "for name, feature, conv_layer in tqdm(combinations, desc=f\"Combination\"):\n",
    "    train_dataset = UPFD(root=root, name=name, feature=feature, split='train')\n",
    "    val_dataset = UPFD(root=root, name=name, feature=feature, split='val')\n",
    "    test_dataset = UPFD(root=root, name=name, feature=feature, split='test')\n",
    "    \n",
    "    train_loader = DataLoader(train_dataset, batch_size=config.batch_size, shuffle=True)\n",
    "    val_loader = DataLoader(val_dataset, batch_size=config.batch_size, shuffle=False)\n",
    "    test_loader = DataLoader(test_dataset, batch_size=config.batch_size, shuffle=False)\n",
    "    \n",
    "    model = UPFDSingle(conv_layer=conv_layer,\n",
    "                       feature_type=feature,\n",
    "                       hidden_dim=config.hidden_dim,\n",
    "                       out_dim=train_dataset.num_classes,\n",
    "                       dropout=config.dropout).to(device)\n",
    "    optimizer = torch.optim.Adam(model.parameters(), lr=config.lr, weight_decay=config.l2)\n",
    "    \n",
    "    train_losses = []\n",
    "    val_losses = []\n",
    "\n",
    "    for epoch in tqdm(range(config.epochs), desc=f\"Training\"):\n",
    "        train_loss = train(model, optimizer, train_loader, device)\n",
    "        train_losses.append(train_loss)\n",
    "        \n",
    "        val_loss = validate(model, val_loader, device)\n",
    "        val_losses.append(val_loss)\n",
    "    \n",
    "    acc, recall, precision, f1, roc_auc = test(model, test_loader, device)\n",
    "    train_mean, train_std = np.mean(train_losses), np.std(train_losses)\n",
    "    val_mean, val_std = np.mean(val_losses), np.std(val_losses)\n",
    "    \n",
    "    curr_result = Result(name=name, feature=feature, conv_layer=conv_layer, accuracy=acc, recall=recall, precision=precision, f1=f1, roc_auc=roc_auc, train_mean=train_mean, train_std=train_std, val_mean=val_mean, val_std=val_std)\n",
    "    results.append(curr_result)"
   ],
   "metadata": {
    "collapsed": false,
    "ExecuteTime": {
     "end_time": "2024-11-24T12:52:40.691581244Z",
     "start_time": "2024-11-24T12:49:23.681659801Z"
    }
   },
   "id": "38936a97a337e8d5",
   "execution_count": 9
  },
  {
   "cell_type": "code",
   "outputs": [
    {
     "data": {
      "text/plain": "[Result(name='gossipcop', feature='bert', conv_layer='sage', accuracy=0.9134866701515943, recall=0.8721294363256785, precision=0.9510529311326124, f1=0.9098829294854343, roc_auc=0.9135516291576036, train_mean=0.28059642901496284, train_std=0.16623517245662822, val_mean=0.32869526377746033, val_std=0.13625757313920037),\n Result(name='gossipcop', feature='profile', conv_layer='sage', accuracy=0.8664401463669629, recall=0.7922755741127349, precision=0.9307173513182097, f1=0.8559345926134762, roc_auc=0.8665566352239066, train_mean=0.3357503687578534, train_std=0.08562210934040347, val_mean=0.3312494791405542, val_std=0.07800718297424682),\n Result(name='gossipcop', feature='profile', conv_layer='gcn', accuracy=0.8348144276006273, recall=0.8215031315240083, precision=0.8444206008583691, f1=0.8328042328042328, roc_auc=0.834835335395512, train_mean=0.4673602716317252, train_std=0.07115751719075361, val_mean=0.45648975116865975, val_std=0.08168155292746752),\n Result(name='politifact', feature='bert', conv_layer='sage', accuracy=0.8190045248868778, recall=0.7610619469026548, precision=0.8686868686868687, f1=0.8113207547169812, roc_auc=0.8203457882661422, train_mean=0.5094453764813287, train_std=0.2249452402273033, val_mean=0.738947365965162, val_std=0.2689192089536852),\n Result(name='politifact', feature='bert', conv_layer='gat', accuracy=0.8190045248868778, recall=0.7433628318584071, precision=0.8842105263157894, f1=0.8076923076923077, roc_auc=0.8207554900032776, train_mean=0.31140641685176107, train_std=0.32909504498916864, val_mean=0.7643859727042062, val_std=0.264014428063883),\n Result(name='politifact', feature='bert', conv_layer='gcn', accuracy=0.7782805429864253, recall=0.6283185840707964, precision=0.9102564102564102, f1=0.743455497382199, roc_auc=0.7817518846279908, train_mean=0.3822727989804532, train_std=0.31579143206530225, val_mean=0.7411189896719796, val_std=0.26795567991240654),\n Result(name='politifact', feature='profile', conv_layer='gcn', accuracy=0.7782805429864253, recall=0.7964601769911505, precision=0.7758620689655172, f1=0.7860262008733624, roc_auc=0.7778597181252048, train_mean=0.46613600850105286, train_std=0.1434321113577385, val_mean=0.7685028416769845, val_std=0.07977766565967954),\n Result(name='politifact', feature='profile', conv_layer='sage', accuracy=0.7782805429864253, recall=0.7964601769911505, precision=0.7758620689655172, f1=0.7860262008733624, roc_auc=0.7778597181252048, train_mean=0.3932251249040876, train_std=0.14495583532678566, val_mean=0.8870213951383318, val_std=0.11642792622031639),\n Result(name='politifact', feature='profile', conv_layer='gat', accuracy=0.7737556561085973, recall=0.7345132743362832, precision=0.8058252427184466, f1=0.7685185185185185, roc_auc=0.774664044575549, train_mean=0.5132557758263179, train_std=0.1261220077716031, val_mean=0.8044605323246548, val_std=0.10312354229196935),\n Result(name='politifact', feature='spacy', conv_layer='gcn', accuracy=0.7692307692307693, recall=0.8053097345132744, precision=0.7583333333333333, f1=0.7811158798283262, roc_auc=0.7683956079973779, train_mean=0.37752741490091596, train_std=0.2186498372617421, val_mean=0.6193121058600289, val_std=0.10951633089365465),\n Result(name='politifact', feature='spacy', conv_layer='gat', accuracy=0.755656108597285, recall=0.7522123893805309, precision=0.7657657657657657, f1=0.7589285714285714, roc_auc=0.7557358243198952, train_mean=0.4856467983552388, train_std=0.15145906234463244, val_mean=0.6146994812147958, val_std=0.12749702515444103),\n Result(name='politifact', feature='spacy', conv_layer='sage', accuracy=0.751131221719457, recall=0.5752212389380531, precision=0.9027777777777778, f1=0.7027027027027027, roc_auc=0.7552032120616192, train_mean=0.5024844071694783, train_std=0.15851444813403626, val_mean=0.6532390500817981, val_std=0.1725305188636473),\n Result(name='gossipcop', feature='bert', conv_layer='gcn', accuracy=0.7224255096706743, recall=0.5146137787056367, precision=0.8819320214669052, f1=0.6499670402109426, roc_auc=0.7227519155308287, train_mean=0.48721987571981223, train_std=0.11492174150368616, val_mean=0.5353732480321611, val_std=0.08103577175908053),\n Result(name='gossipcop', feature='content', conv_layer='gcn', accuracy=0.4992158912702561, recall=0.0, precision=0.0, f1=0.0, roc_auc=0.5, train_mean=0.6938733025202675, train_std=0.004758253965691651, val_mean=0.6930323236329216, val_std=0.0003000963774091627),\n Result(name='gossipcop', feature='content', conv_layer='sage', accuracy=0.4992158912702561, recall=0.0, precision=0.0, f1=0.0, roc_auc=0.5, train_mean=0.6938011447588602, train_std=0.004448789344657665, val_mean=0.6929228179795401, val_std=0.00044207214818106443),\n Result(name='gossipcop', feature='content', conv_layer='gat', accuracy=0.4992158912702561, recall=0.0, precision=0.0, f1=0.0, roc_auc=0.5, train_mean=0.6932501588548933, train_std=0.0011067176696303623, val_mean=0.6930222426142011, val_std=0.0001072255910910358),\n Result(name='gossipcop', feature='bert', conv_layer='gat', accuracy=0.4992158912702561, recall=0.0, precision=0.0, f1=0.0, roc_auc=0.5, train_mean=0.6945955936870879, train_std=0.008723994276366264, val_mean=0.6930021044186182, val_std=0.00019598177234144467),\n Result(name='gossipcop', feature='profile', conv_layer='gat', accuracy=0.4992158912702561, recall=0.0, precision=0.0, f1=0.0, roc_auc=0.5, train_mean=0.6931171012303187, train_std=0.0002465692932182305, val_mean=0.6929468754359654, val_std=0.0003323020072216748),\n Result(name='gossipcop', feature='spacy', conv_layer='gcn', accuracy=0.4992158912702561, recall=0.0, precision=0.0, f1=0.0, roc_auc=0.5, train_mean=0.6931127637151686, train_std=0.0002482641093617017, val_mean=0.6930130948339189, val_std=4.978903416257608e-05),\n Result(name='gossipcop', feature='spacy', conv_layer='sage', accuracy=0.4992158912702561, recall=0.0, precision=0.0, f1=0.0, roc_auc=0.5, train_mean=0.6931996831818233, train_std=0.00048127285746308104, val_mean=0.6930167085783823, val_std=6.030505715965336e-05),\n Result(name='gossipcop', feature='spacy', conv_layer='gat', accuracy=0.4992158912702561, recall=0.0, precision=0.0, f1=0.0, roc_auc=0.5, train_mean=0.6931857540493921, train_std=0.000549424342216635, val_mean=0.6930030424254282, val_std=1.6490876542306992e-05),\n Result(name='politifact', feature='content', conv_layer='gcn', accuracy=0.48868778280542985, recall=0.0, precision=0.0, f1=0.0, roc_auc=0.5, train_mean=0.7095756939479283, train_std=0.1658919030799116, val_mean=0.7720775144440787, val_std=0.25988684713373084),\n Result(name='politifact', feature='content', conv_layer='sage', accuracy=0.48868778280542985, recall=0.0, precision=0.0, f1=0.0, roc_auc=0.5, train_mean=0.688100688798087, train_std=0.03156202142246975, val_mean=0.7532947421073913, val_std=0.08459306034177197),\n Result(name='politifact', feature='content', conv_layer='gat', accuracy=0.48868778280542985, recall=0.0, precision=0.0, f1=0.0, roc_auc=0.5, train_mean=0.6827203256743295, train_std=0.01774530337805803, val_mean=0.7326760751860483, val_std=0.04840817256404414)]"
     },
     "execution_count": 10,
     "metadata": {},
     "output_type": "execute_result"
    }
   ],
   "source": [
    "sorted(results, key=lambda x: x.accuracy, reverse=True)"
   ],
   "metadata": {
    "collapsed": false,
    "ExecuteTime": {
     "end_time": "2024-11-24T12:52:53.810031146Z",
     "start_time": "2024-11-24T12:52:53.766448261Z"
    }
   },
   "id": "49a1b71deece2333",
   "execution_count": 10
  },
  {
   "cell_type": "code",
   "outputs": [],
   "source": [
    "df = pd.DataFrame(results)\n",
    "df.to_csv('./results/upfdsingle.csv')"
   ],
   "metadata": {
    "collapsed": false
   },
   "id": "7470869939cfa7db",
   "execution_count": null
  },
  {
   "cell_type": "markdown",
   "source": [
    "# Multi Feature "
   ],
   "metadata": {
    "collapsed": false
   },
   "id": "ce3e563d23e57dbe"
  },
  {
   "cell_type": "code",
   "outputs": [
    {
     "data": {
      "text/plain": "Combinations:   0%|          | 0/18 [00:00<?, ?it/s]",
      "application/vnd.jupyter.widget-view+json": {
       "version_major": 2,
       "version_minor": 0,
       "model_id": "9911287f2bbc4b33a6cd616549c5f90a"
      }
     },
     "metadata": {},
     "output_type": "display_data"
    },
    {
     "data": {
      "text/plain": "Training:   0%|          | 0/35 [00:00<?, ?it/s]",
      "application/vnd.jupyter.widget-view+json": {
       "version_major": 2,
       "version_minor": 0,
       "model_id": "525f0dba4c2a4724be2a86d91192f1b9"
      }
     },
     "metadata": {},
     "output_type": "display_data"
    },
    {
     "data": {
      "text/plain": "Training:   0%|          | 0/35 [00:00<?, ?it/s]",
      "application/vnd.jupyter.widget-view+json": {
       "version_major": 2,
       "version_minor": 0,
       "model_id": "d6d73b936a204965a70f0e5752a6b98f"
      }
     },
     "metadata": {},
     "output_type": "display_data"
    },
    {
     "data": {
      "text/plain": "Training:   0%|          | 0/35 [00:00<?, ?it/s]",
      "application/vnd.jupyter.widget-view+json": {
       "version_major": 2,
       "version_minor": 0,
       "model_id": "dcba257755bf46c680f9a146979a1720"
      }
     },
     "metadata": {},
     "output_type": "display_data"
    },
    {
     "data": {
      "text/plain": "Training:   0%|          | 0/35 [00:00<?, ?it/s]",
      "application/vnd.jupyter.widget-view+json": {
       "version_major": 2,
       "version_minor": 0,
       "model_id": "a4293441e94349c290a1e30462c60cd4"
      }
     },
     "metadata": {},
     "output_type": "display_data"
    },
    {
     "data": {
      "text/plain": "Training:   0%|          | 0/35 [00:00<?, ?it/s]",
      "application/vnd.jupyter.widget-view+json": {
       "version_major": 2,
       "version_minor": 0,
       "model_id": "b1717aba341a421baf7b40fdcf9fa1f9"
      }
     },
     "metadata": {},
     "output_type": "display_data"
    },
    {
     "data": {
      "text/plain": "Training:   0%|          | 0/35 [00:00<?, ?it/s]",
      "application/vnd.jupyter.widget-view+json": {
       "version_major": 2,
       "version_minor": 0,
       "model_id": "2f23af719d9d4078858213f96a339d6d"
      }
     },
     "metadata": {},
     "output_type": "display_data"
    },
    {
     "data": {
      "text/plain": "Training:   0%|          | 0/35 [00:00<?, ?it/s]",
      "application/vnd.jupyter.widget-view+json": {
       "version_major": 2,
       "version_minor": 0,
       "model_id": "00cab4d1876e47748e2d4bcca5db507d"
      }
     },
     "metadata": {},
     "output_type": "display_data"
    },
    {
     "data": {
      "text/plain": "Training:   0%|          | 0/35 [00:00<?, ?it/s]",
      "application/vnd.jupyter.widget-view+json": {
       "version_major": 2,
       "version_minor": 0,
       "model_id": "ba9d6730d3934e1bafd4f192b7f4c9eb"
      }
     },
     "metadata": {},
     "output_type": "display_data"
    },
    {
     "data": {
      "text/plain": "Training:   0%|          | 0/35 [00:00<?, ?it/s]",
      "application/vnd.jupyter.widget-view+json": {
       "version_major": 2,
       "version_minor": 0,
       "model_id": "d3928ffe80c14761bcd47518b771997e"
      }
     },
     "metadata": {},
     "output_type": "display_data"
    },
    {
     "data": {
      "text/plain": "Training:   0%|          | 0/35 [00:00<?, ?it/s]",
      "application/vnd.jupyter.widget-view+json": {
       "version_major": 2,
       "version_minor": 0,
       "model_id": "d4bf321058714a788be09f57e6202bf9"
      }
     },
     "metadata": {},
     "output_type": "display_data"
    },
    {
     "data": {
      "text/plain": "Training:   0%|          | 0/35 [00:00<?, ?it/s]",
      "application/vnd.jupyter.widget-view+json": {
       "version_major": 2,
       "version_minor": 0,
       "model_id": "280aaa6eec9a4ed598cfe200d2131f4d"
      }
     },
     "metadata": {},
     "output_type": "display_data"
    },
    {
     "data": {
      "text/plain": "Training:   0%|          | 0/35 [00:00<?, ?it/s]",
      "application/vnd.jupyter.widget-view+json": {
       "version_major": 2,
       "version_minor": 0,
       "model_id": "97ea26b7e55d40e79d5ae01b43820fc1"
      }
     },
     "metadata": {},
     "output_type": "display_data"
    },
    {
     "data": {
      "text/plain": "Training:   0%|          | 0/35 [00:00<?, ?it/s]",
      "application/vnd.jupyter.widget-view+json": {
       "version_major": 2,
       "version_minor": 0,
       "model_id": "c6534068950f4b71ad52641b1c89cf4a"
      }
     },
     "metadata": {},
     "output_type": "display_data"
    },
    {
     "data": {
      "text/plain": "Training:   0%|          | 0/35 [00:00<?, ?it/s]",
      "application/vnd.jupyter.widget-view+json": {
       "version_major": 2,
       "version_minor": 0,
       "model_id": "bcc919c1c30f4783a990d6fd7ef6c18d"
      }
     },
     "metadata": {},
     "output_type": "display_data"
    },
    {
     "data": {
      "text/plain": "Training:   0%|          | 0/35 [00:00<?, ?it/s]",
      "application/vnd.jupyter.widget-view+json": {
       "version_major": 2,
       "version_minor": 0,
       "model_id": "b36d04420ecc4a10a02ce6f21db47dd0"
      }
     },
     "metadata": {},
     "output_type": "display_data"
    },
    {
     "data": {
      "text/plain": "Training:   0%|          | 0/35 [00:00<?, ?it/s]",
      "application/vnd.jupyter.widget-view+json": {
       "version_major": 2,
       "version_minor": 0,
       "model_id": "e44b83e188094ec3937d0bc29747e53c"
      }
     },
     "metadata": {},
     "output_type": "display_data"
    },
    {
     "data": {
      "text/plain": "Training:   0%|          | 0/35 [00:00<?, ?it/s]",
      "application/vnd.jupyter.widget-view+json": {
       "version_major": 2,
       "version_minor": 0,
       "model_id": "ca3975e599e24a9a8d0539ef02ee3263"
      }
     },
     "metadata": {},
     "output_type": "display_data"
    },
    {
     "data": {
      "text/plain": "Training:   0%|          | 0/35 [00:00<?, ?it/s]",
      "application/vnd.jupyter.widget-view+json": {
       "version_major": 2,
       "version_minor": 0,
       "model_id": "61132c1d1ba443359dfbbf7db974615d"
      }
     },
     "metadata": {},
     "output_type": "display_data"
    }
   ],
   "source": [
    "results = []\n",
    "\n",
    "feature_combs = [\n",
    "    ['content', 'bert'],\n",
    "    ['bert', 'profile'],\n",
    "    ['profile', 'spacy']\n",
    "]\n",
    "\n",
    "for name, conv_layer, features in tqdm(list(product(names, conv_layers, feature_combs)), desc=\"Combinations\"):\n",
    "    train_multidataset = MultiFeatureDataset(features=features, name=name, split='train')\n",
    "    val_multidataset = MultiFeatureDataset(features=features, name=name, split='val')\n",
    "    test_multidataset = MultiFeatureDataset(features=features, name=name, split='test')\n",
    "    \n",
    "    multi_trainloader = DataLoader(train_multidataset, batch_size=config.batch_size, shuffle=True)\n",
    "    multi_valloader = DataLoader(val_multidataset, batch_size=config.batch_size, shuffle=False)\n",
    "    multi_testloader = DataLoader(test_multidataset, batch_size=config.batch_size, shuffle=False)\n",
    "    \n",
    "    \n",
    "    model = MultiFeatureNet(features=features, conv_layer=conv_layer, hidden_dim=config.hidden_dim, out_dim=train_dataset.num_classes, dropout=0.2).to(device)\n",
    "    optimizer = torch.optim.Adam(model.parameters(), lr=config.lr, weight_decay=config.l2)   \n",
    "\n",
    "    train_losses = []\n",
    "    val_losses = []\n",
    "\n",
    "    for epoch in tqdm(range(config.epochs), desc=f\"Training\"):\n",
    "        train_loss = train_multi(model, optimizer, multi_trainloader, device)\n",
    "        train_losses.append(train_loss)\n",
    "        \n",
    "        val_loss = validate_multi(model, multi_valloader, device)\n",
    "        val_losses.append(val_loss)\n",
    "    \n",
    "    acc, recall, precision, f1, roc_auc = test_multi(model, multi_testloader, device)\n",
    "    train_mean, train_std = np.mean(train_losses), np.std(train_losses)\n",
    "    val_mean, val_std = np.mean(val_losses), np.std(val_losses)\n",
    "    \n",
    "    curr_result = Result(name=name, feature=features, conv_layer=conv_layer, accuracy=acc, recall=recall, precision=precision, f1=f1, roc_auc=roc_auc, train_mean=train_mean, train_std=train_std, val_mean=val_mean, val_std=val_std)\n",
    "    results.append(curr_result)"
   ],
   "metadata": {
    "collapsed": false,
    "ExecuteTime": {
     "end_time": "2024-11-24T13:05:36.189063201Z",
     "start_time": "2024-11-24T13:01:32.870275944Z"
    }
   },
   "id": "85da1b64780934f3",
   "execution_count": 11
  },
  {
   "cell_type": "code",
   "outputs": [
    {
     "data": {
      "text/plain": "[Result(name='gossipcop', feature=['profile', 'spacy'], conv_layer='gcn', accuracy=0.886565603763722, recall=0.8736951983298539, precision=0.8971061093247589, f1=0.8852459016393442, roc_auc=0.8865858190602149, train_mean=0.3909036320826364, train_std=0.11549562313213929, val_mean=0.35667731710842676, val_std=0.10845623596922518),\n Result(name='politifact', feature=['bert', 'profile'], conv_layer='gcn', accuracy=0.8144796380090498, recall=0.7699115044247787, precision=0.8529411764705882, f1=0.8093023255813954, roc_auc=0.815511307767945, train_mean=0.48985475919076377, train_std=0.2177668398593816, val_mean=0.6985216447285243, val_std=0.21108581371246923),\n Result(name='politifact', feature=['bert', 'profile'], conv_layer='sage', accuracy=0.8054298642533937, recall=0.7522123893805309, precision=0.85, f1=0.7981220657276995, roc_auc=0.8066617502458212, train_mean=0.43222819162266596, train_std=0.2000714532179779, val_mean=0.7906945960862296, val_std=0.2640786625236671),\n Result(name='politifact', feature=['profile', 'spacy'], conv_layer='gcn', accuracy=0.7963800904977375, recall=0.6902654867256637, precision=0.8863636363636364, f1=0.7761194029850746, roc_auc=0.7988364470665356, train_mean=0.5524108678102493, train_std=0.20752095908385865, val_mean=0.7200276306697301, val_std=0.33186645442768714),\n Result(name='politifact', feature=['content', 'bert'], conv_layer='gat', accuracy=0.7963800904977375, recall=0.7079646017699115, precision=0.8695652173913043, f1=0.7804878048780488, roc_auc=0.7984267453294002, train_mean=0.6370743300233569, train_std=0.10581405957208892, val_mean=0.7301455310412815, val_std=0.10055079820148344),\n Result(name='politifact', feature=['bert', 'profile'], conv_layer='gat', accuracy=0.7918552036199095, recall=0.7079646017699115, precision=0.8602150537634409, f1=0.7766990291262136, roc_auc=0.7937971156997705, train_mean=0.4202709086239338, train_std=0.2321914214371772, val_mean=0.8654033763068063, val_std=0.262444797633667),\n Result(name='politifact', feature=['profile', 'spacy'], conv_layer='sage', accuracy=0.7873303167420814, recall=0.831858407079646, precision=0.7704918032786885, f1=0.8, roc_auc=0.7862995739101932, train_mean=0.5222227177449635, train_std=0.15937881352103156, val_mean=0.8043846539088658, val_std=0.13732712488189364),\n Result(name='politifact', feature=['profile', 'spacy'], conv_layer='gat', accuracy=0.7782805429864253, recall=0.7699115044247787, precision=0.7909090909090909, f1=0.7802690582959642, roc_auc=0.7784742707309079, train_mean=0.5442593455314636, train_std=0.1548663988554901, val_mean=0.6867048944745745, val_std=0.14198868753219535),\n Result(name='gossipcop', feature=['content', 'bert'], conv_layer='sage', accuracy=0.7219027705175117, recall=0.4989561586638831, precision=0.9018867924528302, f1=0.6424731182795699, roc_auc=0.7222529484418893, train_mean=0.5609369656396291, train_std=0.0658489374197639, val_mean=0.5301362046173641, val_std=0.08189869576312374),\n Result(name='politifact', feature=['content', 'bert'], conv_layer='gcn', accuracy=0.7104072398190046, recall=0.5132743362831859, precision=0.8656716417910447, f1=0.6444444444444445, roc_auc=0.7149705014749262, train_mean=0.5730743438005448, train_std=0.16542518694396185, val_mean=0.7230064528329032, val_std=0.20667055383694097),\n Result(name='politifact', feature=['content', 'bert'], conv_layer='sage', accuracy=0.6968325791855203, recall=0.4690265486725664, precision=0.8833333333333333, f1=0.6127167630057804, roc_auc=0.7021058669288759, train_mean=0.6653593518904277, train_std=0.2344602847553428, val_mean=0.7882390448025295, val_std=0.3272326265963679),\n Result(name='gossipcop', feature=['content', 'bert'], conv_layer='gcn', accuracy=0.4992158912702561, recall=0.0, precision=0.0, f1=0.0, roc_auc=0.5, train_mean=0.6954790437032307, train_std=0.013569413618557192, val_mean=0.6930543616839817, val_std=0.00014377021022219554),\n Result(name='gossipcop', feature=['bert', 'profile'], conv_layer='gcn', accuracy=0.4992158912702561, recall=0.0, precision=0.0, f1=0.0, roc_auc=0.5, train_mean=0.6933584285160851, train_std=0.001378364397519622, val_mean=0.6930087014607021, val_std=0.0001313371064490823),\n Result(name='gossipcop', feature=['bert', 'profile'], conv_layer='sage', accuracy=0.4992158912702561, recall=0.0, precision=0.0, f1=0.0, roc_auc=0.5, train_mean=0.6931554516156513, train_std=0.00035508475593205516, val_mean=0.6929675364494324, val_std=0.00015291391527096605),\n Result(name='gossipcop', feature=['profile', 'spacy'], conv_layer='sage', accuracy=0.4992158912702561, recall=0.0, precision=0.0, f1=0.0, roc_auc=0.5, train_mean=0.693150117851439, train_std=0.0004711885138538723, val_mean=0.6929884852681841, val_std=0.00010507331233101296),\n Result(name='gossipcop', feature=['content', 'bert'], conv_layer='gat', accuracy=0.4992158912702561, recall=0.0, precision=0.0, f1=0.0, roc_auc=0.5, train_mean=0.6936606117657252, train_std=0.0034445465836650205, val_mean=0.6930033036640713, val_std=2.880295955969891e-05),\n Result(name='gossipcop', feature=['bert', 'profile'], conv_layer='gat', accuracy=0.4992158912702561, recall=0.0, precision=0.0, f1=0.0, roc_auc=0.5, train_mean=0.6936028401056925, train_std=0.0031343639781601373, val_mean=0.6930070005144391, val_std=2.833327710679799e-05),\n Result(name='gossipcop', feature=['profile', 'spacy'], conv_layer='gat', accuracy=0.4992158912702561, recall=0.0, precision=0.0, f1=0.0, roc_auc=0.5, train_mean=0.6931370948988295, train_std=0.0003196050290093026, val_mean=0.6929696573529924, val_std=0.0002444670826597491)]"
     },
     "execution_count": 12,
     "metadata": {},
     "output_type": "execute_result"
    }
   ],
   "source": [
    "sorted(results, key=lambda x: x.accuracy, reverse=True)"
   ],
   "metadata": {
    "collapsed": false,
    "ExecuteTime": {
     "end_time": "2024-11-24T13:13:25.388165652Z",
     "start_time": "2024-11-24T13:13:25.346575314Z"
    }
   },
   "id": "beac660d1d72e8fa",
   "execution_count": 12
  },
  {
   "cell_type": "code",
   "outputs": [],
   "source": [
    "df = pd.DataFrame(results)\n",
    "df.to_csv('./results/multifeature.csv')"
   ],
   "metadata": {
    "collapsed": false,
    "ExecuteTime": {
     "end_time": "2024-11-19T22:40:56.949953886Z",
     "start_time": "2024-11-19T22:40:56.918348672Z"
    }
   },
   "id": "3c6cff1c59019dd1",
   "execution_count": 9
  },
  {
   "cell_type": "markdown",
   "source": [
    "# Parallel Feature"
   ],
   "metadata": {
    "collapsed": false
   },
   "id": "dc32ad5f04fc2717"
  },
  {
   "cell_type": "code",
   "outputs": [
    {
     "data": {
      "text/plain": "Combinations:   0%|          | 0/18 [00:00<?, ?it/s]",
      "application/vnd.jupyter.widget-view+json": {
       "version_major": 2,
       "version_minor": 0,
       "model_id": "a3a61b0e27b2480bb0c7c56c33427f39"
      }
     },
     "metadata": {},
     "output_type": "display_data"
    },
    {
     "data": {
      "text/plain": "Training:   0%|          | 0/35 [00:00<?, ?it/s]",
      "application/vnd.jupyter.widget-view+json": {
       "version_major": 2,
       "version_minor": 0,
       "model_id": "8929b86c2a484aff80730e37fd611102"
      }
     },
     "metadata": {},
     "output_type": "display_data"
    },
    {
     "data": {
      "text/plain": "Training:   0%|          | 0/35 [00:00<?, ?it/s]",
      "application/vnd.jupyter.widget-view+json": {
       "version_major": 2,
       "version_minor": 0,
       "model_id": "dcf53c84be4c46bc837d6e08d8ecb437"
      }
     },
     "metadata": {},
     "output_type": "display_data"
    },
    {
     "data": {
      "text/plain": "Training:   0%|          | 0/35 [00:00<?, ?it/s]",
      "application/vnd.jupyter.widget-view+json": {
       "version_major": 2,
       "version_minor": 0,
       "model_id": "0b6256727d1e4833beb7980e93cc1b6f"
      }
     },
     "metadata": {},
     "output_type": "display_data"
    },
    {
     "data": {
      "text/plain": "Training:   0%|          | 0/35 [00:00<?, ?it/s]",
      "application/vnd.jupyter.widget-view+json": {
       "version_major": 2,
       "version_minor": 0,
       "model_id": "403dc72f946a4396bc69090fb28d90b6"
      }
     },
     "metadata": {},
     "output_type": "display_data"
    },
    {
     "data": {
      "text/plain": "Training:   0%|          | 0/35 [00:00<?, ?it/s]",
      "application/vnd.jupyter.widget-view+json": {
       "version_major": 2,
       "version_minor": 0,
       "model_id": "4060163f21e84b68b8537886b055ee38"
      }
     },
     "metadata": {},
     "output_type": "display_data"
    },
    {
     "data": {
      "text/plain": "Training:   0%|          | 0/35 [00:00<?, ?it/s]",
      "application/vnd.jupyter.widget-view+json": {
       "version_major": 2,
       "version_minor": 0,
       "model_id": "2c9bfda588e04f2593af1a7cfef688f8"
      }
     },
     "metadata": {},
     "output_type": "display_data"
    },
    {
     "data": {
      "text/plain": "Training:   0%|          | 0/35 [00:00<?, ?it/s]",
      "application/vnd.jupyter.widget-view+json": {
       "version_major": 2,
       "version_minor": 0,
       "model_id": "0bc16e4b33b948c49e1d487879c6eee5"
      }
     },
     "metadata": {},
     "output_type": "display_data"
    },
    {
     "data": {
      "text/plain": "Training:   0%|          | 0/35 [00:00<?, ?it/s]",
      "application/vnd.jupyter.widget-view+json": {
       "version_major": 2,
       "version_minor": 0,
       "model_id": "5efb63e38945487ea3b09e2add50198d"
      }
     },
     "metadata": {},
     "output_type": "display_data"
    },
    {
     "data": {
      "text/plain": "Training:   0%|          | 0/35 [00:00<?, ?it/s]",
      "application/vnd.jupyter.widget-view+json": {
       "version_major": 2,
       "version_minor": 0,
       "model_id": "8c83c8ba73d545bf8db025efd5c305d8"
      }
     },
     "metadata": {},
     "output_type": "display_data"
    },
    {
     "data": {
      "text/plain": "Training:   0%|          | 0/35 [00:00<?, ?it/s]",
      "application/vnd.jupyter.widget-view+json": {
       "version_major": 2,
       "version_minor": 0,
       "model_id": "3353f938757f453d97f65c356822ccc4"
      }
     },
     "metadata": {},
     "output_type": "display_data"
    },
    {
     "data": {
      "text/plain": "Training:   0%|          | 0/35 [00:00<?, ?it/s]",
      "application/vnd.jupyter.widget-view+json": {
       "version_major": 2,
       "version_minor": 0,
       "model_id": "3d2d52098ce9426aafe55cfcd2adc0aa"
      }
     },
     "metadata": {},
     "output_type": "display_data"
    },
    {
     "data": {
      "text/plain": "Training:   0%|          | 0/35 [00:00<?, ?it/s]",
      "application/vnd.jupyter.widget-view+json": {
       "version_major": 2,
       "version_minor": 0,
       "model_id": "96ecd897ff5b4714b64b86f572b3bb90"
      }
     },
     "metadata": {},
     "output_type": "display_data"
    },
    {
     "data": {
      "text/plain": "Training:   0%|          | 0/35 [00:00<?, ?it/s]",
      "application/vnd.jupyter.widget-view+json": {
       "version_major": 2,
       "version_minor": 0,
       "model_id": "6b04c0401b87474486b8d9f4d0c80aba"
      }
     },
     "metadata": {},
     "output_type": "display_data"
    },
    {
     "data": {
      "text/plain": "Training:   0%|          | 0/35 [00:00<?, ?it/s]",
      "application/vnd.jupyter.widget-view+json": {
       "version_major": 2,
       "version_minor": 0,
       "model_id": "c4042079efdd4c9185ccce6f9c1aaa64"
      }
     },
     "metadata": {},
     "output_type": "display_data"
    },
    {
     "data": {
      "text/plain": "Training:   0%|          | 0/35 [00:00<?, ?it/s]",
      "application/vnd.jupyter.widget-view+json": {
       "version_major": 2,
       "version_minor": 0,
       "model_id": "2e0f825d956b4a02b75981946350c279"
      }
     },
     "metadata": {},
     "output_type": "display_data"
    },
    {
     "data": {
      "text/plain": "Training:   0%|          | 0/35 [00:00<?, ?it/s]",
      "application/vnd.jupyter.widget-view+json": {
       "version_major": 2,
       "version_minor": 0,
       "model_id": "8cbc4bcf6b204c9d94af5ca4054f906a"
      }
     },
     "metadata": {},
     "output_type": "display_data"
    },
    {
     "data": {
      "text/plain": "Training:   0%|          | 0/35 [00:00<?, ?it/s]",
      "application/vnd.jupyter.widget-view+json": {
       "version_major": 2,
       "version_minor": 0,
       "model_id": "40c51dcbc4094f81bb87d36da43e1db7"
      }
     },
     "metadata": {},
     "output_type": "display_data"
    },
    {
     "data": {
      "text/plain": "Training:   0%|          | 0/35 [00:00<?, ?it/s]",
      "application/vnd.jupyter.widget-view+json": {
       "version_major": 2,
       "version_minor": 0,
       "model_id": "53631177f6514ed6b6e97edfddb5fe61"
      }
     },
     "metadata": {},
     "output_type": "display_data"
    }
   ],
   "source": [
    "results = []\n",
    "\n",
    "feature_combs = [\n",
    "    ['content', 'bert'],\n",
    "    ['bert', 'profile'],\n",
    "    ['profile', 'spacy']\n",
    "]\n",
    "\n",
    "for name, conv_layer, features in tqdm(list(product(names, conv_layers, feature_combs)), desc=\"Combinations\"):\n",
    "    train_multidataset = MultiFeatureDataset(features=features, name=name, split='train')\n",
    "    val_multidataset = MultiFeatureDataset(features=features, name=name, split='val')\n",
    "    test_multidataset = MultiFeatureDataset(features=features, name=name, split='test')\n",
    "    \n",
    "    multi_trainloader = DataLoader(train_multidataset, batch_size=config.batch_size, shuffle=True)\n",
    "    multi_valloader = DataLoader(val_multidataset, batch_size=config.batch_size, shuffle=False)\n",
    "    multi_testloader = DataLoader(test_multidataset, batch_size=config.batch_size, shuffle=False)\n",
    "    \n",
    "    \n",
    "    model = ParallelFeatureNet(features=features, conv_layer=conv_layer, hidden_dim=config.hidden_dim, out_dim=train_dataset.num_classes, dropout=0.2).to(device)\n",
    "    optimizer = torch.optim.Adam(model.parameters(), lr=config.lr, weight_decay=config.l2)   \n",
    "\n",
    "    train_losses = []\n",
    "    val_losses = []\n",
    "\n",
    "    for epoch in tqdm(range(config.epochs), desc=f\"Training\"):\n",
    "        train_loss = train_multi(model, optimizer, multi_trainloader, device)\n",
    "        train_losses.append(train_loss)\n",
    "        \n",
    "        val_loss = validate_multi(model, multi_valloader, device)\n",
    "        val_losses.append(val_loss)\n",
    "    \n",
    "    acc, recall, precision, f1, roc_auc = test_multi(model, multi_testloader, device)\n",
    "    train_mean, train_std = np.mean(train_losses), np.std(train_losses)\n",
    "    val_mean, val_std = np.mean(val_losses), np.std(val_losses)\n",
    "    \n",
    "    curr_result = Result(name=name, feature=features, conv_layer=conv_layer, accuracy=acc, recall=recall, precision=precision, f1=f1, roc_auc=roc_auc, train_mean=train_mean, train_std=train_std, val_mean=val_mean, val_std=val_std)\n",
    "    results.append(curr_result)"
   ],
   "metadata": {
    "collapsed": false,
    "ExecuteTime": {
     "end_time": "2024-11-24T13:18:27.420320768Z",
     "start_time": "2024-11-24T13:13:35.683123574Z"
    }
   },
   "id": "a68d9507a3be13",
   "execution_count": 13
  },
  {
   "cell_type": "code",
   "outputs": [
    {
     "data": {
      "text/plain": "[Result(name='gossipcop', feature=['profile', 'spacy'], conv_layer='sage', accuracy=0.9231573444851019, recall=0.9008350730688935, precision=0.9431693989071038, f1=0.9215162840363054, roc_auc=0.9231924056443944, train_mean=0.41325491858380187, train_std=0.157092479251925, val_mean=0.3728804755210877, val_std=0.12467048910101622),\n Result(name='gossipcop', feature=['profile', 'spacy'], conv_layer='gat', accuracy=0.797961317302666, recall=0.6617954070981211, precision=0.9102656137832017, f1=0.7663946811725597, roc_auc=0.7981751904600553, train_mean=0.5782906344012608, train_std=0.050314190506717676, val_mean=0.5278170565196446, val_std=0.06888627621532191),\n Result(name='politifact', feature=['profile', 'spacy'], conv_layer='gat', accuracy=0.7963800904977375, recall=0.6902654867256637, precision=0.8863636363636364, f1=0.7761194029850746, roc_auc=0.7988364470665356, train_mean=0.3998149220432554, train_std=0.1592850138686564, val_mean=0.5820902381624494, val_std=0.13794624485975798),\n Result(name='politifact', feature=['profile', 'spacy'], conv_layer='sage', accuracy=0.7918552036199095, recall=0.8584070796460177, precision=0.7637795275590551, f1=0.8083333333333333, roc_auc=0.7903146509341199, train_mean=0.4784900635480881, train_std=0.1415064356552185, val_mean=0.7318312832287379, val_std=0.13829753746000847),\n Result(name='politifact', feature=['profile', 'spacy'], conv_layer='gcn', accuracy=0.7828054298642534, recall=0.6637168141592921, precision=0.8823529411764706, f1=0.7575757575757576, roc_auc=0.7855621107833497, train_mean=0.46813332183020456, train_std=0.16162522007688884, val_mean=0.5829154210431235, val_std=0.15343281792085653),\n Result(name='gossipcop', feature=['bert', 'profile'], conv_layer='gcn', accuracy=0.7561421850496602, recall=0.6795407098121086, precision=0.8032078963602715, f1=0.7362171331636981, roc_auc=0.7562625015029129, train_mean=0.59058450640194, train_std=0.1530413644947202, val_mean=0.5745264867373875, val_std=0.08622259943810393),\n Result(name='gossipcop', feature=['profile', 'spacy'], conv_layer='gcn', accuracy=0.7271301620491375, recall=0.81419624217119, precision=0.693950177935943, f1=0.7492795389048992, roc_auc=0.7269934090437102, train_mean=0.6297397479178414, train_std=0.018472096179715753, val_mean=0.6206966686248779, val_std=0.03428497410834612),\n Result(name='politifact', feature=['content', 'bert'], conv_layer='gcn', accuracy=0.6877828054298643, recall=0.8761061946902655, precision=0.6428571428571429, f1=0.7415730337078652, roc_auc=0.6834234677155031, train_mean=1.1199910010610308, train_std=1.3772262671656819, val_mean=1.1905130761010305, val_std=1.2083428709370831),\n Result(name='politifact', feature=['bert', 'profile'], conv_layer='sage', accuracy=0.6787330316742082, recall=0.8849557522123894, precision=0.6329113924050633, f1=0.7380073800738007, roc_auc=0.6739593575876761, train_mean=1.0982809441430228, train_std=1.2741341881624355, val_mean=1.2088110753468104, val_std=1.6036242246778882),\n Result(name='politifact', feature=['bert', 'profile'], conv_layer='gcn', accuracy=0.6561085972850679, recall=0.34513274336283184, precision=0.9512195121951219, f1=0.5064935064935064, roc_auc=0.6633071124221567, train_mean=0.777004386484623, train_std=0.9232055551574196, val_mean=0.9270774304866791, val_std=0.6207408330549554),\n Result(name='gossipcop', feature=['content', 'bert'], conv_layer='gcn', accuracy=0.638003136434919, recall=0.9618997912317327, precision=0.5841521394611727, f1=0.7268783277460067, roc_auc=0.6374943982336674, train_mean=0.6842601963451932, train_std=0.3452421726130253, val_mean=0.6448611625603267, val_std=0.09324905338269297),\n Result(name='politifact', feature=['content', 'bert'], conv_layer='parma', accuracy=0.5113122171945701, recall=1.0, precision=0.5113122171945701, f1=0.6766467065868264, roc_auc=0.5, train_mean=59.73796893358231, train_std=120.5134044377239, val_mean=64.11658168860845, val_std=119.54579345481345),\n Result(name='gossipcop', feature=['content', 'bert'], conv_layer='sage', accuracy=0.4992158912702561, recall=0.0, precision=0.0, f1=0.0, roc_auc=0.5, train_mean=0.7593737216222854, train_std=0.2818531410933189, val_mean=0.6982594002996173, val_std=0.05413218467600505),\n Result(name='gossipcop', feature=['bert', 'profile'], conv_layer='sage', accuracy=0.4992158912702561, recall=0.0, precision=0.0, f1=0.0, roc_auc=0.5, train_mean=0.7197474533603305, train_std=0.168059287426386, val_mean=0.6893299177714757, val_std=0.03600342955986118),\n Result(name='gossipcop', feature=['content', 'bert'], conv_layer='gat', accuracy=0.4992158912702561, recall=0.0, precision=0.0, f1=0.0, roc_auc=0.5, train_mean=0.7287921046453809, train_std=0.20282083982739454, val_mean=0.693379591873714, val_std=0.0012498947547852984),\n Result(name='gossipcop', feature=['bert', 'profile'], conv_layer='gat', accuracy=0.4992158912702561, recall=0.0, precision=0.0, f1=0.0, roc_auc=0.5, train_mean=0.7016509710796295, train_std=0.04776932024452249, val_mean=0.6918075520651681, val_std=0.01273915010079013),\n Result(name='gossipcop', feature=['content', 'bert'], conv_layer='parma', accuracy=0.4992158912702561, recall=0.0, precision=0.0, f1=0.0, roc_auc=0.5, train_mean=3348.3249695248073, train_std=19162.358941921975, val_mean=1.2724945735931397, val_std=3.2047321988004827),\n Result(name='gossipcop', feature=['bert', 'profile'], conv_layer='parma', accuracy=0.4992158912702561, recall=0.0, precision=0.0, f1=0.0, roc_auc=0.5, train_mean=23.425059813544866, train_std=117.19587985514198, val_mean=2.950790627683912, val_std=10.1954665283965),\n Result(name='gossipcop', feature=['profile', 'spacy'], conv_layer='parma', accuracy=0.4992158912702561, recall=0.0, precision=0.0, f1=0.0, roc_auc=0.5, train_mean=2.2196448136889746, train_std=7.9461096988583995, val_mean=0.8963128444126675, val_std=1.164140664238444),\n Result(name='politifact', feature=['content', 'bert'], conv_layer='sage', accuracy=0.48868778280542985, recall=0.0, precision=0.0, f1=0.0, roc_auc=0.5, train_mean=1.843556978872844, train_std=2.6396994905539577, val_mean=1.851881011894771, val_std=2.3279661294080247),\n Result(name='politifact', feature=['content', 'bert'], conv_layer='gat', accuracy=0.48868778280542985, recall=0.0, precision=0.0, f1=0.0, roc_auc=0.5, train_mean=0.8264530999319893, train_std=0.3872753121616908, val_mean=0.8792138389178685, val_std=0.46756942327519324),\n Result(name='politifact', feature=['bert', 'profile'], conv_layer='gat', accuracy=0.48868778280542985, recall=0.0, precision=0.0, f1=0.0, roc_auc=0.5, train_mean=0.7778208068438939, train_std=0.3656159426610696, val_mean=0.8279384970664978, val_std=0.39832973617833983),\n Result(name='politifact', feature=['bert', 'profile'], conv_layer='parma', accuracy=0.48868778280542985, recall=0.0, precision=0.0, f1=0.0, roc_auc=0.5, train_mean=35.88176174334117, train_std=124.74152131543822, val_mean=40.994652048179084, val_std=162.32405964834848),\n Result(name='politifact', feature=['profile', 'spacy'], conv_layer='parma', accuracy=0.48868778280542985, recall=0.0, precision=0.0, f1=0.0, roc_auc=0.5, train_mean=14.717491122654506, train_std=27.72375181714314, val_mean=16.078030845097132, val_std=36.247446059604606)]"
     },
     "execution_count": 9,
     "metadata": {},
     "output_type": "execute_result"
    }
   ],
   "source": [
    "sorted(results, key=lambda x: x.accuracy, reverse=True)"
   ],
   "metadata": {
    "collapsed": false,
    "ExecuteTime": {
     "end_time": "2024-11-18T13:34:07.332331428Z",
     "start_time": "2024-11-18T13:34:07.290526902Z"
    }
   },
   "id": "722990738c61012a",
   "execution_count": 9
  },
  {
   "cell_type": "code",
   "outputs": [],
   "source": [
    "df = pd.DataFrame(results)\n",
    "df.to_csv('./results/parallelfeature.csv')"
   ],
   "metadata": {
    "collapsed": false,
    "ExecuteTime": {
     "end_time": "2024-11-18T13:34:12.484378409Z",
     "start_time": "2024-11-18T13:34:12.472705833Z"
    }
   },
   "id": "48905ac405e59b81",
   "execution_count": 10
  },
  {
   "cell_type": "code",
   "outputs": [],
   "source": [
    "plt.plot(train_losses, label=\"Training loss\")\n",
    "plt.plot(val_losses, label=\"Validation loss\")\n",
    "plt.legend()\n",
    "plt.show()"
   ],
   "metadata": {
    "collapsed": false
   },
   "id": "6b2e1e62d1abd8b7",
   "execution_count": null
  },
  {
   "cell_type": "code",
   "outputs": [],
   "source": [
    "acc"
   ],
   "metadata": {
    "collapsed": false
   },
   "id": "70bced6f8e35c90c",
   "execution_count": null
  },
  {
   "cell_type": "code",
   "outputs": [],
   "source": [
    "train_mean, train_std"
   ],
   "metadata": {
    "collapsed": false
   },
   "id": "ef640ee1aadcb652",
   "execution_count": null
  },
  {
   "cell_type": "code",
   "outputs": [],
   "source": [
    "val_mean, val_std"
   ],
   "metadata": {
    "collapsed": false
   },
   "id": "6e5fb9b273cb17fc",
   "execution_count": null
  },
  {
   "cell_type": "code",
   "outputs": [],
   "source": [],
   "metadata": {
    "collapsed": false
   },
   "id": "2a1a16bd13aeb380"
  }
 ],
 "metadata": {
  "kernelspec": {
   "display_name": "Python 3",
   "language": "python",
   "name": "python3"
  },
  "language_info": {
   "codemirror_mode": {
    "name": "ipython",
    "version": 2
   },
   "file_extension": ".py",
   "mimetype": "text/x-python",
   "name": "python",
   "nbconvert_exporter": "python",
   "pygments_lexer": "ipython2",
   "version": "2.7.6"
  }
 },
 "nbformat": 4,
 "nbformat_minor": 5
}
