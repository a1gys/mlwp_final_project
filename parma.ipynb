{
 "cells": [
  {
   "cell_type": "code",
   "execution_count": 14,
   "id": "initial_id",
   "metadata": {
    "collapsed": true,
    "ExecuteTime": {
     "end_time": "2024-11-17T16:50:13.796182096Z",
     "start_time": "2024-11-17T16:50:13.755603645Z"
    }
   },
   "outputs": [],
   "source": [
    "from collections import namedtuple\n",
    "from itertools import product\n",
    "\n",
    "import torch\n",
    "import torch.nn as nn\n",
    "import torch.nn.functional as F\n",
    "import numpy as np\n",
    "import matplotlib.pyplot as plt\n",
    "import pandas as pd\n",
    "\n",
    "from torch_geometric.nn import global_mean_pool\n",
    "from torch_geometric.datasets import UPFD\n",
    "from torch_geometric.loader import DataLoader\n",
    "from tqdm.notebook import tqdm\n",
    "from box import Box\n",
    "from sklearn.metrics import accuracy_score\n",
    "\n",
    "from layers import PARMAImproved"
   ]
  },
  {
   "cell_type": "code",
   "outputs": [],
   "source": [
    "class PARMAGC(nn.Module):\n",
    "    \n",
    "    def __init__(self,\n",
    "                 in_dim,\n",
    "                 hidden_dim,\n",
    "                 out_dim,\n",
    "                 period,\n",
    "                 timestamps,\n",
    "                 dropout=0.2,\n",
    "                 lin_dim=16):\n",
    "        super(PARMAGC, self).__init__()\n",
    "        self.dropout = dropout\n",
    "        # self.conv1 = PARMA(in_dim, hidden_dim, period, timestamps, dropout=dropout)\n",
    "        self.conv1 = PARMAImproved(in_dim, hidden_dim, period, timestamps, dropout=dropout)\n",
    "        # self.conv2 = PARMA(hidden_dim, hidden_dim, period, timestamps, dropout=dropout)\n",
    "        # self.conv = PARMA(in_dim, hidden_dim, period, timestamps, dropout=dropout)\n",
    "        self.linear1 = nn.Linear(hidden_dim, hidden_dim)\n",
    "        self.linear2 = nn.Linear(hidden_dim, out_dim)\n",
    "    \n",
    "    def reset_parameters(self):\n",
    "        self.conv1.reset_parameters()\n",
    "        # self.conv2.reset_parameters()\n",
    "        self.linear1.reset_parameters()\n",
    "        self.linear2.reset_parameters()\n",
    "    \n",
    "    def forward(self, data):\n",
    "        x, edge_index, batch = data.x, data.edge_index, data.batch\n",
    "        # out = F.relu(self.conv1(x, edge_index, shift_op))\n",
    "        out = self.conv1(x, edge_index)\n",
    "        # out = F.dropout(out, p=self.dropout, training=self.training)\n",
    "        # out = F.relu(self.conv2(out, edge_index, shift_op))\n",
    "        # out = self.conv2(out, edge_index, shift_op)\n",
    "        out = global_mean_pool(out, batch)\n",
    "        \n",
    "        out = F.relu(self.linear1(out))\n",
    "        # out = F.dropout(out, p=self.dropout, training=self.training)\n",
    "        # out = F.softmax(self.linear2(out), dim=-1)\n",
    "        out = self.linear2(out)\n",
    "        return F.log_softmax(out, dim=-1)\n",
    "        # return out"
   ],
   "metadata": {
    "collapsed": false,
    "ExecuteTime": {
     "end_time": "2024-11-17T16:53:22.614086131Z",
     "start_time": "2024-11-17T16:53:22.611165458Z"
    }
   },
   "id": "b9655c19263afc57",
   "execution_count": 22
  },
  {
   "cell_type": "code",
   "outputs": [
    {
     "data": {
      "text/plain": "device(type='cuda')"
     },
     "execution_count": 3,
     "metadata": {},
     "output_type": "execute_result"
    }
   ],
   "source": [
    "device = torch.device(\"cuda\" if torch.cuda.is_available() else \"cpu\")\n",
    "device"
   ],
   "metadata": {
    "collapsed": false,
    "ExecuteTime": {
     "end_time": "2024-11-17T16:43:59.073249479Z",
     "start_time": "2024-11-17T16:43:59.069852749Z"
    }
   },
   "id": "1e6da2b9ccd9a190",
   "execution_count": 3
  },
  {
   "cell_type": "code",
   "outputs": [],
   "source": [
    "config = Box({\n",
    "    'batch_size': 128,\n",
    "    'epochs': 35,\n",
    "    'lr': 1e-2,\n",
    "    'l2': 1e-2,\n",
    "    'hidden_dim': 128,\n",
    "    'dropout': 0.2,\n",
    "})"
   ],
   "metadata": {
    "collapsed": false,
    "ExecuteTime": {
     "end_time": "2024-11-17T16:44:04.267243644Z",
     "start_time": "2024-11-17T16:44:04.258846178Z"
    }
   },
   "id": "1d0e87c1e67d2484",
   "execution_count": 4
  },
  {
   "cell_type": "code",
   "outputs": [],
   "source": [
    "Result = namedtuple('Result', ['name', 'feature', 'conv_layer', 'accuracy', 'train_mean', 'train_std', 'val_mean', 'val_std'])"
   ],
   "metadata": {
    "collapsed": false,
    "ExecuteTime": {
     "end_time": "2024-11-17T16:44:07.595270590Z",
     "start_time": "2024-11-17T16:44:07.554671680Z"
    }
   },
   "id": "287772f6cfc7c713",
   "execution_count": 5
  },
  {
   "cell_type": "code",
   "outputs": [],
   "source": [
    "def train(model: nn.Module,\n",
    "          optimizer: torch.optim.Optimizer,\n",
    "          train_loader: DataLoader,\n",
    "          device: torch.device):\n",
    "    model.train()\n",
    "\n",
    "    train_loss = 0\n",
    "    for data in train_loader:\n",
    "        optimizer.zero_grad()\n",
    "        out = model(data.to(device))\n",
    "        loss = F.nll_loss(out, data.y.to(device))\n",
    "        loss.backward()\n",
    "        optimizer.step()\n",
    "        train_loss += loss.item()\n",
    "    return train_loss / len(train_loader)\n",
    "\n",
    "def validate(model: nn.Module,\n",
    "             val_loader: DataLoader,\n",
    "             device: torch.device):\n",
    "    model.eval()\n",
    "\n",
    "    val_loss = 0\n",
    "    with torch.inference_mode():\n",
    "        for data in val_loader:\n",
    "            out = model(data.to(device))\n",
    "            loss = F.nll_loss(out, data.y.to(device))\n",
    "            val_loss += loss.item()\n",
    "    return val_loss / len(val_loader)\n",
    "\n",
    "def test(model: nn.Module,\n",
    "         test_loader: DataLoader,\n",
    "         device: torch.device):\n",
    "    pred = []\n",
    "    true = []\n",
    "    model.eval()\n",
    "    with torch.inference_mode():\n",
    "        for data in test_loader:\n",
    "            out = model(data.to(device))\n",
    "            preds = torch.argmax(F.softmax(out, dim=1), dim=-1)\n",
    "            pred.append(preds.detach().cpu().numpy())\n",
    "            true.append(data.y.detach().cpu().numpy())\n",
    "\n",
    "    pred = np.concatenate(pred)\n",
    "    true = np.concatenate(true)\n",
    "    acc = accuracy_score(true, pred)\n",
    "\n",
    "    return acc"
   ],
   "metadata": {
    "collapsed": false,
    "ExecuteTime": {
     "end_time": "2024-11-17T16:53:50.209834690Z",
     "start_time": "2024-11-17T16:53:50.195631220Z"
    }
   },
   "id": "6640a8b623fc73ed",
   "execution_count": 25
  },
  {
   "cell_type": "code",
   "outputs": [],
   "source": [
    "names = ['politifact', 'gossipcop']\n",
    "features = ['content', 'bert', 'profile', 'spacy']\n",
    "root = './datasets/UPFD'\n",
    "\n",
    "conv_layers = ['parma']\n",
    "combinations = list(product(names, features, conv_layers))"
   ],
   "metadata": {
    "collapsed": false,
    "ExecuteTime": {
     "end_time": "2024-11-17T16:44:24.216432399Z",
     "start_time": "2024-11-17T16:44:24.202439258Z"
    }
   },
   "id": "a35230ff7475da73",
   "execution_count": 6
  },
  {
   "cell_type": "code",
   "outputs": [
    {
     "data": {
      "text/plain": "Combination:   0%|          | 0/8 [00:00<?, ?it/s]",
      "application/vnd.jupyter.widget-view+json": {
       "version_major": 2,
       "version_minor": 0,
       "model_id": "35cf31b75d2c405eb2569246a926e332"
      }
     },
     "metadata": {},
     "output_type": "display_data"
    },
    {
     "data": {
      "text/plain": "Training:   0%|          | 0/35 [00:00<?, ?it/s]",
      "application/vnd.jupyter.widget-view+json": {
       "version_major": 2,
       "version_minor": 0,
       "model_id": "65b1cad137bc458598e59540bb409baa"
      }
     },
     "metadata": {},
     "output_type": "display_data"
    },
    {
     "data": {
      "text/plain": "Training:   0%|          | 0/35 [00:00<?, ?it/s]",
      "application/vnd.jupyter.widget-view+json": {
       "version_major": 2,
       "version_minor": 0,
       "model_id": "bc97706d11b74383b181368dbe451848"
      }
     },
     "metadata": {},
     "output_type": "display_data"
    },
    {
     "data": {
      "text/plain": "Training:   0%|          | 0/35 [00:00<?, ?it/s]",
      "application/vnd.jupyter.widget-view+json": {
       "version_major": 2,
       "version_minor": 0,
       "model_id": "6632b6268ab048dea2c96dc8607c5d08"
      }
     },
     "metadata": {},
     "output_type": "display_data"
    },
    {
     "data": {
      "text/plain": "Training:   0%|          | 0/35 [00:00<?, ?it/s]",
      "application/vnd.jupyter.widget-view+json": {
       "version_major": 2,
       "version_minor": 0,
       "model_id": "8e757fedacfe4f55bcc1513b88d2dd27"
      }
     },
     "metadata": {},
     "output_type": "display_data"
    },
    {
     "data": {
      "text/plain": "Training:   0%|          | 0/35 [00:00<?, ?it/s]",
      "application/vnd.jupyter.widget-view+json": {
       "version_major": 2,
       "version_minor": 0,
       "model_id": "792d91f9aee94910b9cf195be3eb38eb"
      }
     },
     "metadata": {},
     "output_type": "display_data"
    },
    {
     "data": {
      "text/plain": "Training:   0%|          | 0/35 [00:00<?, ?it/s]",
      "application/vnd.jupyter.widget-view+json": {
       "version_major": 2,
       "version_minor": 0,
       "model_id": "bb35a93cc85842e3b2ea90915446351c"
      }
     },
     "metadata": {},
     "output_type": "display_data"
    },
    {
     "data": {
      "text/plain": "Training:   0%|          | 0/35 [00:00<?, ?it/s]",
      "application/vnd.jupyter.widget-view+json": {
       "version_major": 2,
       "version_minor": 0,
       "model_id": "ab67cd8298e44d54b35d960043938b1f"
      }
     },
     "metadata": {},
     "output_type": "display_data"
    },
    {
     "data": {
      "text/plain": "Training:   0%|          | 0/35 [00:00<?, ?it/s]",
      "application/vnd.jupyter.widget-view+json": {
       "version_major": 2,
       "version_minor": 0,
       "model_id": "96b847729aa0447db27b491e4ddf85eb"
      }
     },
     "metadata": {},
     "output_type": "display_data"
    }
   ],
   "source": [
    "results = []\n",
    "\n",
    "for name, feature, conv_layer in tqdm(combinations, desc=f\"Combination\"):\n",
    "    train_dataset = UPFD(root=root, name=name, feature=feature, split='train')\n",
    "    val_dataset = UPFD(root=root, name=name, feature=feature, split='val')\n",
    "    test_dataset = UPFD(root=root, name=name, feature=feature, split='test')\n",
    "    \n",
    "    train_loader = DataLoader(train_dataset, batch_size=config.batch_size, shuffle=True)\n",
    "    val_loader = DataLoader(val_dataset, batch_size=config.batch_size, shuffle=False)\n",
    "    test_loader = DataLoader(test_dataset, batch_size=config.batch_size, shuffle=False)\n",
    "    \n",
    "    model = PARMAGC(in_dim=train_dataset.num_features,\n",
    "                    hidden_dim=config.hidden_dim,\n",
    "                    out_dim=train_dataset.num_classes,\n",
    "                    period=3,\n",
    "                    timestamps=2,\n",
    "                    dropout=config.dropout).to(device)\n",
    "    optimizer = torch.optim.Adam(model.parameters(), lr=config.lr, weight_decay=config.l2)\n",
    "    \n",
    "    train_losses = []\n",
    "    val_losses = []\n",
    "\n",
    "    for epoch in tqdm(range(config.epochs), desc=f\"Training\"):\n",
    "        train_loss = train(model, optimizer, train_loader, device)\n",
    "        train_losses.append(train_loss)\n",
    "        \n",
    "        val_loss = validate(model, val_loader, device)\n",
    "        val_losses.append(val_loss)\n",
    "    \n",
    "    acc = test(model, test_loader, device)\n",
    "    train_mean, train_std = np.mean(train_losses), np.std(train_losses)\n",
    "    val_mean, val_std = np.mean(val_losses), np.std(val_losses)\n",
    "    \n",
    "    curr_result = Result(name=name, feature=feature, conv_layer=conv_layer, accuracy=acc, train_mean=train_mean, train_std=train_std, val_mean=val_mean, val_std=val_std)\n",
    "    results.append(curr_result)"
   ],
   "metadata": {
    "collapsed": false,
    "ExecuteTime": {
     "end_time": "2024-11-17T16:54:45.574558077Z",
     "start_time": "2024-11-17T16:53:51.461801899Z"
    }
   },
   "id": "78db4b9653fc8bbb",
   "execution_count": 26
  },
  {
   "cell_type": "code",
   "outputs": [
    {
     "data": {
      "text/plain": "[Result(name='gossipcop', feature='spacy', conv_layer='parma', accuracy=0.5007841087297439, train_mean=0.7499298750408112, train_std=0.23374992296715227, val_mean=0.7048322732107982, val_std=0.023982452855680927),\n Result(name='gossipcop', feature='content', conv_layer='parma', accuracy=0.4992158912702561, train_mean=1.0138953063223097, train_std=1.5245220278875373, val_mean=0.8672856555666242, val_std=1.0007127697280696),\n Result(name='gossipcop', feature='bert', conv_layer='parma', accuracy=0.4992158912702561, train_mean=1.543632871007162, train_std=3.6744304037774884, val_mean=0.8064835575648717, val_std=0.5909600238280133),\n Result(name='gossipcop', feature='profile', conv_layer='parma', accuracy=0.4992158912702561, train_mean=0.7557739526506454, train_std=0.3145598440609304, val_mean=0.6975631373269218, val_std=0.010847165674549426),\n Result(name='politifact', feature='content', conv_layer='parma', accuracy=0.48868778280542985, train_mean=7.162691800934928, train_std=15.514790353034915, val_mean=7.661745342186519, val_std=19.725506613259245),\n Result(name='politifact', feature='bert', conv_layer='parma', accuracy=0.48868778280542985, train_mean=3.9471081393105645, train_std=14.127278304265722, val_mean=5.07758127110345, val_std=20.301534762480667),\n Result(name='politifact', feature='profile', conv_layer='parma', accuracy=0.48868778280542985, train_mean=0.9806624003819057, train_std=1.2513794025011258, val_mean=1.156933673790523, val_std=1.7790377360035627),\n Result(name='politifact', feature='spacy', conv_layer='parma', accuracy=0.48868778280542985, train_mean=1.5136791263307845, train_std=2.520328650971522, val_mean=1.6984352265085494, val_std=3.3824298719574015)]"
     },
     "execution_count": 30,
     "metadata": {},
     "output_type": "execute_result"
    }
   ],
   "source": [
    "sorted(results, key=lambda x: x.accuracy, reverse=True)"
   ],
   "metadata": {
    "collapsed": false,
    "ExecuteTime": {
     "end_time": "2024-11-17T17:00:28.309783428Z",
     "start_time": "2024-11-17T17:00:28.302084521Z"
    }
   },
   "id": "3606479786bf0cdb",
   "execution_count": 30
  },
  {
   "cell_type": "code",
   "outputs": [],
   "source": [],
   "metadata": {
    "collapsed": false
   },
   "id": "f78f098c90218866"
  }
 ],
 "metadata": {
  "kernelspec": {
   "display_name": "Python 3",
   "language": "python",
   "name": "python3"
  },
  "language_info": {
   "codemirror_mode": {
    "name": "ipython",
    "version": 2
   },
   "file_extension": ".py",
   "mimetype": "text/x-python",
   "name": "python",
   "nbconvert_exporter": "python",
   "pygments_lexer": "ipython2",
   "version": "2.7.6"
  }
 },
 "nbformat": 4,
 "nbformat_minor": 5
}
