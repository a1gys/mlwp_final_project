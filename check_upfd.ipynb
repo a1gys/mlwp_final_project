{
 "cells": [
  {
   "cell_type": "code",
   "outputs": [],
   "source": [
    "from collections import namedtuple\n",
    "from itertools import product\n",
    "\n",
    "import torch\n",
    "import torch.nn as nn\n",
    "import torch.nn.functional as F\n",
    "import numpy as np\n",
    "import matplotlib.pyplot as plt\n",
    "import pandas as pd\n",
    "\n",
    "from torch_geometric.datasets import UPFD\n",
    "from torch_geometric.loader import DataLoader\n",
    "from tqdm.notebook import tqdm\n",
    "from box import Box\n",
    "\n",
    "from models import UPFDNet, UPFDSingle, MultiFeatureNet, ParallelFeatureNet\n",
    "from dataset import MultiFeatureDataset, get_data\n",
    "from utils import train, validate, test, train_multi, validate_multi, test_multi"
   ],
   "metadata": {
    "collapsed": true,
    "ExecuteTime": {
     "end_time": "2024-11-17T20:04:06.098579544Z",
     "start_time": "2024-11-17T20:04:02.518205259Z"
    }
   },
   "id": "initial_id",
   "execution_count": 1
  },
  {
   "cell_type": "code",
   "outputs": [
    {
     "data": {
      "text/plain": "device(type='cuda')"
     },
     "execution_count": 2,
     "metadata": {},
     "output_type": "execute_result"
    }
   ],
   "source": [
    "device = torch.device(\"cuda\" if torch.cuda.is_available() else \"cpu\")\n",
    "device"
   ],
   "metadata": {
    "collapsed": false,
    "ExecuteTime": {
     "end_time": "2024-11-17T20:04:07.520045447Z",
     "start_time": "2024-11-17T20:04:07.518579657Z"
    }
   },
   "id": "526da12bca4b9c76",
   "execution_count": 2
  },
  {
   "cell_type": "code",
   "outputs": [],
   "source": [
    "config = Box({\n",
    "    'batch_size': 128,\n",
    "    'epochs': 35,\n",
    "    'lr': 1e-2,\n",
    "    'l2': 1e-2,\n",
    "    'hidden_dim': 128,\n",
    "    'dropout': 0.2,\n",
    "})"
   ],
   "metadata": {
    "collapsed": false,
    "ExecuteTime": {
     "end_time": "2024-11-17T20:04:07.527123144Z",
     "start_time": "2024-11-17T20:04:07.520543439Z"
    }
   },
   "id": "de51a68bdf842b6d",
   "execution_count": 3
  },
  {
   "cell_type": "code",
   "outputs": [],
   "source": [
    "Result = namedtuple('Result', ['name', 'feature', 'conv_layer', 'accuracy', 'recall', 'precision', 'f1', 'roc_auc', 'train_mean', 'train_std', 'val_mean', 'val_std'])"
   ],
   "metadata": {
    "collapsed": false,
    "ExecuteTime": {
     "end_time": "2024-11-17T20:04:07.534224866Z",
     "start_time": "2024-11-17T20:04:07.527615785Z"
    }
   },
   "id": "9b7e9f658c6fc58d",
   "execution_count": 4
  },
  {
   "cell_type": "markdown",
   "source": [
    "# UPFDNet Experiments"
   ],
   "metadata": {
    "collapsed": false
   },
   "id": "1b4aa77752bca21b"
  },
  {
   "cell_type": "code",
   "outputs": [],
   "source": [
    "names = ['politifact', 'gossipcop']\n",
    "features = ['content', 'bert', 'profile', 'spacy']\n",
    "root = './datasets/UPFD'\n",
    "\n",
    "conv_layers = ['gcn', 'sage', 'gat', 'parma']\n",
    "combinations = list(product(names, features, conv_layers))"
   ],
   "metadata": {
    "collapsed": false,
    "ExecuteTime": {
     "end_time": "2024-11-17T20:04:27.156800830Z",
     "start_time": "2024-11-17T20:04:27.144257217Z"
    }
   },
   "id": "bcebdfa737de780b",
   "execution_count": 6
  },
  {
   "cell_type": "code",
   "outputs": [
    {
     "data": {
      "text/plain": "Combination:   0%|          | 0/32 [00:00<?, ?it/s]",
      "application/vnd.jupyter.widget-view+json": {
       "version_major": 2,
       "version_minor": 0,
       "model_id": "7e306ca6d7114a88988f9c00193dfb0c"
      }
     },
     "metadata": {},
     "output_type": "display_data"
    },
    {
     "data": {
      "text/plain": "Training:   0%|          | 0/35 [00:00<?, ?it/s]",
      "application/vnd.jupyter.widget-view+json": {
       "version_major": 2,
       "version_minor": 0,
       "model_id": "53005a454a6641a48b7c6648c3b0ff76"
      }
     },
     "metadata": {},
     "output_type": "display_data"
    },
    {
     "name": "stderr",
     "output_type": "stream",
     "text": [
      "/home/baimyrza/programming/venv/lib/python3.12/site-packages/sklearn/metrics/_classification.py:1509: UndefinedMetricWarning: Precision is ill-defined and being set to 0.0 due to no predicted samples. Use `zero_division` parameter to control this behavior.\n",
      "  _warn_prf(average, modifier, f\"{metric.capitalize()} is\", len(result))\n"
     ]
    },
    {
     "data": {
      "text/plain": "Training:   0%|          | 0/35 [00:00<?, ?it/s]",
      "application/vnd.jupyter.widget-view+json": {
       "version_major": 2,
       "version_minor": 0,
       "model_id": "d90cc1c60eb542e9a06b5435b65a9384"
      }
     },
     "metadata": {},
     "output_type": "display_data"
    },
    {
     "data": {
      "text/plain": "Training:   0%|          | 0/35 [00:00<?, ?it/s]",
      "application/vnd.jupyter.widget-view+json": {
       "version_major": 2,
       "version_minor": 0,
       "model_id": "b934877154d24450a63968b246d52bd4"
      }
     },
     "metadata": {},
     "output_type": "display_data"
    },
    {
     "name": "stderr",
     "output_type": "stream",
     "text": [
      "/home/baimyrza/programming/venv/lib/python3.12/site-packages/sklearn/metrics/_classification.py:1509: UndefinedMetricWarning: Precision is ill-defined and being set to 0.0 due to no predicted samples. Use `zero_division` parameter to control this behavior.\n",
      "  _warn_prf(average, modifier, f\"{metric.capitalize()} is\", len(result))\n"
     ]
    },
    {
     "data": {
      "text/plain": "Training:   0%|          | 0/35 [00:00<?, ?it/s]",
      "application/vnd.jupyter.widget-view+json": {
       "version_major": 2,
       "version_minor": 0,
       "model_id": "d3fcf7a564df446cbe5dd4d5b809f1f5"
      }
     },
     "metadata": {},
     "output_type": "display_data"
    },
    {
     "name": "stderr",
     "output_type": "stream",
     "text": [
      "/home/baimyrza/programming/venv/lib/python3.12/site-packages/sklearn/metrics/_classification.py:1509: UndefinedMetricWarning: Precision is ill-defined and being set to 0.0 due to no predicted samples. Use `zero_division` parameter to control this behavior.\n",
      "  _warn_prf(average, modifier, f\"{metric.capitalize()} is\", len(result))\n"
     ]
    },
    {
     "data": {
      "text/plain": "Training:   0%|          | 0/35 [00:00<?, ?it/s]",
      "application/vnd.jupyter.widget-view+json": {
       "version_major": 2,
       "version_minor": 0,
       "model_id": "1c816809f5b1435ea735b1806a986e71"
      }
     },
     "metadata": {},
     "output_type": "display_data"
    },
    {
     "data": {
      "text/plain": "Training:   0%|          | 0/35 [00:00<?, ?it/s]",
      "application/vnd.jupyter.widget-view+json": {
       "version_major": 2,
       "version_minor": 0,
       "model_id": "d3f31480583a461fb6b3180e650f78d0"
      }
     },
     "metadata": {},
     "output_type": "display_data"
    },
    {
     "data": {
      "text/plain": "Training:   0%|          | 0/35 [00:00<?, ?it/s]",
      "application/vnd.jupyter.widget-view+json": {
       "version_major": 2,
       "version_minor": 0,
       "model_id": "fcff204a648d400e8e8a3cbc2176302f"
      }
     },
     "metadata": {},
     "output_type": "display_data"
    },
    {
     "data": {
      "text/plain": "Training:   0%|          | 0/35 [00:00<?, ?it/s]",
      "application/vnd.jupyter.widget-view+json": {
       "version_major": 2,
       "version_minor": 0,
       "model_id": "c09bd1333bb84887819f4835db59c18b"
      }
     },
     "metadata": {},
     "output_type": "display_data"
    },
    {
     "data": {
      "text/plain": "Training:   0%|          | 0/35 [00:00<?, ?it/s]",
      "application/vnd.jupyter.widget-view+json": {
       "version_major": 2,
       "version_minor": 0,
       "model_id": "4dbde63945d340cf88c7ddd43c81b506"
      }
     },
     "metadata": {},
     "output_type": "display_data"
    },
    {
     "data": {
      "text/plain": "Training:   0%|          | 0/35 [00:00<?, ?it/s]",
      "application/vnd.jupyter.widget-view+json": {
       "version_major": 2,
       "version_minor": 0,
       "model_id": "a0862deb7f2b4c6885ce9ea9c4416462"
      }
     },
     "metadata": {},
     "output_type": "display_data"
    },
    {
     "data": {
      "text/plain": "Training:   0%|          | 0/35 [00:00<?, ?it/s]",
      "application/vnd.jupyter.widget-view+json": {
       "version_major": 2,
       "version_minor": 0,
       "model_id": "4ceb7786f7fb46c78a1f7e044d4fcd08"
      }
     },
     "metadata": {},
     "output_type": "display_data"
    },
    {
     "data": {
      "text/plain": "Training:   0%|          | 0/35 [00:00<?, ?it/s]",
      "application/vnd.jupyter.widget-view+json": {
       "version_major": 2,
       "version_minor": 0,
       "model_id": "59e588e0c3d14097b363a6a8bfc44a9b"
      }
     },
     "metadata": {},
     "output_type": "display_data"
    },
    {
     "data": {
      "text/plain": "Training:   0%|          | 0/35 [00:00<?, ?it/s]",
      "application/vnd.jupyter.widget-view+json": {
       "version_major": 2,
       "version_minor": 0,
       "model_id": "66e45515b5764ba1affe51ad4ba6eb06"
      }
     },
     "metadata": {},
     "output_type": "display_data"
    },
    {
     "data": {
      "text/plain": "Training:   0%|          | 0/35 [00:00<?, ?it/s]",
      "application/vnd.jupyter.widget-view+json": {
       "version_major": 2,
       "version_minor": 0,
       "model_id": "392f737692044697bab28ec114310532"
      }
     },
     "metadata": {},
     "output_type": "display_data"
    },
    {
     "data": {
      "text/plain": "Training:   0%|          | 0/35 [00:00<?, ?it/s]",
      "application/vnd.jupyter.widget-view+json": {
       "version_major": 2,
       "version_minor": 0,
       "model_id": "9df7d15c21fb4cf9a56c0a3ddea2b99f"
      }
     },
     "metadata": {},
     "output_type": "display_data"
    },
    {
     "data": {
      "text/plain": "Training:   0%|          | 0/35 [00:00<?, ?it/s]",
      "application/vnd.jupyter.widget-view+json": {
       "version_major": 2,
       "version_minor": 0,
       "model_id": "565fdcb4a4f3482aa9eab7a3caae7ac6"
      }
     },
     "metadata": {},
     "output_type": "display_data"
    },
    {
     "data": {
      "text/plain": "Training:   0%|          | 0/35 [00:00<?, ?it/s]",
      "application/vnd.jupyter.widget-view+json": {
       "version_major": 2,
       "version_minor": 0,
       "model_id": "7f37570f4cf54d598ecfd8be72a858d3"
      }
     },
     "metadata": {},
     "output_type": "display_data"
    },
    {
     "data": {
      "text/plain": "Training:   0%|          | 0/35 [00:00<?, ?it/s]",
      "application/vnd.jupyter.widget-view+json": {
       "version_major": 2,
       "version_minor": 0,
       "model_id": "b8d5bd4f413b4a47ad967033f2024f2c"
      }
     },
     "metadata": {},
     "output_type": "display_data"
    },
    {
     "name": "stderr",
     "output_type": "stream",
     "text": [
      "/home/baimyrza/programming/venv/lib/python3.12/site-packages/sklearn/metrics/_classification.py:1509: UndefinedMetricWarning: Precision is ill-defined and being set to 0.0 due to no predicted samples. Use `zero_division` parameter to control this behavior.\n",
      "  _warn_prf(average, modifier, f\"{metric.capitalize()} is\", len(result))\n"
     ]
    },
    {
     "data": {
      "text/plain": "Training:   0%|          | 0/35 [00:00<?, ?it/s]",
      "application/vnd.jupyter.widget-view+json": {
       "version_major": 2,
       "version_minor": 0,
       "model_id": "da00eb95df3f4dc18385b277cbafda30"
      }
     },
     "metadata": {},
     "output_type": "display_data"
    },
    {
     "data": {
      "text/plain": "Training:   0%|          | 0/35 [00:00<?, ?it/s]",
      "application/vnd.jupyter.widget-view+json": {
       "version_major": 2,
       "version_minor": 0,
       "model_id": "825e6dcaeea042d68f7d67470bdedb62"
      }
     },
     "metadata": {},
     "output_type": "display_data"
    },
    {
     "name": "stderr",
     "output_type": "stream",
     "text": [
      "/home/baimyrza/programming/venv/lib/python3.12/site-packages/sklearn/metrics/_classification.py:1509: UndefinedMetricWarning: Precision is ill-defined and being set to 0.0 due to no predicted samples. Use `zero_division` parameter to control this behavior.\n",
      "  _warn_prf(average, modifier, f\"{metric.capitalize()} is\", len(result))\n"
     ]
    },
    {
     "data": {
      "text/plain": "Training:   0%|          | 0/35 [00:00<?, ?it/s]",
      "application/vnd.jupyter.widget-view+json": {
       "version_major": 2,
       "version_minor": 0,
       "model_id": "7b68c438265b4f6184b368e9da007f8b"
      }
     },
     "metadata": {},
     "output_type": "display_data"
    },
    {
     "data": {
      "text/plain": "Training:   0%|          | 0/35 [00:00<?, ?it/s]",
      "application/vnd.jupyter.widget-view+json": {
       "version_major": 2,
       "version_minor": 0,
       "model_id": "653087dc48e2486c85764a0d2d585b11"
      }
     },
     "metadata": {},
     "output_type": "display_data"
    },
    {
     "data": {
      "text/plain": "Training:   0%|          | 0/35 [00:00<?, ?it/s]",
      "application/vnd.jupyter.widget-view+json": {
       "version_major": 2,
       "version_minor": 0,
       "model_id": "6c991481b8b644e48e95599cb9a5d129"
      }
     },
     "metadata": {},
     "output_type": "display_data"
    },
    {
     "data": {
      "text/plain": "Training:   0%|          | 0/35 [00:00<?, ?it/s]",
      "application/vnd.jupyter.widget-view+json": {
       "version_major": 2,
       "version_minor": 0,
       "model_id": "8b893a2e141b46d1871e12ec2c81b385"
      }
     },
     "metadata": {},
     "output_type": "display_data"
    },
    {
     "data": {
      "text/plain": "Training:   0%|          | 0/35 [00:00<?, ?it/s]",
      "application/vnd.jupyter.widget-view+json": {
       "version_major": 2,
       "version_minor": 0,
       "model_id": "3de7316ded704993a00e4590689da121"
      }
     },
     "metadata": {},
     "output_type": "display_data"
    },
    {
     "data": {
      "text/plain": "Training:   0%|          | 0/35 [00:00<?, ?it/s]",
      "application/vnd.jupyter.widget-view+json": {
       "version_major": 2,
       "version_minor": 0,
       "model_id": "74a899b0eea643b08a87a87ea71ebcf7"
      }
     },
     "metadata": {},
     "output_type": "display_data"
    },
    {
     "data": {
      "text/plain": "Training:   0%|          | 0/35 [00:00<?, ?it/s]",
      "application/vnd.jupyter.widget-view+json": {
       "version_major": 2,
       "version_minor": 0,
       "model_id": "4143894cff6a4124a6e729d65812066f"
      }
     },
     "metadata": {},
     "output_type": "display_data"
    },
    {
     "data": {
      "text/plain": "Training:   0%|          | 0/35 [00:00<?, ?it/s]",
      "application/vnd.jupyter.widget-view+json": {
       "version_major": 2,
       "version_minor": 0,
       "model_id": "1a6293e42dab4299b936a9b498761b06"
      }
     },
     "metadata": {},
     "output_type": "display_data"
    },
    {
     "data": {
      "text/plain": "Training:   0%|          | 0/35 [00:00<?, ?it/s]",
      "application/vnd.jupyter.widget-view+json": {
       "version_major": 2,
       "version_minor": 0,
       "model_id": "a4a5442b93cb47d986e8b72ec4e9aae7"
      }
     },
     "metadata": {},
     "output_type": "display_data"
    },
    {
     "data": {
      "text/plain": "Training:   0%|          | 0/35 [00:00<?, ?it/s]",
      "application/vnd.jupyter.widget-view+json": {
       "version_major": 2,
       "version_minor": 0,
       "model_id": "5106b1e074924ec9b9be3891af7b91ed"
      }
     },
     "metadata": {},
     "output_type": "display_data"
    },
    {
     "data": {
      "text/plain": "Training:   0%|          | 0/35 [00:00<?, ?it/s]",
      "application/vnd.jupyter.widget-view+json": {
       "version_major": 2,
       "version_minor": 0,
       "model_id": "b4a2dfd469d44c13a31eb4512622cd44"
      }
     },
     "metadata": {},
     "output_type": "display_data"
    },
    {
     "data": {
      "text/plain": "Training:   0%|          | 0/35 [00:00<?, ?it/s]",
      "application/vnd.jupyter.widget-view+json": {
       "version_major": 2,
       "version_minor": 0,
       "model_id": "8fce72d611a744879ef706cef1169ff0"
      }
     },
     "metadata": {},
     "output_type": "display_data"
    },
    {
     "name": "stderr",
     "output_type": "stream",
     "text": [
      "/home/baimyrza/programming/venv/lib/python3.12/site-packages/sklearn/metrics/_classification.py:1509: UndefinedMetricWarning: Precision is ill-defined and being set to 0.0 due to no predicted samples. Use `zero_division` parameter to control this behavior.\n",
      "  _warn_prf(average, modifier, f\"{metric.capitalize()} is\", len(result))\n"
     ]
    }
   ],
   "source": [
    "results = []\n",
    "\n",
    "for name, feature, conv_layer in tqdm(combinations, desc=f\"Combination\"):\n",
    "    train_dataset = UPFD(root=root, name=name, feature=feature, split='train')\n",
    "    val_dataset = UPFD(root=root, name=name, feature=feature, split='val')\n",
    "    test_dataset = UPFD(root=root, name=name, feature=feature, split='test')\n",
    "    train_loader = DataLoader(train_dataset, batch_size=config.batch_size, shuffle=True)\n",
    "    val_loader = DataLoader(val_dataset, batch_size=config.batch_size, shuffle=False)\n",
    "    test_loader = DataLoader(test_dataset, batch_size=config.batch_size, shuffle=False)\n",
    "    \n",
    "    model = UPFDNet(conv_layer=conv_layer, \n",
    "                    in_dim=train_dataset.num_features, \n",
    "                    hidden_dim=config.hidden_dim, \n",
    "                    out_dim=train_dataset.num_classes, \n",
    "                    concat=True, \n",
    "                    dropout=config.dropout).to(device)\n",
    "    optimizer = torch.optim.Adam(model.parameters(), lr=config.lr, weight_decay=config.l2)\n",
    "    \n",
    "    train_losses = []\n",
    "    val_losses = []\n",
    "\n",
    "    for epoch in tqdm(range(config.epochs), desc=f\"Training\"):\n",
    "        train_loss = train(model, optimizer, train_loader, device)\n",
    "        train_losses.append(train_loss)\n",
    "        \n",
    "        val_loss = validate(model, val_loader, device)\n",
    "        val_losses.append(val_loss)\n",
    "    \n",
    "    acc, recall, precision, f1, roc_auc = test(model, test_loader, device)\n",
    "    train_mean, train_std = np.mean(train_losses), np.std(train_losses)\n",
    "    val_mean, val_std = np.mean(val_losses), np.std(val_losses)\n",
    "    \n",
    "    curr_result = Result(name=name, feature=feature, conv_layer=conv_layer, accuracy=acc, recall=recall, precision=precision, f1=f1, roc_auc=roc_auc, train_mean=train_mean, train_std=train_std, val_mean=val_mean, val_std=val_std)\n",
    "    results.append(curr_result)"
   ],
   "metadata": {
    "collapsed": false,
    "ExecuteTime": {
     "end_time": "2024-11-17T18:09:19.842271131Z",
     "start_time": "2024-11-17T18:05:20.797229930Z"
    }
   },
   "id": "ce60aebc6e11bec0",
   "execution_count": 14
  },
  {
   "cell_type": "code",
   "outputs": [
    {
     "data": {
      "text/plain": "[Result(name='gossipcop', feature='bert', conv_layer='gat', accuracy=0.9712493465760585, recall=0.9843423799582464, precision=0.9593082400813835, f1=0.9716640906749099, roc_auc=0.9712287816021598, train_mean=0.17959162910424528, train_std=0.15349548132782626, val_mean=0.16300149816487516, val_std=0.10228823092800876),\n Result(name='gossipcop', feature='content', conv_layer='gat', accuracy=0.9704652378463147, recall=0.9718162839248434, precision=0.9692868297761582, f1=0.9705499087829033, roc_auc=0.9704631157844112, train_mean=0.34971898498516235, train_std=0.22986923118793354, val_mean=0.4036705976298877, val_std=0.3057976346385656),\n Result(name='gossipcop', feature='spacy', conv_layer='sage', accuracy=0.9594877156299007, recall=0.9749478079331941, precision=0.9458227848101266, f1=0.9601644821382678, roc_auc=0.9594634327624085, train_mean=0.16922509968280788, train_std=0.08094152873981139, val_mean=0.1643242149693625, val_std=0.04787288909330626),\n Result(name='gossipcop', feature='spacy', conv_layer='gat', accuracy=0.9545216936748563, recall=0.9733820459290188, precision=0.9381287726358148, f1=0.9554303278688525, roc_auc=0.9544920700849283, train_mean=0.23070519862193908, train_std=0.09309238205022922, val_mean=0.21245587127549306, val_std=0.07626004274711443),\n Result(name='gossipcop', feature='bert', conv_layer='gcn', accuracy=0.9521693674856246, recall=0.9681628392484343, precision=0.9382903388973192, f1=0.9529925507320832, roc_auc=0.952144246849348, train_mean=0.19575958146698888, train_std=0.14429309394053846, val_mean=0.2150240903241294, val_std=0.12858896398828643),\n Result(name='gossipcop', feature='bert', conv_layer='sage', accuracy=0.9503397804495557, recall=0.9900835073068893, precision=0.9173114119922631, f1=0.9523092369477911, roc_auc=0.9502773557476855, train_mean=0.15128206108061093, train_std=0.12506584240345323, val_mean=0.17805364070194107, val_std=0.10851274737116522),\n Result(name='gossipcop', feature='content', conv_layer='gcn', accuracy=0.9492943021432305, recall=0.9227557411273486, precision=0.9746416758544653, f1=0.9479892761394102, roc_auc=0.9493359857469204, train_mean=0.4313160490895075, train_std=0.21416470321817488, val_mean=0.4466944629166808, val_std=0.2237500270627799),\n Result(name='gossipcop', feature='spacy', conv_layer='gcn', accuracy=0.9419759539989545, recall=0.9279749478079332, precision=0.9548872180451128, f1=0.9412387506617258, roc_auc=0.9419979451081552, train_mean=0.21368243796011757, train_std=0.10902569971651975, val_mean=0.19951801930155075, val_std=0.09019983024898459),\n Result(name='gossipcop', feature='profile', conv_layer='sage', accuracy=0.9231573444851019, recall=0.9566805845511482, precision=0.8967710371819961, f1=0.9257575757575758, roc_auc=0.9231046901813333, train_mean=0.24089541518025928, train_std=0.1167785071589175, val_mean=0.2457329731328147, val_std=0.09484403289219176),\n Result(name='gossipcop', feature='profile', conv_layer='gat', accuracy=0.9038159958180868, recall=0.8679540709812108, precision=0.9353205849268842, f1=0.9003789929615593, roc_auc=0.9038723234487206, train_mean=0.2781406489629594, train_std=0.07497598596745851, val_mean=0.25992423347064425, val_std=0.061125587521238436),\n Result(name='gossipcop', feature='profile', conv_layer='gcn', accuracy=0.872974385781495, recall=0.8742171189979123, precision=0.8723958333333334, f1=0.8733055265901981, roc_auc=0.8729724338445058, train_mean=0.3547496377948731, train_std=0.05757767320701948, val_mean=0.3446774830988475, val_std=0.0354613648819973),\n Result(name='politifact', feature='bert', conv_layer='parma', accuracy=0.8552036199095022, recall=0.8495575221238938, precision=0.8648648648648649, f1=0.8571428571428571, roc_auc=0.8553343166175025, train_mean=0.17834027263868069, train_std=0.2706922748695048, val_mean=0.7078324590410505, val_std=0.13565634703306495),\n Result(name='politifact', feature='bert', conv_layer='gcn', accuracy=0.8461538461538461, recall=0.7964601769911505, precision=0.8910891089108911, f1=0.8411214953271028, roc_auc=0.8473041625696492, train_mean=0.3240910399771695, train_std=0.5235550585153054, val_mean=0.7571248003414699, val_std=0.5816174866336219),\n Result(name='politifact', feature='bert', conv_layer='gat', accuracy=0.8190045248868778, recall=0.7433628318584071, precision=0.8842105263157894, f1=0.8076923076923077, roc_auc=0.8207554900032776, train_mean=0.23807366971990893, train_std=0.3337801732563533, val_mean=0.6567260878426688, val_std=0.21300629335425172),\n Result(name='politifact', feature='spacy', conv_layer='gcn', accuracy=0.8099547511312217, recall=0.8141592920353983, precision=0.8141592920353983, f1=0.8141592920353983, roc_auc=0.8098574237954769, train_mean=0.29098833607775826, train_std=0.2253240905924484, val_mean=0.5727835510458265, val_std=0.09322818329239108),\n Result(name='politifact', feature='spacy', conv_layer='gat', accuracy=0.7737556561085973, recall=0.6902654867256637, precision=0.8387096774193549, f1=0.7572815533980582, roc_auc=0.7756882989183874, train_mean=0.3350288403885705, train_std=0.21430828780418093, val_mean=0.5661604830196926, val_std=0.10276909924438919),\n Result(name='politifact', feature='content', conv_layer='sage', accuracy=0.7601809954751131, recall=0.6991150442477876, precision=0.8061224489795918, f1=0.7488151658767772, roc_auc=0.7615945591609308, train_mean=0.7107702851295471, train_std=0.20921736411782993, val_mean=0.7873691184180124, val_std=0.3271464286336318),\n Result(name='politifact', feature='spacy', conv_layer='parma', accuracy=0.7601809954751131, recall=0.6814159292035398, precision=0.8191489361702128, f1=0.7439613526570048, roc_auc=0.7620042608980662, train_mean=0.28646371151719774, train_std=0.21471467056384613, val_mean=0.633788822378431, val_std=0.06773151396085794),\n Result(name='politifact', feature='bert', conv_layer='sage', accuracy=0.755656108597285, recall=0.911504424778761, precision=0.7006802721088435, f1=0.7923076923076923, roc_auc=0.7520485086856767, train_mean=0.302367588704718, train_std=0.5774850882809228, val_mean=0.7239292945180621, val_std=0.6843727784549029),\n Result(name='politifact', feature='profile', conv_layer='sage', accuracy=0.755656108597285, recall=0.672566371681416, precision=0.8172043010752689, f1=0.7378640776699029, roc_auc=0.7575794821370043, train_mean=0.40207057126930784, train_std=0.18668287226816155, val_mean=0.7745946271078927, val_std=0.09181419217449178),\n Result(name='politifact', feature='profile', conv_layer='gat', accuracy=0.7420814479638009, recall=0.6106194690265486, precision=0.8414634146341463, f1=0.7076923076923077, roc_auc=0.745124549328089, train_mean=0.46941018615450175, train_std=0.12598576197849717, val_mean=0.7559660366603307, val_std=0.06855296072853476),\n Result(name='gossipcop', feature='profile', conv_layer='parma', accuracy=0.7401986408782018, recall=0.6310020876826722, precision=0.8081550802139037, f1=0.7086752637749121, roc_auc=0.7403701537889801, train_mean=0.5445836610264249, train_std=0.03514194921208061, val_mean=0.5213049932888575, val_std=0.032083635028692374),\n Result(name='gossipcop', feature='bert', conv_layer='parma', accuracy=0.7336644014636696, recall=0.576722338204593, precision=0.8415841584158416, f1=0.6844224218024156, roc_auc=0.7339109073221918, train_mean=0.47156607584347804, train_std=0.08249233322512686, val_mean=0.5377893340587616, val_std=0.05199047681378309),\n Result(name='politifact', feature='profile', conv_layer='gcn', accuracy=0.7285067873303167, recall=0.6548672566371682, precision=0.7789473684210526, f1=0.7115384615384616, roc_auc=0.7302114060963618, train_mean=0.42560345785958426, train_std=0.1431766660915319, val_mean=0.763116763319288, val_std=0.0667291647452466),\n Result(name='politifact', feature='profile', conv_layer='parma', accuracy=0.7285067873303167, recall=0.7433628318584071, precision=0.7304347826086957, f1=0.7368421052631579, roc_auc=0.7281628974106852, train_mean=0.5716183602809906, train_std=0.07586543923431965, val_mean=0.6353176253182548, val_std=0.07290569324702152),\n Result(name='politifact', feature='spacy', conv_layer='sage', accuracy=0.6968325791855203, recall=0.4336283185840708, precision=0.9423076923076923, f1=0.593939393939394, roc_auc=0.7029252704031466, train_mean=0.32370376703994613, train_std=0.2239327777222687, val_mean=0.7524526221411568, val_std=0.3259344338836324),\n Result(name='gossipcop', feature='content', conv_layer='sage', accuracy=0.4992158912702561, recall=0.0, precision=0.0, f1=0.0, roc_auc=0.5, train_mean=0.704339989783272, train_std=0.01993989642411668, val_mean=0.7241453664643424, val_std=0.11054210938870496),\n Result(name='gossipcop', feature='content', conv_layer='parma', accuracy=0.4992158912702561, recall=0.0, precision=0.0, f1=0.0, roc_auc=0.5, train_mean=0.6935283986348955, train_std=0.0021484403916991325, val_mean=0.6930245498248508, val_std=0.00017664049659039794),\n Result(name='gossipcop', feature='spacy', conv_layer='parma', accuracy=0.4992158912702561, recall=0.0, precision=0.0, f1=0.0, roc_auc=0.5, train_mean=0.6930976617903936, train_std=0.00026778264575389707, val_mean=0.6930242664473398, val_std=0.00018770751989081078),\n Result(name='politifact', feature='content', conv_layer='gcn', accuracy=0.48868778280542985, recall=0.0, precision=0.0, f1=0.0, roc_auc=0.5, train_mean=0.6985276017870222, train_std=0.11427847743991683, val_mean=0.7631661142621722, val_std=0.19274547504222256),\n Result(name='politifact', feature='content', conv_layer='gat', accuracy=0.48868778280542985, recall=0.0, precision=0.0, f1=0.0, roc_auc=0.5, train_mean=0.702319632257734, train_std=0.12891813104964958, val_mean=0.7559040035520281, val_std=0.17682075582250883),\n Result(name='politifact', feature='content', conv_layer='parma', accuracy=0.48868778280542985, recall=0.0, precision=0.0, f1=0.0, roc_auc=0.5, train_mean=0.6848429986408778, train_std=0.050512585594540214, val_mean=0.746843797819955, val_std=0.10221701055813173)]"
     },
     "execution_count": 15,
     "metadata": {},
     "output_type": "execute_result"
    }
   ],
   "source": [
    "sorted(results, key=lambda x: x.accuracy, reverse=True)"
   ],
   "metadata": {
    "collapsed": false,
    "ExecuteTime": {
     "end_time": "2024-11-17T18:41:40.448946048Z",
     "start_time": "2024-11-17T18:41:40.397870843Z"
    }
   },
   "id": "8d9ebd6c83871ed2",
   "execution_count": 15
  },
  {
   "cell_type": "code",
   "outputs": [],
   "source": [
    "df = pd.DataFrame(results)\n",
    "df.to_csv('./results/upfdnet.csv')"
   ],
   "metadata": {
    "collapsed": false,
    "ExecuteTime": {
     "end_time": "2024-11-17T18:42:01.843723136Z",
     "start_time": "2024-11-17T18:42:01.797064954Z"
    }
   },
   "id": "3261e02e9e7a8712",
   "execution_count": 16
  },
  {
   "cell_type": "markdown",
   "source": [
    "# UPFDSingle"
   ],
   "metadata": {
    "collapsed": false
   },
   "id": "a9f37a3fe146cd80"
  },
  {
   "cell_type": "code",
   "outputs": [
    {
     "data": {
      "text/plain": "Combination:   0%|          | 0/32 [00:00<?, ?it/s]",
      "application/vnd.jupyter.widget-view+json": {
       "version_major": 2,
       "version_minor": 0,
       "model_id": "10744be04cda4b66a12dcf3af474a32d"
      }
     },
     "metadata": {},
     "output_type": "display_data"
    },
    {
     "data": {
      "text/plain": "Training:   0%|          | 0/35 [00:00<?, ?it/s]",
      "application/vnd.jupyter.widget-view+json": {
       "version_major": 2,
       "version_minor": 0,
       "model_id": "75cf787ad1134bffaf6f0e33b8448e32"
      }
     },
     "metadata": {},
     "output_type": "display_data"
    },
    {
     "name": "stderr",
     "output_type": "stream",
     "text": [
      "/home/baimyrza/programming/venv/lib/python3.12/site-packages/sklearn/metrics/_classification.py:1509: UndefinedMetricWarning: Precision is ill-defined and being set to 0.0 due to no predicted samples. Use `zero_division` parameter to control this behavior.\n",
      "  _warn_prf(average, modifier, f\"{metric.capitalize()} is\", len(result))\n"
     ]
    },
    {
     "data": {
      "text/plain": "Training:   0%|          | 0/35 [00:00<?, ?it/s]",
      "application/vnd.jupyter.widget-view+json": {
       "version_major": 2,
       "version_minor": 0,
       "model_id": "5eb732fc7d144dfeace85aa9b8aec4a5"
      }
     },
     "metadata": {},
     "output_type": "display_data"
    },
    {
     "name": "stderr",
     "output_type": "stream",
     "text": [
      "/home/baimyrza/programming/venv/lib/python3.12/site-packages/sklearn/metrics/_classification.py:1509: UndefinedMetricWarning: Precision is ill-defined and being set to 0.0 due to no predicted samples. Use `zero_division` parameter to control this behavior.\n",
      "  _warn_prf(average, modifier, f\"{metric.capitalize()} is\", len(result))\n"
     ]
    },
    {
     "data": {
      "text/plain": "Training:   0%|          | 0/35 [00:00<?, ?it/s]",
      "application/vnd.jupyter.widget-view+json": {
       "version_major": 2,
       "version_minor": 0,
       "model_id": "8841fe1aff6b43708a6e01bd35a9a16d"
      }
     },
     "metadata": {},
     "output_type": "display_data"
    },
    {
     "data": {
      "text/plain": "Training:   0%|          | 0/35 [00:00<?, ?it/s]",
      "application/vnd.jupyter.widget-view+json": {
       "version_major": 2,
       "version_minor": 0,
       "model_id": "0d5e7bb534ec421388bc3281f339533c"
      }
     },
     "metadata": {},
     "output_type": "display_data"
    },
    {
     "name": "stderr",
     "output_type": "stream",
     "text": [
      "/home/baimyrza/programming/venv/lib/python3.12/site-packages/sklearn/metrics/_classification.py:1509: UndefinedMetricWarning: Precision is ill-defined and being set to 0.0 due to no predicted samples. Use `zero_division` parameter to control this behavior.\n",
      "  _warn_prf(average, modifier, f\"{metric.capitalize()} is\", len(result))\n"
     ]
    },
    {
     "data": {
      "text/plain": "Training:   0%|          | 0/35 [00:00<?, ?it/s]",
      "application/vnd.jupyter.widget-view+json": {
       "version_major": 2,
       "version_minor": 0,
       "model_id": "4e1ed464adb54b0dbbcd99bd31d2f646"
      }
     },
     "metadata": {},
     "output_type": "display_data"
    },
    {
     "data": {
      "text/plain": "Training:   0%|          | 0/35 [00:00<?, ?it/s]",
      "application/vnd.jupyter.widget-view+json": {
       "version_major": 2,
       "version_minor": 0,
       "model_id": "3a1367437e4841c0a49d36db0208d31d"
      }
     },
     "metadata": {},
     "output_type": "display_data"
    },
    {
     "data": {
      "text/plain": "Training:   0%|          | 0/35 [00:00<?, ?it/s]",
      "application/vnd.jupyter.widget-view+json": {
       "version_major": 2,
       "version_minor": 0,
       "model_id": "cc3603433b0e4f7494a37476c8abf40e"
      }
     },
     "metadata": {},
     "output_type": "display_data"
    },
    {
     "data": {
      "text/plain": "Training:   0%|          | 0/35 [00:00<?, ?it/s]",
      "application/vnd.jupyter.widget-view+json": {
       "version_major": 2,
       "version_minor": 0,
       "model_id": "d1a4167079c645a8bd66855059567794"
      }
     },
     "metadata": {},
     "output_type": "display_data"
    },
    {
     "name": "stderr",
     "output_type": "stream",
     "text": [
      "/home/baimyrza/programming/venv/lib/python3.12/site-packages/sklearn/metrics/_classification.py:1509: UndefinedMetricWarning: Precision is ill-defined and being set to 0.0 due to no predicted samples. Use `zero_division` parameter to control this behavior.\n",
      "  _warn_prf(average, modifier, f\"{metric.capitalize()} is\", len(result))\n"
     ]
    },
    {
     "data": {
      "text/plain": "Training:   0%|          | 0/35 [00:00<?, ?it/s]",
      "application/vnd.jupyter.widget-view+json": {
       "version_major": 2,
       "version_minor": 0,
       "model_id": "b3ff4b7715a642139ccfaf804d49f53c"
      }
     },
     "metadata": {},
     "output_type": "display_data"
    },
    {
     "data": {
      "text/plain": "Training:   0%|          | 0/35 [00:00<?, ?it/s]",
      "application/vnd.jupyter.widget-view+json": {
       "version_major": 2,
       "version_minor": 0,
       "model_id": "d2565a43e6614057943ea1d0137bde82"
      }
     },
     "metadata": {},
     "output_type": "display_data"
    },
    {
     "data": {
      "text/plain": "Training:   0%|          | 0/35 [00:00<?, ?it/s]",
      "application/vnd.jupyter.widget-view+json": {
       "version_major": 2,
       "version_minor": 0,
       "model_id": "c4a54557e79e4d2cb89dc5276bfc96b7"
      }
     },
     "metadata": {},
     "output_type": "display_data"
    },
    {
     "data": {
      "text/plain": "Training:   0%|          | 0/35 [00:00<?, ?it/s]",
      "application/vnd.jupyter.widget-view+json": {
       "version_major": 2,
       "version_minor": 0,
       "model_id": "3c0ac89ad906486d862602a813e3a184"
      }
     },
     "metadata": {},
     "output_type": "display_data"
    },
    {
     "name": "stderr",
     "output_type": "stream",
     "text": [
      "/home/baimyrza/programming/venv/lib/python3.12/site-packages/sklearn/metrics/_classification.py:1509: UndefinedMetricWarning: Precision is ill-defined and being set to 0.0 due to no predicted samples. Use `zero_division` parameter to control this behavior.\n",
      "  _warn_prf(average, modifier, f\"{metric.capitalize()} is\", len(result))\n"
     ]
    },
    {
     "data": {
      "text/plain": "Training:   0%|          | 0/35 [00:00<?, ?it/s]",
      "application/vnd.jupyter.widget-view+json": {
       "version_major": 2,
       "version_minor": 0,
       "model_id": "150d4ecc1ac04a468c35533601711b7a"
      }
     },
     "metadata": {},
     "output_type": "display_data"
    },
    {
     "data": {
      "text/plain": "Training:   0%|          | 0/35 [00:00<?, ?it/s]",
      "application/vnd.jupyter.widget-view+json": {
       "version_major": 2,
       "version_minor": 0,
       "model_id": "18875c44822e4d24b347c69bd629d074"
      }
     },
     "metadata": {},
     "output_type": "display_data"
    },
    {
     "data": {
      "text/plain": "Training:   0%|          | 0/35 [00:00<?, ?it/s]",
      "application/vnd.jupyter.widget-view+json": {
       "version_major": 2,
       "version_minor": 0,
       "model_id": "eaabe79bc5644e249b156706a42ec8ad"
      }
     },
     "metadata": {},
     "output_type": "display_data"
    },
    {
     "data": {
      "text/plain": "Training:   0%|          | 0/35 [00:00<?, ?it/s]",
      "application/vnd.jupyter.widget-view+json": {
       "version_major": 2,
       "version_minor": 0,
       "model_id": "648bdf95e89241b9a3c9ee323dd3993e"
      }
     },
     "metadata": {},
     "output_type": "display_data"
    },
    {
     "name": "stderr",
     "output_type": "stream",
     "text": [
      "/home/baimyrza/programming/venv/lib/python3.12/site-packages/sklearn/metrics/_classification.py:1509: UndefinedMetricWarning: Precision is ill-defined and being set to 0.0 due to no predicted samples. Use `zero_division` parameter to control this behavior.\n",
      "  _warn_prf(average, modifier, f\"{metric.capitalize()} is\", len(result))\n"
     ]
    },
    {
     "data": {
      "text/plain": "Training:   0%|          | 0/35 [00:00<?, ?it/s]",
      "application/vnd.jupyter.widget-view+json": {
       "version_major": 2,
       "version_minor": 0,
       "model_id": "7fc0d990bca448d5936ec4051c0ddb40"
      }
     },
     "metadata": {},
     "output_type": "display_data"
    },
    {
     "name": "stderr",
     "output_type": "stream",
     "text": [
      "/home/baimyrza/programming/venv/lib/python3.12/site-packages/sklearn/metrics/_classification.py:1509: UndefinedMetricWarning: Precision is ill-defined and being set to 0.0 due to no predicted samples. Use `zero_division` parameter to control this behavior.\n",
      "  _warn_prf(average, modifier, f\"{metric.capitalize()} is\", len(result))\n"
     ]
    },
    {
     "data": {
      "text/plain": "Training:   0%|          | 0/35 [00:00<?, ?it/s]",
      "application/vnd.jupyter.widget-view+json": {
       "version_major": 2,
       "version_minor": 0,
       "model_id": "e14cac1145624eda8672bf62d32c5ab1"
      }
     },
     "metadata": {},
     "output_type": "display_data"
    },
    {
     "name": "stderr",
     "output_type": "stream",
     "text": [
      "/home/baimyrza/programming/venv/lib/python3.12/site-packages/sklearn/metrics/_classification.py:1509: UndefinedMetricWarning: Precision is ill-defined and being set to 0.0 due to no predicted samples. Use `zero_division` parameter to control this behavior.\n",
      "  _warn_prf(average, modifier, f\"{metric.capitalize()} is\", len(result))\n"
     ]
    },
    {
     "data": {
      "text/plain": "Training:   0%|          | 0/35 [00:00<?, ?it/s]",
      "application/vnd.jupyter.widget-view+json": {
       "version_major": 2,
       "version_minor": 0,
       "model_id": "6b5c7917116c404bac8182443b835281"
      }
     },
     "metadata": {},
     "output_type": "display_data"
    },
    {
     "name": "stderr",
     "output_type": "stream",
     "text": [
      "/home/baimyrza/programming/venv/lib/python3.12/site-packages/sklearn/metrics/_classification.py:1509: UndefinedMetricWarning: Precision is ill-defined and being set to 0.0 due to no predicted samples. Use `zero_division` parameter to control this behavior.\n",
      "  _warn_prf(average, modifier, f\"{metric.capitalize()} is\", len(result))\n"
     ]
    },
    {
     "data": {
      "text/plain": "Training:   0%|          | 0/35 [00:00<?, ?it/s]",
      "application/vnd.jupyter.widget-view+json": {
       "version_major": 2,
       "version_minor": 0,
       "model_id": "dc06896d23714180a91cdbd4cd0e0b11"
      }
     },
     "metadata": {},
     "output_type": "display_data"
    },
    {
     "name": "stderr",
     "output_type": "stream",
     "text": [
      "/home/baimyrza/programming/venv/lib/python3.12/site-packages/sklearn/metrics/_classification.py:1509: UndefinedMetricWarning: Precision is ill-defined and being set to 0.0 due to no predicted samples. Use `zero_division` parameter to control this behavior.\n",
      "  _warn_prf(average, modifier, f\"{metric.capitalize()} is\", len(result))\n"
     ]
    },
    {
     "data": {
      "text/plain": "Training:   0%|          | 0/35 [00:00<?, ?it/s]",
      "application/vnd.jupyter.widget-view+json": {
       "version_major": 2,
       "version_minor": 0,
       "model_id": "50ce2b9fcbc14c389b2ed211d19b4b02"
      }
     },
     "metadata": {},
     "output_type": "display_data"
    },
    {
     "data": {
      "text/plain": "Training:   0%|          | 0/35 [00:00<?, ?it/s]",
      "application/vnd.jupyter.widget-view+json": {
       "version_major": 2,
       "version_minor": 0,
       "model_id": "b8ff243fe34444d691e34a8f3be1a547"
      }
     },
     "metadata": {},
     "output_type": "display_data"
    },
    {
     "data": {
      "text/plain": "Training:   0%|          | 0/35 [00:00<?, ?it/s]",
      "application/vnd.jupyter.widget-view+json": {
       "version_major": 2,
       "version_minor": 0,
       "model_id": "c5ad9406fa4d47cb89f66352e811ad55"
      }
     },
     "metadata": {},
     "output_type": "display_data"
    },
    {
     "data": {
      "text/plain": "Training:   0%|          | 0/35 [00:00<?, ?it/s]",
      "application/vnd.jupyter.widget-view+json": {
       "version_major": 2,
       "version_minor": 0,
       "model_id": "ddecc46665f04a96870b56702a5b84ac"
      }
     },
     "metadata": {},
     "output_type": "display_data"
    },
    {
     "name": "stderr",
     "output_type": "stream",
     "text": [
      "/home/baimyrza/programming/venv/lib/python3.12/site-packages/sklearn/metrics/_classification.py:1509: UndefinedMetricWarning: Precision is ill-defined and being set to 0.0 due to no predicted samples. Use `zero_division` parameter to control this behavior.\n",
      "  _warn_prf(average, modifier, f\"{metric.capitalize()} is\", len(result))\n"
     ]
    },
    {
     "data": {
      "text/plain": "Training:   0%|          | 0/35 [00:00<?, ?it/s]",
      "application/vnd.jupyter.widget-view+json": {
       "version_major": 2,
       "version_minor": 0,
       "model_id": "034b9d87aec54035b66ed26c17b3e60c"
      }
     },
     "metadata": {},
     "output_type": "display_data"
    },
    {
     "data": {
      "text/plain": "Training:   0%|          | 0/35 [00:00<?, ?it/s]",
      "application/vnd.jupyter.widget-view+json": {
       "version_major": 2,
       "version_minor": 0,
       "model_id": "417abf789d3d454fa1048e82b1f45f69"
      }
     },
     "metadata": {},
     "output_type": "display_data"
    },
    {
     "data": {
      "text/plain": "Training:   0%|          | 0/35 [00:00<?, ?it/s]",
      "application/vnd.jupyter.widget-view+json": {
       "version_major": 2,
       "version_minor": 0,
       "model_id": "d6d353612a7242cb8ef603e783fa7dae"
      }
     },
     "metadata": {},
     "output_type": "display_data"
    },
    {
     "data": {
      "text/plain": "Training:   0%|          | 0/35 [00:00<?, ?it/s]",
      "application/vnd.jupyter.widget-view+json": {
       "version_major": 2,
       "version_minor": 0,
       "model_id": "a296cfcc06d84ce88dac2ab165c25b48"
      }
     },
     "metadata": {},
     "output_type": "display_data"
    },
    {
     "name": "stderr",
     "output_type": "stream",
     "text": [
      "/home/baimyrza/programming/venv/lib/python3.12/site-packages/sklearn/metrics/_classification.py:1509: UndefinedMetricWarning: Precision is ill-defined and being set to 0.0 due to no predicted samples. Use `zero_division` parameter to control this behavior.\n",
      "  _warn_prf(average, modifier, f\"{metric.capitalize()} is\", len(result))\n"
     ]
    },
    {
     "data": {
      "text/plain": "Training:   0%|          | 0/35 [00:00<?, ?it/s]",
      "application/vnd.jupyter.widget-view+json": {
       "version_major": 2,
       "version_minor": 0,
       "model_id": "7318d9667dd945f8b95bd31014072c17"
      }
     },
     "metadata": {},
     "output_type": "display_data"
    },
    {
     "name": "stderr",
     "output_type": "stream",
     "text": [
      "/home/baimyrza/programming/venv/lib/python3.12/site-packages/sklearn/metrics/_classification.py:1509: UndefinedMetricWarning: Precision is ill-defined and being set to 0.0 due to no predicted samples. Use `zero_division` parameter to control this behavior.\n",
      "  _warn_prf(average, modifier, f\"{metric.capitalize()} is\", len(result))\n"
     ]
    },
    {
     "data": {
      "text/plain": "Training:   0%|          | 0/35 [00:00<?, ?it/s]",
      "application/vnd.jupyter.widget-view+json": {
       "version_major": 2,
       "version_minor": 0,
       "model_id": "f2839076287343a3907508a81dccac36"
      }
     },
     "metadata": {},
     "output_type": "display_data"
    },
    {
     "name": "stderr",
     "output_type": "stream",
     "text": [
      "/home/baimyrza/programming/venv/lib/python3.12/site-packages/sklearn/metrics/_classification.py:1509: UndefinedMetricWarning: Precision is ill-defined and being set to 0.0 due to no predicted samples. Use `zero_division` parameter to control this behavior.\n",
      "  _warn_prf(average, modifier, f\"{metric.capitalize()} is\", len(result))\n"
     ]
    },
    {
     "data": {
      "text/plain": "Training:   0%|          | 0/35 [00:00<?, ?it/s]",
      "application/vnd.jupyter.widget-view+json": {
       "version_major": 2,
       "version_minor": 0,
       "model_id": "73c0410d096b4f039e8e336ab545bc26"
      }
     },
     "metadata": {},
     "output_type": "display_data"
    },
    {
     "name": "stderr",
     "output_type": "stream",
     "text": [
      "/home/baimyrza/programming/venv/lib/python3.12/site-packages/sklearn/metrics/_classification.py:1509: UndefinedMetricWarning: Precision is ill-defined and being set to 0.0 due to no predicted samples. Use `zero_division` parameter to control this behavior.\n",
      "  _warn_prf(average, modifier, f\"{metric.capitalize()} is\", len(result))\n"
     ]
    },
    {
     "data": {
      "text/plain": "Training:   0%|          | 0/35 [00:00<?, ?it/s]",
      "application/vnd.jupyter.widget-view+json": {
       "version_major": 2,
       "version_minor": 0,
       "model_id": "b5168835255c487fa9fc0afc1eb6b82d"
      }
     },
     "metadata": {},
     "output_type": "display_data"
    },
    {
     "name": "stderr",
     "output_type": "stream",
     "text": [
      "/home/baimyrza/programming/venv/lib/python3.12/site-packages/sklearn/metrics/_classification.py:1509: UndefinedMetricWarning: Precision is ill-defined and being set to 0.0 due to no predicted samples. Use `zero_division` parameter to control this behavior.\n",
      "  _warn_prf(average, modifier, f\"{metric.capitalize()} is\", len(result))\n"
     ]
    }
   ],
   "source": [
    "results = []\n",
    "\n",
    "for name, feature, conv_layer in tqdm(combinations, desc=f\"Combination\"):\n",
    "    train_dataset = UPFD(root=root, name=name, feature=feature, split='train')\n",
    "    val_dataset = UPFD(root=root, name=name, feature=feature, split='val')\n",
    "    test_dataset = UPFD(root=root, name=name, feature=feature, split='test')\n",
    "    \n",
    "    train_loader = DataLoader(train_dataset, batch_size=config.batch_size, shuffle=True)\n",
    "    val_loader = DataLoader(val_dataset, batch_size=config.batch_size, shuffle=False)\n",
    "    test_loader = DataLoader(test_dataset, batch_size=config.batch_size, shuffle=False)\n",
    "    \n",
    "    model = UPFDSingle(conv_layer=conv_layer,\n",
    "                       feature_type=feature,\n",
    "                       hidden_dim=config.hidden_dim,\n",
    "                       out_dim=train_dataset.num_classes,\n",
    "                       dropout=config.dropout).to(device)\n",
    "    optimizer = torch.optim.Adam(model.parameters(), lr=config.lr, weight_decay=config.l2)\n",
    "    \n",
    "    train_losses = []\n",
    "    val_losses = []\n",
    "\n",
    "    for epoch in tqdm(range(config.epochs), desc=f\"Training\"):\n",
    "        train_loss = train(model, optimizer, train_loader, device)\n",
    "        train_losses.append(train_loss)\n",
    "        \n",
    "        val_loss = validate(model, val_loader, device)\n",
    "        val_losses.append(val_loss)\n",
    "    \n",
    "    acc, recall, precision, f1, roc_auc = test(model, test_loader, device)\n",
    "    train_mean, train_std = np.mean(train_losses), np.std(train_losses)\n",
    "    val_mean, val_std = np.mean(val_losses), np.std(val_losses)\n",
    "    \n",
    "    curr_result = Result(name=name, feature=feature, conv_layer=conv_layer, accuracy=acc, recall=recall, precision=precision, f1=f1, roc_auc=roc_auc, train_mean=train_mean, train_std=train_std, val_mean=val_mean, val_std=val_std)\n",
    "    results.append(curr_result)"
   ],
   "metadata": {
    "collapsed": false,
    "ExecuteTime": {
     "end_time": "2024-11-17T20:09:28.419641688Z",
     "start_time": "2024-11-17T20:05:08.922126797Z"
    }
   },
   "id": "38936a97a337e8d5",
   "execution_count": 8
  },
  {
   "cell_type": "code",
   "outputs": [
    {
     "data": {
      "text/plain": "[Result(name='gossipcop', feature='bert', conv_layer='sage', accuracy=0.9200209095661265, recall=0.8856993736951984, precision=0.9512331838565022, f1=0.9172972972972973, roc_auc=0.9200748177376515, train_mean=0.2806287944316864, train_std=0.14643214700373366, val_mean=0.3115823488576071, val_std=0.15179567050754755),\n Result(name='politifact', feature='bert', conv_layer='sage', accuracy=0.8506787330316742, recall=0.8053097345132744, precision=0.8921568627450981, f1=0.8465116279069768, roc_auc=0.8517289413307112, train_mean=0.4347477258316108, train_std=0.3929888855687816, val_mean=0.7028023089681353, val_std=0.4243867763725416),\n Result(name='gossipcop', feature='profile', conv_layer='sage', accuracy=0.8450078410872974, recall=0.7494780793319415, precision=0.9270497094899935, f1=0.8288600288600289, roc_auc=0.8451578878335101, train_mean=0.37191542623535034, train_std=0.07414280586626927, val_mean=0.3596481594017574, val_std=0.06108850175468383),\n Result(name='politifact', feature='bert', conv_layer='gat', accuracy=0.8190045248868778, recall=0.7168141592920354, precision=0.9101123595505618, f1=0.801980198019802, roc_auc=0.8213700426089807, train_mean=0.41429748298334224, train_std=0.33155239862295227, val_mean=0.660530058826719, val_std=0.27255353619967393),\n Result(name='politifact', feature='bert', conv_layer='gcn', accuracy=0.8099547511312217, recall=0.8672566371681416, precision=0.784, f1=0.8235294117647058, roc_auc=0.8086283185840708, train_mean=0.47909490380968367, train_std=0.2884261329390638, val_mean=0.6754539924008506, val_std=0.30881997476866185),\n Result(name='politifact', feature='spacy', conv_layer='sage', accuracy=0.8099547511312217, recall=0.8053097345132744, precision=0.8198198198198198, f1=0.8125, roc_auc=0.8100622746640447, train_mean=0.41896838630948746, train_std=0.1852101309417616, val_mean=0.5989480444363185, val_std=0.1334677032259371),\n Result(name='gossipcop', feature='profile', conv_layer='gat', accuracy=0.8086774699424987, recall=0.6727557411273486, precision=0.9246771879483501, f1=0.7788519637462236, roc_auc=0.8088909595689099, train_mean=0.43121290216370234, train_std=0.07468202902797079, val_mean=0.41071695906775335, val_std=0.06697508094571222),\n Result(name='politifact', feature='spacy', conv_layer='gat', accuracy=0.8054298642533937, recall=0.7079646017699115, precision=0.8888888888888888, f1=0.7881773399014779, roc_auc=0.8076860045886595, train_mean=0.46345682314464026, train_std=0.17426542083947769, val_mean=0.5755166385854994, val_std=0.13195548035402377),\n Result(name='gossipcop', feature='profile', conv_layer='gcn', accuracy=0.7982226868792472, recall=0.6471816283924844, precision=0.9281437125748503, f1=0.7626076260762608, roc_auc=0.7984599241438862, train_mean=0.42543690866894196, train_std=0.07107205435941646, val_mean=0.40906073144504007, val_std=0.06116803996622622),\n Result(name='politifact', feature='profile', conv_layer='gcn', accuracy=0.7782805429864253, recall=0.7964601769911505, precision=0.7758620689655172, f1=0.7860262008733624, roc_auc=0.7778597181252048, train_mean=0.4474234019007002, train_std=0.13250054373987444, val_mean=0.7517971464565822, val_std=0.06608234171023282),\n Result(name='politifact', feature='profile', conv_layer='sage', accuracy=0.7737556561085973, recall=0.7433628318584071, precision=0.8, f1=0.7706422018348624, roc_auc=0.7744591937069814, train_mean=0.421421708379473, train_std=0.12258032369247165, val_mean=0.7481869322913034, val_std=0.049195272010411795),\n Result(name='politifact', feature='profile', conv_layer='gat', accuracy=0.7692307692307693, recall=0.7876106194690266, precision=0.7672413793103449, f1=0.777292576419214, roc_auc=0.7688053097345133, train_mean=0.46311136824744087, train_std=0.13467237982606825, val_mean=0.8089182189532689, val_std=0.09107050345765837),\n Result(name='gossipcop', feature='bert', conv_layer='gcn', accuracy=0.7530057501306848, recall=0.5266179540709812, precision=0.9637058261700095, f1=0.6810664866689167, roc_auc=0.753361333056433, train_mean=0.3779432036573924, train_std=0.13064154937596795, val_mean=0.44108241966792516, val_std=0.10493615646103419),\n Result(name='politifact', feature='spacy', conv_layer='gcn', accuracy=0.751131221719457, recall=0.5929203539823009, precision=0.881578947368421, f1=0.708994708994709, roc_auc=0.7547935103244838, train_mean=0.41448663089956556, train_std=0.18924741196910297, val_mean=0.5670983493328094, val_std=0.12505075487563708),\n Result(name='gossipcop', feature='bert', conv_layer='gat', accuracy=0.6296393099843178, recall=0.9947807933194155, precision=0.5753093872623001, f1=0.7290112832281507, roc_auc=0.6290657893298648, train_mean=0.2799828254987323, train_std=0.1656369429067212, val_mean=0.30805590450763704, val_std=0.15340916193404447),\n Result(name='politifact', feature='content', conv_layer='gat', accuracy=0.5113122171945701, recall=0.04424778761061947, precision=1.0, f1=0.0847457627118644, roc_auc=0.5221238938053098, train_mean=0.676456766469138, train_std=0.034119683727241605, val_mean=0.7346424988337925, val_std=0.07702282231638834),\n Result(name='gossipcop', feature='content', conv_layer='gcn', accuracy=0.4992158912702561, recall=0.0, precision=0.0, f1=0.0, roc_auc=0.5, train_mean=0.6945355653762817, train_std=0.0077953957252029984, val_mean=0.6931202643258232, val_std=0.001226858110672503),\n Result(name='gossipcop', feature='content', conv_layer='sage', accuracy=0.4992158912702561, recall=0.0, precision=0.0, f1=0.0, roc_auc=0.5, train_mean=0.6976306852840243, train_std=0.016421045972603996, val_mean=0.6951567220687866, val_std=0.0065661568436069535),\n Result(name='gossipcop', feature='content', conv_layer='gat', accuracy=0.4992158912702561, recall=0.0, precision=0.0, f1=0.0, roc_auc=0.5, train_mean=0.6951891089242603, train_std=0.011117733723758601, val_mean=0.6936266142981394, val_std=0.0034045439426305685),\n Result(name='gossipcop', feature='content', conv_layer='parma', accuracy=0.4992158912702561, recall=0.0, precision=0.0, f1=0.0, roc_auc=0.5, train_mean=0.6931812350712124, train_std=0.0003077200498730313, val_mean=0.6930411839485168, val_std=0.00011083039689566746),\n Result(name='gossipcop', feature='bert', conv_layer='parma', accuracy=0.4992158912702561, recall=0.0, precision=0.0, f1=0.0, roc_auc=0.5, train_mean=0.6931694643838066, train_std=0.00034895394847599516, val_mean=0.6930074136597769, val_std=3.060448699334701e-05),\n Result(name='gossipcop', feature='profile', conv_layer='parma', accuracy=0.4992158912702561, recall=0.0, precision=0.0, f1=0.0, roc_auc=0.5, train_mean=0.6932022102295406, train_std=0.00033523752975568865, val_mean=0.693021102632795, val_std=0.00010260367170052255),\n Result(name='gossipcop', feature='spacy', conv_layer='gcn', accuracy=0.4992158912702561, recall=0.0, precision=0.0, f1=0.0, roc_auc=0.5, train_mean=0.693264084770566, train_std=0.000868262810608269, val_mean=0.6930054879188536, val_std=5.553385893824258e-05),\n Result(name='gossipcop', feature='spacy', conv_layer='sage', accuracy=0.4992158912702561, recall=0.0, precision=0.0, f1=0.0, roc_auc=0.5, train_mean=0.6932013886315482, train_std=0.0007700975522561577, val_mean=0.6929631369454521, val_std=0.000126702573634454),\n Result(name='gossipcop', feature='spacy', conv_layer='gat', accuracy=0.4992158912702561, recall=0.0, precision=0.0, f1=0.0, roc_auc=0.5, train_mean=0.693283098084586, train_std=0.0005993193650623282, val_mean=0.6930725175993783, val_std=0.00038796488853629264),\n Result(name='gossipcop', feature='spacy', conv_layer='parma', accuracy=0.4992158912702561, recall=0.0, precision=0.0, f1=0.0, roc_auc=0.5, train_mean=0.6931584505807786, train_std=0.0003126256618494961, val_mean=0.6930057185036795, val_std=2.824448907399824e-05),\n Result(name='politifact', feature='content', conv_layer='gcn', accuracy=0.48868778280542985, recall=0.0, precision=0.0, f1=0.0, roc_auc=0.5, train_mean=0.6889583417347499, train_std=0.07558750803600534, val_mean=0.7486061062131609, val_std=0.13408132544893842),\n Result(name='politifact', feature='content', conv_layer='sage', accuracy=0.48868778280542985, recall=0.0, precision=0.0, f1=0.0, roc_auc=0.5, train_mean=0.7096144591059004, train_std=0.17469633841618634, val_mean=0.7781575339181083, val_std=0.2798901788590266),\n Result(name='politifact', feature='content', conv_layer='parma', accuracy=0.48868778280542985, recall=0.0, precision=0.0, f1=0.0, roc_auc=0.5, train_mean=0.6803175824029105, train_std=0.0006407941531268401, val_mean=0.7302035978862218, val_std=0.0044828315779198245),\n Result(name='politifact', feature='bert', conv_layer='parma', accuracy=0.48868778280542985, recall=0.0, precision=0.0, f1=0.0, roc_auc=0.5, train_mean=0.6805128523281643, train_std=0.0013019661973596634, val_mean=0.7300295114517212, val_std=0.006075766750717316),\n Result(name='politifact', feature='profile', conv_layer='parma', accuracy=0.48868778280542985, recall=0.0, precision=0.0, f1=0.0, roc_auc=0.5, train_mean=0.6810588036264692, train_std=0.0028972916200936004, val_mean=0.7297297034944806, val_std=0.009373095665594355),\n Result(name='politifact', feature='spacy', conv_layer='parma', accuracy=0.48868778280542985, recall=0.0, precision=0.0, f1=0.0, roc_auc=0.5, train_mean=0.6815675973892212, train_std=0.0041616759878136, val_mean=0.7291642103876387, val_std=0.011507936706770522)]"
     },
     "execution_count": 9,
     "metadata": {},
     "output_type": "execute_result"
    }
   ],
   "source": [
    "sorted(results, key=lambda x: x.accuracy, reverse=True)"
   ],
   "metadata": {
    "collapsed": false,
    "ExecuteTime": {
     "end_time": "2024-11-17T20:09:55.018768851Z",
     "start_time": "2024-11-17T20:09:54.976962988Z"
    }
   },
   "id": "49a1b71deece2333",
   "execution_count": 9
  },
  {
   "cell_type": "code",
   "outputs": [],
   "source": [
    "df = pd.DataFrame(results)\n",
    "df.to_csv('./results/upfdsingle.csv')"
   ],
   "metadata": {
    "collapsed": false,
    "ExecuteTime": {
     "end_time": "2024-11-17T20:10:00.810869310Z",
     "start_time": "2024-11-17T20:10:00.780891350Z"
    }
   },
   "id": "7470869939cfa7db",
   "execution_count": 10
  },
  {
   "cell_type": "markdown",
   "source": [
    "# Multi Feature "
   ],
   "metadata": {
    "collapsed": false
   },
   "id": "ce3e563d23e57dbe"
  },
  {
   "cell_type": "code",
   "outputs": [
    {
     "data": {
      "text/plain": "Combinations:   0%|          | 0/8 [00:00<?, ?it/s]",
      "application/vnd.jupyter.widget-view+json": {
       "version_major": 2,
       "version_minor": 0,
       "model_id": "4f85c779a1ef403e9ca5dde4ada23e07"
      }
     },
     "metadata": {},
     "output_type": "display_data"
    },
    {
     "data": {
      "text/plain": "Training:   0%|          | 0/35 [00:00<?, ?it/s]",
      "application/vnd.jupyter.widget-view+json": {
       "version_major": 2,
       "version_minor": 0,
       "model_id": "18b63b2141e2457bbb0e7c2866e37e47"
      }
     },
     "metadata": {},
     "output_type": "display_data"
    },
    {
     "data": {
      "text/plain": "Training:   0%|          | 0/35 [00:00<?, ?it/s]",
      "application/vnd.jupyter.widget-view+json": {
       "version_major": 2,
       "version_minor": 0,
       "model_id": "fd140f99a6784f0f988348fd45fe7e45"
      }
     },
     "metadata": {},
     "output_type": "display_data"
    },
    {
     "name": "stderr",
     "output_type": "stream",
     "text": [
      "/home/baimyrza/programming/venv/lib/python3.12/site-packages/sklearn/metrics/_classification.py:1509: UndefinedMetricWarning: Precision is ill-defined and being set to 0.0 due to no predicted samples. Use `zero_division` parameter to control this behavior.\n",
      "  _warn_prf(average, modifier, f\"{metric.capitalize()} is\", len(result))\n"
     ]
    },
    {
     "data": {
      "text/plain": "Training:   0%|          | 0/35 [00:00<?, ?it/s]",
      "application/vnd.jupyter.widget-view+json": {
       "version_major": 2,
       "version_minor": 0,
       "model_id": "cd0fe37df34b4d68b8555d39203b939c"
      }
     },
     "metadata": {},
     "output_type": "display_data"
    },
    {
     "data": {
      "text/plain": "Training:   0%|          | 0/35 [00:00<?, ?it/s]",
      "application/vnd.jupyter.widget-view+json": {
       "version_major": 2,
       "version_minor": 0,
       "model_id": "32bfe2b03606434fa9f13754551628e2"
      }
     },
     "metadata": {},
     "output_type": "display_data"
    },
    {
     "name": "stderr",
     "output_type": "stream",
     "text": [
      "/home/baimyrza/programming/venv/lib/python3.12/site-packages/sklearn/metrics/_classification.py:1509: UndefinedMetricWarning: Precision is ill-defined and being set to 0.0 due to no predicted samples. Use `zero_division` parameter to control this behavior.\n",
      "  _warn_prf(average, modifier, f\"{metric.capitalize()} is\", len(result))\n"
     ]
    },
    {
     "data": {
      "text/plain": "Training:   0%|          | 0/35 [00:00<?, ?it/s]",
      "application/vnd.jupyter.widget-view+json": {
       "version_major": 2,
       "version_minor": 0,
       "model_id": "c994fdaf5e9c4a76b75a1b3aa054afd3"
      }
     },
     "metadata": {},
     "output_type": "display_data"
    },
    {
     "name": "stderr",
     "output_type": "stream",
     "text": [
      "/home/baimyrza/programming/venv/lib/python3.12/site-packages/sklearn/metrics/_classification.py:1509: UndefinedMetricWarning: Precision is ill-defined and being set to 0.0 due to no predicted samples. Use `zero_division` parameter to control this behavior.\n",
      "  _warn_prf(average, modifier, f\"{metric.capitalize()} is\", len(result))\n"
     ]
    },
    {
     "data": {
      "text/plain": "Training:   0%|          | 0/35 [00:00<?, ?it/s]",
      "application/vnd.jupyter.widget-view+json": {
       "version_major": 2,
       "version_minor": 0,
       "model_id": "594cce11c23445398b64792e1de62486"
      }
     },
     "metadata": {},
     "output_type": "display_data"
    },
    {
     "data": {
      "text/plain": "Training:   0%|          | 0/35 [00:00<?, ?it/s]",
      "application/vnd.jupyter.widget-view+json": {
       "version_major": 2,
       "version_minor": 0,
       "model_id": "f6604e53117e4500b171dcb82d27d3b7"
      }
     },
     "metadata": {},
     "output_type": "display_data"
    },
    {
     "name": "stderr",
     "output_type": "stream",
     "text": [
      "/home/baimyrza/programming/venv/lib/python3.12/site-packages/sklearn/metrics/_classification.py:1509: UndefinedMetricWarning: Precision is ill-defined and being set to 0.0 due to no predicted samples. Use `zero_division` parameter to control this behavior.\n",
      "  _warn_prf(average, modifier, f\"{metric.capitalize()} is\", len(result))\n"
     ]
    },
    {
     "data": {
      "text/plain": "Training:   0%|          | 0/35 [00:00<?, ?it/s]",
      "application/vnd.jupyter.widget-view+json": {
       "version_major": 2,
       "version_minor": 0,
       "model_id": "0d1b3d06648a43f59be38bea693c915c"
      }
     },
     "metadata": {},
     "output_type": "display_data"
    },
    {
     "name": "stderr",
     "output_type": "stream",
     "text": [
      "/home/baimyrza/programming/venv/lib/python3.12/site-packages/sklearn/metrics/_classification.py:1509: UndefinedMetricWarning: Precision is ill-defined and being set to 0.0 due to no predicted samples. Use `zero_division` parameter to control this behavior.\n",
      "  _warn_prf(average, modifier, f\"{metric.capitalize()} is\", len(result))\n"
     ]
    }
   ],
   "source": [
    "results = []\n",
    "\n",
    "for name, conv_layer in tqdm(list(product(names, conv_layers)), desc=\"Combinations\"):\n",
    "    train_multidataset = MultiFeatureDataset(name=name, split='train')\n",
    "    val_multidataset = MultiFeatureDataset(name=name, split='val')\n",
    "    test_multidataset = MultiFeatureDataset(name=name, split='test')\n",
    "    \n",
    "    multi_trainloader = DataLoader(train_multidataset, batch_size=config.batch_size, shuffle=True)\n",
    "    multi_valloader = DataLoader(val_multidataset, batch_size=config.batch_size, shuffle=False)\n",
    "    multi_testloader = DataLoader(test_multidataset, batch_size=config.batch_size, shuffle=False)\n",
    "    \n",
    "    \n",
    "    model = MultiFeatureNet(conv_layer, hidden_dim=config.hidden_dim, out_dim=train_dataset.num_classes, dropout=0.2).to(device)\n",
    "    optimizer = torch.optim.Adam(model.parameters(), lr=config.lr, weight_decay=config.l2)   \n",
    "\n",
    "    train_losses = []\n",
    "    val_losses = []\n",
    "\n",
    "    for epoch in tqdm(range(config.epochs), desc=f\"Training\"):\n",
    "        train_loss = train_multi(model, optimizer, multi_trainloader, device)\n",
    "        train_losses.append(train_loss)\n",
    "        \n",
    "        val_loss = validate_multi(model, multi_valloader, device)\n",
    "        val_losses.append(val_loss)\n",
    "    \n",
    "    acc, recall, precision, f1, roc_auc = test_multi(model, multi_testloader, device)\n",
    "    train_mean, train_std = np.mean(train_losses), np.std(train_losses)\n",
    "    val_mean, val_std = np.mean(val_losses), np.std(val_losses)\n",
    "    \n",
    "    curr_result = Result(name=name, feature='all', conv_layer=conv_layer, accuracy=acc, recall=recall, precision=precision, f1=f1, roc_auc=roc_auc, train_mean=train_mean, train_std=train_std, val_mean=val_mean, val_std=val_std)\n",
    "    results.append(curr_result)"
   ],
   "metadata": {
    "collapsed": false,
    "ExecuteTime": {
     "end_time": "2024-11-17T21:07:54.752518436Z",
     "start_time": "2024-11-17T21:04:20.845001069Z"
    }
   },
   "id": "85da1b64780934f3",
   "execution_count": 14
  },
  {
   "cell_type": "code",
   "outputs": [
    {
     "data": {
      "text/plain": "[Result(name='gossipcop', feature='all', conv_layer='sage', accuracy=0.7592786199686357, recall=0.8053235908141962, precision=0.7379244380679101, f1=0.7701522335912153, roc_auc=0.759206298024899, train_mean=0.5407183195863451, train_std=0.0507460823652482, val_mean=0.5011371844155448, val_std=0.06316851060115006),\n Result(name='politifact', feature='all', conv_layer='gat', accuracy=0.751131221719457, recall=0.5752212389380531, precision=0.9027777777777778, f1=0.7027027027027027, roc_auc=0.7552032120616192, train_mean=0.744496431521007, train_std=0.619081361922645, val_mean=0.8402942367962428, val_std=0.7915601213116749),\n Result(name='politifact', feature='all', conv_layer='gcn', accuracy=0.6968325791855203, recall=0.46017699115044247, precision=0.896551724137931, f1=0.6081871345029239, roc_auc=0.7023107177974435, train_mean=0.48886874456490786, train_std=0.21921503384960464, val_mean=0.7297115640980857, val_std=0.2370928726008481),\n Result(name='gossipcop', feature='all', conv_layer='gcn', accuracy=0.4992158912702561, recall=0.0, precision=0.0, f1=0.0, roc_auc=0.5, train_mean=0.6932199184856717, train_std=0.00048278146741436155, val_mean=0.6930448218754359, val_std=0.00020633347848979746),\n Result(name='gossipcop', feature='all', conv_layer='gat', accuracy=0.4992158912702561, recall=0.0, precision=0.0, f1=0.0, roc_auc=0.5, train_mean=0.6935110309767344, train_std=0.002222075205427002, val_mean=0.6930378529003688, val_std=0.00021209133949560627),\n Result(name='gossipcop', feature='all', conv_layer='parma', accuracy=0.4992158912702561, recall=0.0, precision=0.0, f1=0.0, roc_auc=0.5, train_mean=0.6931484521381439, train_std=0.00047091202795310227, val_mean=0.6930373900277275, val_std=9.874558860038724e-05),\n Result(name='politifact', feature='all', conv_layer='sage', accuracy=0.48868778280542985, recall=0.0, precision=0.0, f1=0.0, roc_auc=0.5, train_mean=0.6919444935662405, train_std=0.07114818789875633, val_mean=0.753298282623291, val_std=0.16165079086531992),\n Result(name='politifact', feature='all', conv_layer='parma', accuracy=0.48868778280542985, recall=0.0, precision=0.0, f1=0.0, roc_auc=0.5, train_mean=0.6809854848044259, train_std=0.0021487445756775986, val_mean=0.7309687205723354, val_std=0.006259629042847817)]"
     },
     "execution_count": 15,
     "metadata": {},
     "output_type": "execute_result"
    }
   ],
   "source": [
    "sorted(results, key=lambda x: x.accuracy, reverse=True)"
   ],
   "metadata": {
    "collapsed": false,
    "ExecuteTime": {
     "end_time": "2024-11-17T21:12:39.826525629Z",
     "start_time": "2024-11-17T21:12:39.772666505Z"
    }
   },
   "id": "beac660d1d72e8fa",
   "execution_count": 15
  },
  {
   "cell_type": "code",
   "outputs": [],
   "source": [
    "df = pd.DataFrame(results)\n",
    "df.to_csv('./results/multifeature.csv')"
   ],
   "metadata": {
    "collapsed": false,
    "ExecuteTime": {
     "end_time": "2024-11-17T21:12:52.306369027Z",
     "start_time": "2024-11-17T21:12:52.279427963Z"
    }
   },
   "id": "3c6cff1c59019dd1",
   "execution_count": 16
  },
  {
   "cell_type": "markdown",
   "source": [
    "# Parallel Feature"
   ],
   "metadata": {
    "collapsed": false
   },
   "id": "dc32ad5f04fc2717"
  },
  {
   "cell_type": "code",
   "outputs": [
    {
     "data": {
      "text/plain": "Combinations:   0%|          | 0/8 [00:00<?, ?it/s]",
      "application/vnd.jupyter.widget-view+json": {
       "version_major": 2,
       "version_minor": 0,
       "model_id": "ee09ef28f6704c23a4950c6262d1927f"
      }
     },
     "metadata": {},
     "output_type": "display_data"
    },
    {
     "data": {
      "text/plain": "Training:   0%|          | 0/35 [00:00<?, ?it/s]",
      "application/vnd.jupyter.widget-view+json": {
       "version_major": 2,
       "version_minor": 0,
       "model_id": "c936769bf6ac410e8bb1a4f42ce8ca4e"
      }
     },
     "metadata": {},
     "output_type": "display_data"
    },
    {
     "data": {
      "text/plain": "Training:   0%|          | 0/35 [00:00<?, ?it/s]",
      "application/vnd.jupyter.widget-view+json": {
       "version_major": 2,
       "version_minor": 0,
       "model_id": "769cca1f78cc4af386d98513267b6467"
      }
     },
     "metadata": {},
     "output_type": "display_data"
    },
    {
     "data": {
      "text/plain": "Training:   0%|          | 0/35 [00:00<?, ?it/s]",
      "application/vnd.jupyter.widget-view+json": {
       "version_major": 2,
       "version_minor": 0,
       "model_id": "06b5d05a27934cf3acb4bfeff237a2f8"
      }
     },
     "metadata": {},
     "output_type": "display_data"
    },
    {
     "name": "stderr",
     "output_type": "stream",
     "text": [
      "/home/baimyrza/programming/venv/lib/python3.12/site-packages/sklearn/metrics/_classification.py:1509: UndefinedMetricWarning: Precision is ill-defined and being set to 0.0 due to no predicted samples. Use `zero_division` parameter to control this behavior.\n",
      "  _warn_prf(average, modifier, f\"{metric.capitalize()} is\", len(result))\n"
     ]
    },
    {
     "data": {
      "text/plain": "Training:   0%|          | 0/35 [00:00<?, ?it/s]",
      "application/vnd.jupyter.widget-view+json": {
       "version_major": 2,
       "version_minor": 0,
       "model_id": "73b70c1e504849cf9f656275e0570472"
      }
     },
     "metadata": {},
     "output_type": "display_data"
    },
    {
     "data": {
      "text/plain": "Training:   0%|          | 0/35 [00:00<?, ?it/s]",
      "application/vnd.jupyter.widget-view+json": {
       "version_major": 2,
       "version_minor": 0,
       "model_id": "30b7ec5e54964944bbf084f2fa9858ee"
      }
     },
     "metadata": {},
     "output_type": "display_data"
    },
    {
     "data": {
      "text/plain": "Training:   0%|          | 0/35 [00:00<?, ?it/s]",
      "application/vnd.jupyter.widget-view+json": {
       "version_major": 2,
       "version_minor": 0,
       "model_id": "53dfde2acaec40fb9cd7cb2e6534a9da"
      }
     },
     "metadata": {},
     "output_type": "display_data"
    },
    {
     "name": "stderr",
     "output_type": "stream",
     "text": [
      "/home/baimyrza/programming/venv/lib/python3.12/site-packages/sklearn/metrics/_classification.py:1509: UndefinedMetricWarning: Precision is ill-defined and being set to 0.0 due to no predicted samples. Use `zero_division` parameter to control this behavior.\n",
      "  _warn_prf(average, modifier, f\"{metric.capitalize()} is\", len(result))\n"
     ]
    },
    {
     "data": {
      "text/plain": "Training:   0%|          | 0/35 [00:00<?, ?it/s]",
      "application/vnd.jupyter.widget-view+json": {
       "version_major": 2,
       "version_minor": 0,
       "model_id": "357517422a5042159d9fb79f727d31eb"
      }
     },
     "metadata": {},
     "output_type": "display_data"
    },
    {
     "name": "stderr",
     "output_type": "stream",
     "text": [
      "/home/baimyrza/programming/venv/lib/python3.12/site-packages/sklearn/metrics/_classification.py:1509: UndefinedMetricWarning: Precision is ill-defined and being set to 0.0 due to no predicted samples. Use `zero_division` parameter to control this behavior.\n",
      "  _warn_prf(average, modifier, f\"{metric.capitalize()} is\", len(result))\n"
     ]
    },
    {
     "data": {
      "text/plain": "Training:   0%|          | 0/35 [00:00<?, ?it/s]",
      "application/vnd.jupyter.widget-view+json": {
       "version_major": 2,
       "version_minor": 0,
       "model_id": "5ec77a0c08344840bef969c900b2d3c7"
      }
     },
     "metadata": {},
     "output_type": "display_data"
    },
    {
     "name": "stderr",
     "output_type": "stream",
     "text": [
      "/home/baimyrza/programming/venv/lib/python3.12/site-packages/sklearn/metrics/_classification.py:1509: UndefinedMetricWarning: Precision is ill-defined and being set to 0.0 due to no predicted samples. Use `zero_division` parameter to control this behavior.\n",
      "  _warn_prf(average, modifier, f\"{metric.capitalize()} is\", len(result))\n"
     ]
    }
   ],
   "source": [
    "results = []\n",
    "\n",
    "for name, conv_layer in tqdm(list(product(names, conv_layers)), desc=\"Combinations\"):\n",
    "    train_multidataset = MultiFeatureDataset(name=name, split='train')\n",
    "    val_multidataset = MultiFeatureDataset(name=name, split='val')\n",
    "    test_multidataset = MultiFeatureDataset(name=name, split='test')\n",
    "    \n",
    "    multi_trainloader = DataLoader(train_multidataset, batch_size=config.batch_size, shuffle=True)\n",
    "    multi_valloader = DataLoader(val_multidataset, batch_size=config.batch_size, shuffle=False)\n",
    "    multi_testloader = DataLoader(test_multidataset, batch_size=config.batch_size, shuffle=False)\n",
    "    \n",
    "    \n",
    "    model = ParallelFeatureNet(conv_layer, hidden_dim=config.hidden_dim, out_dim=train_dataset.num_classes, dropout=0.2).to(device)\n",
    "    optimizer = torch.optim.Adam(model.parameters(), lr=config.lr, weight_decay=config.l2)   \n",
    "\n",
    "    train_losses = []\n",
    "    val_losses = []\n",
    "\n",
    "    for epoch in tqdm(range(config.epochs), desc=f\"Training\"):\n",
    "        train_loss = train_multi(model, optimizer, multi_trainloader, device)\n",
    "        train_losses.append(train_loss)\n",
    "        \n",
    "        val_loss = validate_multi(model, multi_valloader, device)\n",
    "        val_losses.append(val_loss)\n",
    "    \n",
    "    acc, recall, precision, f1, roc_auc = test_multi(model, multi_testloader, device)\n",
    "    train_mean, train_std = np.mean(train_losses), np.std(train_losses)\n",
    "    val_mean, val_std = np.mean(val_losses), np.std(val_losses)\n",
    "    \n",
    "    curr_result = Result(name=name, feature='all', conv_layer=conv_layer, accuracy=acc, recall=recall, precision=precision, f1=f1, roc_auc=roc_auc, train_mean=train_mean, train_std=train_std, val_mean=val_mean, val_std=val_std)\n",
    "    results.append(curr_result)"
   ],
   "metadata": {
    "collapsed": false,
    "ExecuteTime": {
     "end_time": "2024-11-17T21:19:39.189031738Z",
     "start_time": "2024-11-17T21:13:10.971343396Z"
    }
   },
   "id": "a68d9507a3be13",
   "execution_count": 17
  },
  {
   "cell_type": "code",
   "outputs": [
    {
     "data": {
      "text/plain": "[Result(name='politifact', feature='all', conv_layer='sage', accuracy=0.7692307692307693, recall=0.6371681415929203, precision=0.8780487804878049, f1=0.7384615384615385, roc_auc=0.772287774500164, train_mean=1.2000688893454416, train_std=1.4903521870241543, val_mean=1.3379046729632786, val_std=1.7984277389018914),\n Result(name='politifact', feature='all', conv_layer='gcn', accuracy=0.6018099547511312, recall=0.8938053097345132, precision=0.5706214689265536, f1=0.696551724137931, roc_auc=0.5950508030154047, train_mean=0.881209545476096, train_std=0.6335430839043686, val_mean=0.9622385025024414, val_std=0.8380628585800765),\n Result(name='politifact', feature='all', conv_layer='parma', accuracy=0.5113122171945701, recall=1.0, precision=0.5113122171945701, f1=0.6766467065868264, roc_auc=0.5, train_mean=125.87504826273236, train_std=480.867658269054, val_mean=105.87432394538607, val_std=348.42740852896355),\n Result(name='gossipcop', feature='all', conv_layer='gcn', accuracy=0.5007841087297439, recall=1.0, precision=0.5007841087297439, f1=0.6673632880529432, roc_auc=0.5, train_mean=0.7175736381894067, train_std=0.3358143290373117, val_mean=0.6562404724529811, val_std=0.07745957034394273),\n Result(name='gossipcop', feature='all', conv_layer='sage', accuracy=0.4992158912702561, recall=0.0, precision=0.0, f1=0.0, roc_auc=0.5, train_mean=0.7536245843720815, train_std=0.29737879833236347, val_mean=0.6936757227352687, val_std=0.015924135059625796),\n Result(name='gossipcop', feature='all', conv_layer='gat', accuracy=0.4992158912702561, recall=0.0, precision=0.0, f1=0.0, roc_auc=0.5, train_mean=0.7136258185855926, train_std=0.11772156278507365, val_mean=0.694307257788522, val_std=0.007238847269567187),\n Result(name='gossipcop', feature='all', conv_layer='parma', accuracy=0.4992158912702561, recall=0.0, precision=0.0, f1=0.0, roc_auc=0.5, train_mean=8.493281305971598, train_std=40.79108028617605, val_mean=1.176299467086792, val_std=2.2389397628323393),\n Result(name='politifact', feature='all', conv_layer='gat', accuracy=0.48868778280542985, recall=0.0, precision=0.0, f1=0.0, roc_auc=0.5, train_mean=0.837857905455998, train_std=0.45793652878585656, val_mean=0.9040264129638672, val_std=0.6831828895500238)]"
     },
     "execution_count": 18,
     "metadata": {},
     "output_type": "execute_result"
    }
   ],
   "source": [
    "sorted(results, key=lambda x: x.accuracy, reverse=True)"
   ],
   "metadata": {
    "collapsed": false,
    "ExecuteTime": {
     "end_time": "2024-11-17T21:41:01.744382810Z",
     "start_time": "2024-11-17T21:41:01.689626229Z"
    }
   },
   "id": "722990738c61012a",
   "execution_count": 18
  },
  {
   "cell_type": "code",
   "outputs": [],
   "source": [
    "df = pd.DataFrame(results)\n",
    "df.to_csv('./results/parallelfeature.csv')"
   ],
   "metadata": {
    "collapsed": false,
    "ExecuteTime": {
     "end_time": "2024-11-17T21:41:07.328566345Z",
     "start_time": "2024-11-17T21:41:07.275191777Z"
    }
   },
   "id": "48905ac405e59b81",
   "execution_count": 19
  },
  {
   "cell_type": "code",
   "outputs": [
    {
     "data": {
      "text/plain": "<Figure size 640x480 with 1 Axes>",
      "image/png": "[encoded data removed]"
     },
     "metadata": {},
     "output_type": "display_data"
    }
   ],
   "source": [
    "plt.plot(train_losses, label=\"Training loss\")\n",
    "plt.plot(val_losses, label=\"Validation loss\")\n",
    "plt.legend()\n",
    "plt.show()"
   ],
   "metadata": {
    "collapsed": false,
    "ExecuteTime": {
     "end_time": "2024-11-17T21:41:18.817561434Z",
     "start_time": "2024-11-17T21:41:18.631384240Z"
    }
   },
   "id": "6b2e1e62d1abd8b7",
   "execution_count": 20
  },
  {
   "cell_type": "code",
   "outputs": [
    {
     "data": {
      "text/plain": "0.8280542986425339"
     },
     "execution_count": 54,
     "metadata": {},
     "output_type": "execute_result"
    }
   ],
   "source": [
    "acc"
   ],
   "metadata": {
    "collapsed": false,
    "ExecuteTime": {
     "end_time": "2024-11-04T12:37:19.731620293Z",
     "start_time": "2024-11-04T12:37:19.726637029Z"
    }
   },
   "id": "70bced6f8e35c90c",
   "execution_count": 54
  },
  {
   "cell_type": "code",
   "outputs": [
    {
     "data": {
      "text/plain": "(0.49801126388566835, 0.29401728592845217)"
     },
     "execution_count": 55,
     "metadata": {},
     "output_type": "execute_result"
    }
   ],
   "source": [
    "train_mean, train_std"
   ],
   "metadata": {
    "collapsed": false,
    "ExecuteTime": {
     "end_time": "2024-11-04T12:37:19.893015882Z",
     "start_time": "2024-11-04T12:37:19.889388375Z"
    }
   },
   "id": "ef640ee1aadcb652",
   "execution_count": 55
  },
  {
   "cell_type": "code",
   "outputs": [
    {
     "data": {
      "text/plain": "(0.7081863735403333, 0.3099566150502918)"
     },
     "execution_count": 56,
     "metadata": {},
     "output_type": "execute_result"
    }
   ],
   "source": [
    "val_mean, val_std"
   ],
   "metadata": {
    "collapsed": false,
    "ExecuteTime": {
     "end_time": "2024-11-04T12:37:20.289324545Z",
     "start_time": "2024-11-04T12:37:20.285410529Z"
    }
   },
   "id": "6e5fb9b273cb17fc",
   "execution_count": 56
  },
  {
   "cell_type": "code",
   "outputs": [
    {
     "data": {
      "text/plain": "{'UPFD': {'politifact': {'content': {'acc': 0.8371040723981901,\n    'train': (0.21658988339560373, 0.2518452964355867),\n    'val': (0.7395437632288252, 0.49123788307972366)},\n   'bert': {'acc': 0.832579185520362,\n    'train': (0.2749710392872138, 0.34807777323202527),\n    'val': (0.7395437632288252, 0.49123788307972366)},\n   'profile': {'acc': 0.7330316742081447,\n    'train': (0.15560164621898107, 0.019322814165847656),\n    'val': (0.8312698517526899, 0.03892493826803987)},\n   'spacy': {'acc': 0.7963800904977375,\n    'train': (0.2683595911732742, 0.22351313797481065),\n    'val': (0.5542327957493919, 0.10418085728613392)}}},\n 'UPFDSingle': {'politifact': {'content': {'acc': 0.48868778280542985,\n    'train': (0.6910342659269061, 0.08080960685746265),\n    'val': (0.7469416328838894, 0.14379042237940715)},\n   'bert': {'acc': 0.8144796380090498,\n    'train': (0.49281267342822893, 0.3303455689609338),\n    'val': (0.6759281899247851, 0.3384613583742951)},\n   'profile': {'acc': 0.7692307692307693,\n    'train': (0.4531328294958387, 0.13431287229205577),\n    'val': (0.7562623126166207, 0.07385509674480792)},\n   'spacy': {'acc': 0.755656108597285,\n    'train': (0.45739116839000155, 0.1673643230909156),\n    'val': (0.5801735316004072, 0.12114230152071757)}}},\n 'ParallelFeature': {'politifact': {'all': {'acc': 0.5520361990950227,\n    'train': (0.9119835887636457, 0.6528642094886239),\n    'val': (0.9711397647857666, 0.7514087358902359)}}},\n 'MultiFeature': {'politifact': {'all': {'acc': 0.8280542986425339,\n    'train': (0.49801126388566835, 0.29401728592845217),\n    'val': (0.7081863735403333, 0.3099566150502918)}}}}"
     },
     "execution_count": 57,
     "metadata": {},
     "output_type": "execute_result"
    }
   ],
   "source": [
    "{\n",
    "    'UPFD':\n",
    "        {\n",
    "            'politifact':\n",
    "                {\n",
    "                    'content': {'acc': 0.8371040723981901, 'train': (0.21658988339560373, 0.2518452964355867), 'val': (0.7395437632288252, 0.49123788307972366)},\n",
    "                    'bert': {'acc': 0.832579185520362, 'train': (0.2749710392872138, 0.34807777323202527), 'val': (0.7395437632288252, 0.49123788307972366)},\n",
    "                    'profile': {'acc': 0.7330316742081447, 'train': (0.15560164621898107, 0.019322814165847656), 'val': (0.8312698517526899, 0.03892493826803987)},\n",
    "                    'spacy': {'acc': 0.7963800904977375, 'train': (0.2683595911732742, 0.22351313797481065), 'val': (0.5542327957493919, 0.10418085728613392)},\n",
    "                },\n",
    "            'gossipcop':\n",
    "                {\n",
    "                    'content': {'acc':, 'train':, 'val':},\n",
    "                    'bert': {'acc':, 'train':, 'val':},\n",
    "                    'profile': {'acc':, 'train':, 'val':},\n",
    "                }\n",
    "        },\n",
    "    'UPFDSingle':\n",
    "        {\n",
    "            'politifact':\n",
    "                {\n",
    "                    'content': {'acc': 0.48868778280542985, 'train': (0.6910342659269061, 0.08080960685746265), 'val': (0.7469416328838894, 0.14379042237940715)},\n",
    "                    'bert': {'acc': 0.8144796380090498, 'train': (0.49281267342822893, 0.3303455689609338), 'val': (0.6759281899247851, 0.3384613583742951)},\n",
    "                    'profile': {'acc': 0.7692307692307693, 'train': (0.4531328294958387, 0.13431287229205577), 'val': (0.7562623126166207, 0.07385509674480792)},\n",
    "                    'spacy': {'acc': 0.755656108597285, 'train': (0.45739116839000155, 0.1673643230909156), 'val': (0.5801735316004072, 0.12114230152071757)},\n",
    "                }\n",
    "        },\n",
    "    'ParallelFeature':\n",
    "        {\n",
    "            'politifact':\n",
    "                {\n",
    "                    'all': {'acc': 0.5520361990950227, 'train': (0.9119835887636457, 0.6528642094886239), 'val': (0.9711397647857666, 0.7514087358902359)}\n",
    "                }\n",
    "        },\n",
    "    'MultiFeature':\n",
    "        {\n",
    "            'politifact':\n",
    "                {\n",
    "                    'all': {'acc': 0.8280542986425339, 'train': (0.49801126388566835, 0.29401728592845217), 'val': (0.7081863735403333, 0.3099566150502918)}\n",
    "                }\n",
    "        }\n",
    "}"
   ],
   "metadata": {
    "collapsed": false,
    "ExecuteTime": {
     "end_time": "2024-11-04T12:37:55.410031085Z",
     "start_time": "2024-11-04T12:37:55.368922403Z"
    }
   },
   "id": "102e54be090dd899",
   "execution_count": 57
  },
  {
   "cell_type": "code",
   "outputs": [],
   "source": [],
   "metadata": {
    "collapsed": false
   },
   "id": "2a1a16bd13aeb380"
  }
 ],
 "metadata": {
  "kernelspec": {
   "display_name": "Python 3",
   "language": "python",
   "name": "python3"
  },
  "language_info": {
   "codemirror_mode": {
    "name": "ipython",
    "version": 2
   },
   "file_extension": ".py",
   "mimetype": "text/x-python",
   "name": "python",
   "nbconvert_exporter": "python",
   "pygments_lexer": "ipython2",
   "version": "2.7.6"
  }
 },
 "nbformat": 4,
 "nbformat_minor": 5
}
