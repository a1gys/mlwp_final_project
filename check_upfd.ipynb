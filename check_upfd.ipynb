{
 "cells": [
  {
   "cell_type": "code",
   "outputs": [],
   "source": [
    "from collections import namedtuple\n",
    "from itertools import product\n",
    "\n",
    "import torch\n",
    "import torch.nn as nn\n",
    "import torch.nn.functional as F\n",
    "import numpy as np\n",
    "import matplotlib.pyplot as plt\n",
    "import pandas as pd\n",
    "\n",
    "from torch_geometric.datasets import UPFD\n",
    "from torch_geometric.loader import DataLoader\n",
    "from tqdm.notebook import tqdm\n",
    "from box import Box\n",
    "\n",
    "from models import UPFDNet, UPFDSingle, MultiFeatureNet, ParallelFeatureNet\n",
    "from dataset import MultiFeatureDataset, get_data\n",
    "from utils import train, validate, test, train_multi, validate_multi, test_multi"
   ],
   "metadata": {
    "collapsed": true,
    "ExecuteTime": {
     "end_time": "2024-11-18T18:42:55.607264761Z",
     "start_time": "2024-11-18T18:42:51.191720476Z"
    }
   },
   "id": "initial_id",
   "execution_count": 1
  },
  {
   "cell_type": "code",
   "outputs": [
    {
     "data": {
      "text/plain": "device(type='cuda')"
     },
     "execution_count": 2,
     "metadata": {},
     "output_type": "execute_result"
    }
   ],
   "source": [
    "device = torch.device(\"cuda\" if torch.cuda.is_available() else \"cpu\")\n",
    "device"
   ],
   "metadata": {
    "collapsed": false,
    "ExecuteTime": {
     "end_time": "2024-11-18T18:42:55.637991340Z",
     "start_time": "2024-11-18T18:42:55.630889989Z"
    }
   },
   "id": "526da12bca4b9c76",
   "execution_count": 2
  },
  {
   "cell_type": "code",
   "outputs": [],
   "source": [
    "config = Box({\n",
    "    'batch_size': 128,\n",
    "    'epochs': 35,\n",
    "    'lr': 1e-2,\n",
    "    'l2': 1e-2,\n",
    "    'hidden_dim': 128,\n",
    "    'dropout': 0.2,\n",
    "})"
   ],
   "metadata": {
    "collapsed": false,
    "ExecuteTime": {
     "end_time": "2024-11-18T18:42:55.638547283Z",
     "start_time": "2024-11-18T18:42:55.633083243Z"
    }
   },
   "id": "de51a68bdf842b6d",
   "execution_count": 3
  },
  {
   "cell_type": "code",
   "outputs": [],
   "source": [
    "Result = namedtuple('Result', ['name', 'feature', 'conv_layer', 'accuracy', 'recall', 'precision', 'f1', 'roc_auc', 'train_mean', 'train_std', 'val_mean', 'val_std'])"
   ],
   "metadata": {
    "collapsed": false,
    "ExecuteTime": {
     "end_time": "2024-11-18T18:42:55.648690911Z",
     "start_time": "2024-11-18T18:42:55.638311040Z"
    }
   },
   "id": "9b7e9f658c6fc58d",
   "execution_count": 4
  },
  {
   "cell_type": "markdown",
   "source": [
    "# UPFDNet Experiments"
   ],
   "metadata": {
    "collapsed": false
   },
   "id": "1b4aa77752bca21b"
  },
  {
   "cell_type": "code",
   "outputs": [],
   "source": [
    "names = ['politifact', 'gossipcop']\n",
    "features = ['content', 'bert', 'profile', 'spacy']\n",
    "root = './datasets/UPFD'\n",
    "\n",
    "conv_layers = ['gcn', 'sage', 'gat', 'parma']\n",
    "combinations = list(product(names, features, conv_layers))"
   ],
   "metadata": {
    "collapsed": false,
    "ExecuteTime": {
     "end_time": "2024-11-18T18:42:57.064750401Z",
     "start_time": "2024-11-18T18:42:57.054526803Z"
    }
   },
   "id": "bcebdfa737de780b",
   "execution_count": 5
  },
  {
   "cell_type": "code",
   "outputs": [
    {
     "data": {
      "text/plain": "Combination:   0%|          | 0/32 [00:00<?, ?it/s]",
      "application/vnd.jupyter.widget-view+json": {
       "version_major": 2,
       "version_minor": 0,
       "model_id": "089f4c53bbb64ccf83dc338c12db238e"
      }
     },
     "metadata": {},
     "output_type": "display_data"
    },
    {
     "data": {
      "text/plain": "Training:   0%|          | 0/35 [00:00<?, ?it/s]",
      "application/vnd.jupyter.widget-view+json": {
       "version_major": 2,
       "version_minor": 0,
       "model_id": "f1133cf005344b318fb14016e8b28350"
      }
     },
     "metadata": {},
     "output_type": "display_data"
    },
    {
     "data": {
      "text/plain": "Training:   0%|          | 0/35 [00:00<?, ?it/s]",
      "application/vnd.jupyter.widget-view+json": {
       "version_major": 2,
       "version_minor": 0,
       "model_id": "cf5eb5ce455249d28c62c7106c02f896"
      }
     },
     "metadata": {},
     "output_type": "display_data"
    },
    {
     "data": {
      "text/plain": "Training:   0%|          | 0/35 [00:00<?, ?it/s]",
      "application/vnd.jupyter.widget-view+json": {
       "version_major": 2,
       "version_minor": 0,
       "model_id": "21cd0ca54927445292a3de1f14ceaaa8"
      }
     },
     "metadata": {},
     "output_type": "display_data"
    },
    {
     "data": {
      "text/plain": "Training:   0%|          | 0/35 [00:00<?, ?it/s]",
      "application/vnd.jupyter.widget-view+json": {
       "version_major": 2,
       "version_minor": 0,
       "model_id": "d63f018dfac84aee9a0b92b1bd574f37"
      }
     },
     "metadata": {},
     "output_type": "display_data"
    },
    {
     "data": {
      "text/plain": "Training:   0%|          | 0/35 [00:00<?, ?it/s]",
      "application/vnd.jupyter.widget-view+json": {
       "version_major": 2,
       "version_minor": 0,
       "model_id": "4e2aba029d374a83b5fe9312c823d392"
      }
     },
     "metadata": {},
     "output_type": "display_data"
    },
    {
     "data": {
      "text/plain": "Training:   0%|          | 0/35 [00:00<?, ?it/s]",
      "application/vnd.jupyter.widget-view+json": {
       "version_major": 2,
       "version_minor": 0,
       "model_id": "11f92fa934264bcfaa7db7addcb7d86d"
      }
     },
     "metadata": {},
     "output_type": "display_data"
    },
    {
     "data": {
      "text/plain": "Training:   0%|          | 0/35 [00:00<?, ?it/s]",
      "application/vnd.jupyter.widget-view+json": {
       "version_major": 2,
       "version_minor": 0,
       "model_id": "e0f4cafde6e34ea983665ddd43210ea7"
      }
     },
     "metadata": {},
     "output_type": "display_data"
    },
    {
     "data": {
      "text/plain": "Training:   0%|          | 0/35 [00:00<?, ?it/s]",
      "application/vnd.jupyter.widget-view+json": {
       "version_major": 2,
       "version_minor": 0,
       "model_id": "dcc5bc4678de49eca633b89ee5f44345"
      }
     },
     "metadata": {},
     "output_type": "display_data"
    },
    {
     "data": {
      "text/plain": "Training:   0%|          | 0/35 [00:00<?, ?it/s]",
      "application/vnd.jupyter.widget-view+json": {
       "version_major": 2,
       "version_minor": 0,
       "model_id": "93e1811df1504aa2b0ff3c38b4488c4e"
      }
     },
     "metadata": {},
     "output_type": "display_data"
    },
    {
     "data": {
      "text/plain": "Training:   0%|          | 0/35 [00:00<?, ?it/s]",
      "application/vnd.jupyter.widget-view+json": {
       "version_major": 2,
       "version_minor": 0,
       "model_id": "0c035be5294a48ba8ffcce097fb637e2"
      }
     },
     "metadata": {},
     "output_type": "display_data"
    },
    {
     "data": {
      "text/plain": "Training:   0%|          | 0/35 [00:00<?, ?it/s]",
      "application/vnd.jupyter.widget-view+json": {
       "version_major": 2,
       "version_minor": 0,
       "model_id": "7888d0e42f424abcb78466d41a68e807"
      }
     },
     "metadata": {},
     "output_type": "display_data"
    },
    {
     "data": {
      "text/plain": "Training:   0%|          | 0/35 [00:00<?, ?it/s]",
      "application/vnd.jupyter.widget-view+json": {
       "version_major": 2,
       "version_minor": 0,
       "model_id": "398f874a689c469ba5d1441fd5caec97"
      }
     },
     "metadata": {},
     "output_type": "display_data"
    },
    {
     "data": {
      "text/plain": "Training:   0%|          | 0/35 [00:00<?, ?it/s]",
      "application/vnd.jupyter.widget-view+json": {
       "version_major": 2,
       "version_minor": 0,
       "model_id": "8e62c41b5e0841ab90141b641c9b0f09"
      }
     },
     "metadata": {},
     "output_type": "display_data"
    },
    {
     "data": {
      "text/plain": "Training:   0%|          | 0/35 [00:00<?, ?it/s]",
      "application/vnd.jupyter.widget-view+json": {
       "version_major": 2,
       "version_minor": 0,
       "model_id": "5138d27ce6654074a561e26e3a3fd3c2"
      }
     },
     "metadata": {},
     "output_type": "display_data"
    },
    {
     "data": {
      "text/plain": "Training:   0%|          | 0/35 [00:00<?, ?it/s]",
      "application/vnd.jupyter.widget-view+json": {
       "version_major": 2,
       "version_minor": 0,
       "model_id": "0d19828c34924f7da911adb47d969217"
      }
     },
     "metadata": {},
     "output_type": "display_data"
    },
    {
     "data": {
      "text/plain": "Training:   0%|          | 0/35 [00:00<?, ?it/s]",
      "application/vnd.jupyter.widget-view+json": {
       "version_major": 2,
       "version_minor": 0,
       "model_id": "e89e871d82f94490b0337e23693141a5"
      }
     },
     "metadata": {},
     "output_type": "display_data"
    },
    {
     "data": {
      "text/plain": "Training:   0%|          | 0/35 [00:00<?, ?it/s]",
      "application/vnd.jupyter.widget-view+json": {
       "version_major": 2,
       "version_minor": 0,
       "model_id": "3da8c9446c104c33a0fe4e34aaffe2a4"
      }
     },
     "metadata": {},
     "output_type": "display_data"
    },
    {
     "data": {
      "text/plain": "Training:   0%|          | 0/35 [00:00<?, ?it/s]",
      "application/vnd.jupyter.widget-view+json": {
       "version_major": 2,
       "version_minor": 0,
       "model_id": "abc6f0a06daf46bfaa683bc0ff54ad6f"
      }
     },
     "metadata": {},
     "output_type": "display_data"
    },
    {
     "data": {
      "text/plain": "Training:   0%|          | 0/35 [00:00<?, ?it/s]",
      "application/vnd.jupyter.widget-view+json": {
       "version_major": 2,
       "version_minor": 0,
       "model_id": "cfccc3a756184d73a1cde8e9a90ad4b4"
      }
     },
     "metadata": {},
     "output_type": "display_data"
    },
    {
     "data": {
      "text/plain": "Training:   0%|          | 0/35 [00:00<?, ?it/s]",
      "application/vnd.jupyter.widget-view+json": {
       "version_major": 2,
       "version_minor": 0,
       "model_id": "4701e9bc6b65436d8e4fdd2859836120"
      }
     },
     "metadata": {},
     "output_type": "display_data"
    },
    {
     "data": {
      "text/plain": "Training:   0%|          | 0/35 [00:00<?, ?it/s]",
      "application/vnd.jupyter.widget-view+json": {
       "version_major": 2,
       "version_minor": 0,
       "model_id": "b6ed8387409b40d8ab6068f15d3ce1ee"
      }
     },
     "metadata": {},
     "output_type": "display_data"
    },
    {
     "data": {
      "text/plain": "Training:   0%|          | 0/35 [00:00<?, ?it/s]",
      "application/vnd.jupyter.widget-view+json": {
       "version_major": 2,
       "version_minor": 0,
       "model_id": "542a8025c53c4f96ab0244c84d096d9f"
      }
     },
     "metadata": {},
     "output_type": "display_data"
    },
    {
     "data": {
      "text/plain": "Training:   0%|          | 0/35 [00:00<?, ?it/s]",
      "application/vnd.jupyter.widget-view+json": {
       "version_major": 2,
       "version_minor": 0,
       "model_id": "8941c3405ed34cd387734f11884565af"
      }
     },
     "metadata": {},
     "output_type": "display_data"
    },
    {
     "data": {
      "text/plain": "Training:   0%|          | 0/35 [00:00<?, ?it/s]",
      "application/vnd.jupyter.widget-view+json": {
       "version_major": 2,
       "version_minor": 0,
       "model_id": "0e3b6316a82440ee980808a2107850ff"
      }
     },
     "metadata": {},
     "output_type": "display_data"
    },
    {
     "data": {
      "text/plain": "Training:   0%|          | 0/35 [00:00<?, ?it/s]",
      "application/vnd.jupyter.widget-view+json": {
       "version_major": 2,
       "version_minor": 0,
       "model_id": "c956887732644f7f9b19a5196c7c35e3"
      }
     },
     "metadata": {},
     "output_type": "display_data"
    },
    {
     "data": {
      "text/plain": "Training:   0%|          | 0/35 [00:00<?, ?it/s]",
      "application/vnd.jupyter.widget-view+json": {
       "version_major": 2,
       "version_minor": 0,
       "model_id": "78856f7624af469382ca12a468bbf553"
      }
     },
     "metadata": {},
     "output_type": "display_data"
    },
    {
     "data": {
      "text/plain": "Training:   0%|          | 0/35 [00:00<?, ?it/s]",
      "application/vnd.jupyter.widget-view+json": {
       "version_major": 2,
       "version_minor": 0,
       "model_id": "03a61975e2ba4fd4b3d8a33e359f6237"
      }
     },
     "metadata": {},
     "output_type": "display_data"
    },
    {
     "data": {
      "text/plain": "Training:   0%|          | 0/35 [00:00<?, ?it/s]",
      "application/vnd.jupyter.widget-view+json": {
       "version_major": 2,
       "version_minor": 0,
       "model_id": "33a6f4d5b08f4fae93d79400260dfa74"
      }
     },
     "metadata": {},
     "output_type": "display_data"
    },
    {
     "data": {
      "text/plain": "Training:   0%|          | 0/35 [00:00<?, ?it/s]",
      "application/vnd.jupyter.widget-view+json": {
       "version_major": 2,
       "version_minor": 0,
       "model_id": "5ca6ea84c44e4cb49e3720674850e292"
      }
     },
     "metadata": {},
     "output_type": "display_data"
    },
    {
     "data": {
      "text/plain": "Training:   0%|          | 0/35 [00:00<?, ?it/s]",
      "application/vnd.jupyter.widget-view+json": {
       "version_major": 2,
       "version_minor": 0,
       "model_id": "4734000414894116a4829fda4664f674"
      }
     },
     "metadata": {},
     "output_type": "display_data"
    },
    {
     "data": {
      "text/plain": "Training:   0%|          | 0/35 [00:00<?, ?it/s]",
      "application/vnd.jupyter.widget-view+json": {
       "version_major": 2,
       "version_minor": 0,
       "model_id": "ed1ae62168164cfb9ef643d8295a9960"
      }
     },
     "metadata": {},
     "output_type": "display_data"
    },
    {
     "data": {
      "text/plain": "Training:   0%|          | 0/35 [00:00<?, ?it/s]",
      "application/vnd.jupyter.widget-view+json": {
       "version_major": 2,
       "version_minor": 0,
       "model_id": "3fe67f4829694605a7c31ce5f5306b70"
      }
     },
     "metadata": {},
     "output_type": "display_data"
    }
   ],
   "source": [
    "results = []\n",
    "\n",
    "for name, feature, conv_layer in tqdm(combinations, desc=f\"Combination\"):\n",
    "    train_dataset = UPFD(root=root, name=name, feature=feature, split='train')\n",
    "    val_dataset = UPFD(root=root, name=name, feature=feature, split='val')\n",
    "    test_dataset = UPFD(root=root, name=name, feature=feature, split='test')\n",
    "    train_loader = DataLoader(train_dataset, batch_size=config.batch_size, shuffle=True)\n",
    "    val_loader = DataLoader(val_dataset, batch_size=config.batch_size, shuffle=False)\n",
    "    test_loader = DataLoader(test_dataset, batch_size=config.batch_size, shuffle=False)\n",
    "    \n",
    "    model = UPFDNet(conv_layer=conv_layer, \n",
    "                    in_dim=train_dataset.num_features, \n",
    "                    hidden_dim=config.hidden_dim, \n",
    "                    out_dim=train_dataset.num_classes, \n",
    "                    concat=True, \n",
    "                    dropout=config.dropout).to(device)\n",
    "    optimizer = torch.optim.Adam(model.parameters(), lr=config.lr, weight_decay=config.l2)\n",
    "    \n",
    "    train_losses = []\n",
    "    val_losses = []\n",
    "\n",
    "    for epoch in tqdm(range(config.epochs), desc=f\"Training\"):\n",
    "        train_loss = train(model, optimizer, train_loader, device)\n",
    "        train_losses.append(train_loss)\n",
    "        \n",
    "        val_loss = validate(model, val_loader, device)\n",
    "        val_losses.append(val_loss)\n",
    "    \n",
    "    acc, recall, precision, f1, roc_auc = test(model, test_loader, device)\n",
    "    train_mean, train_std = np.mean(train_losses), np.std(train_losses)\n",
    "    val_mean, val_std = np.mean(val_losses), np.std(val_losses)\n",
    "    \n",
    "    curr_result = Result(name=name, feature=feature, conv_layer=conv_layer, accuracy=acc, recall=recall, precision=precision, f1=f1, roc_auc=roc_auc, train_mean=train_mean, train_std=train_std, val_mean=val_mean, val_std=val_std)\n",
    "    results.append(curr_result)"
   ],
   "metadata": {
    "collapsed": false,
    "ExecuteTime": {
     "end_time": "2024-11-18T18:48:13.121406661Z",
     "start_time": "2024-11-18T18:43:01.024748239Z"
    }
   },
   "id": "ce60aebc6e11bec0",
   "execution_count": 6
  },
  {
   "cell_type": "code",
   "outputs": [
    {
     "data": {
      "text/plain": "[Result(name='gossipcop', feature='bert', conv_layer='gat', accuracy=0.9696811291165708, recall=0.9796450939457203, precision=0.9605936540429887, f1=0.9700258397932816, roc_auc=0.9696654789100329, train_mean=0.19738492453027343, train_std=0.15418018112730295, val_mean=0.19631492103849138, val_std=0.13622124563453017),\n Result(name='gossipcop', feature='content', conv_layer='gat', accuracy=0.9683742812336644, recall=0.9650313152400835, precision=0.9716237519705728, f1=0.9683163131709872, roc_auc=0.9683795319655915, train_mean=0.47219475333889327, train_std=0.2514528047130513, val_mean=0.5144080175885133, val_std=0.3031630096850024),\n Result(name='gossipcop', feature='spacy', conv_layer='sage', accuracy=0.9584422373235756, recall=0.9702505219206681, precision=0.9479857215706272, f1=0.9589889089502193, roc_auc=0.9584236902797058, train_mean=0.17093955313875564, train_std=0.07788061144900925, val_mean=0.16229910671710965, val_std=0.05793061496084811),\n Result(name='gossipcop', feature='bert', conv_layer='sage', accuracy=0.9581808677469943, recall=0.9707724425887265, precision=0.9470468431771895, f1=0.9587628865979382, roc_auc=0.9581610904043109, train_mean=0.19671435527621753, train_std=0.16762063377827913, val_mean=0.18909031457134653, val_std=0.1319688115644673),\n Result(name='gossipcop', feature='bert', conv_layer='gcn', accuracy=0.9495556717198118, recall=0.9801670146137788, precision=0.9237579931136252, f1=0.951126867561408, roc_auc=0.9495075910765229, train_mean=0.21574473591550947, train_std=0.1612612138517859, val_mean=0.22428962630884988, val_std=0.12936880727213482),\n Result(name='gossipcop', feature='spacy', conv_layer='gat', accuracy=0.9430214323052797, recall=0.9211899791231732, precision=0.9634279475982532, f1=0.9418356456776947, roc_auc=0.9430557225458798, train_mean=0.22062480858867134, train_std=0.08372575236582709, val_mean=0.20417784133127756, val_std=0.058592785025642295),\n Result(name='gossipcop', feature='spacy', conv_layer='gcn', accuracy=0.9380554103502352, recall=0.9801670146137788, precision=0.9041887337506018, f1=0.9406461307287753, roc_auc=0.9379892664691931, train_mean=0.2148720110456149, train_std=0.11538824190622746, val_mean=0.20799779355525969, val_std=0.09652416483151177),\n Result(name='gossipcop', feature='profile', conv_layer='sage', accuracy=0.9215891270256142, recall=0.9342379958246346, precision=0.9114052953156823, f1=0.9226804123711341, roc_auc=0.9215692596924221, train_mean=0.23571043385872764, train_std=0.11184950787047317, val_mean=0.23639206290245057, val_std=0.08800647773899824),\n Result(name='gossipcop', feature='profile', conv_layer='gat', accuracy=0.9100888656560376, recall=0.9295407098121086, precision=0.8949748743718593, f1=0.9119303635432667, roc_auc=0.9100583130212375, train_mean=0.2902914381689496, train_std=0.07464023556034804, val_mean=0.27403098268168313, val_std=0.057367792504381405),\n Result(name='gossipcop', feature='profile', conv_layer='gcn', accuracy=0.8755880815473079, recall=0.8632567849686847, precision=0.8854389721627409, f1=0.8742071881606766, roc_auc=0.8756074500759654, train_mean=0.35058472605924756, train_std=0.06340194841649346, val_mean=0.34505592303616667, val_std=0.044538695134155336),\n Result(name='politifact', feature='spacy', conv_layer='sage', accuracy=0.8009049773755657, recall=0.8495575221238938, precision=0.7804878048780488, f1=0.8135593220338984, roc_auc=0.7997787610619469, train_mean=0.2766160674393177, train_std=0.23356981754888587, val_mean=0.6165647038391658, val_std=0.11223674597430984),\n Result(name='politifact', feature='bert', conv_layer='gat', accuracy=0.7918552036199095, recall=0.672566371681416, precision=0.8941176470588236, f1=0.7676767676767676, roc_auc=0.7946165191740413, train_mean=0.31549417819561704, train_std=0.44445189784642153, val_mean=0.8398735182625907, val_std=0.40964126109210053),\n Result(name='politifact', feature='spacy', conv_layer='gat', accuracy=0.7873303167420814, recall=0.7345132743362832, precision=0.83, f1=0.7793427230046949, roc_auc=0.7885529334644378, train_mean=0.30655661789434296, train_std=0.21507912361220985, val_mean=0.5556830721242088, val_std=0.10472525740946322),\n Result(name='politifact', feature='spacy', conv_layer='gcn', accuracy=0.7828054298642534, recall=0.7345132743362832, precision=0.8217821782178217, f1=0.7757009345794392, roc_auc=0.7839233038348083, train_mean=0.30108773963791985, train_std=0.21502078783343243, val_mean=0.5912012951714652, val_std=0.10408726414493064),\n Result(name='politifact', feature='bert', conv_layer='gcn', accuracy=0.7737556561085973, recall=0.8938053097345132, precision=0.7266187050359713, f1=0.8015873015873016, roc_auc=0.7709767289413306, train_mean=0.42561923460369666, train_std=0.7434816324637742, val_mean=0.8759020277432032, val_std=1.0536933865706728),\n Result(name='politifact', feature='profile', conv_layer='sage', accuracy=0.7692307692307693, recall=0.7256637168141593, precision=0.803921568627451, f1=0.7627906976744186, roc_auc=0.7702392658144872, train_mean=0.3749253098453794, train_std=0.18679897612996016, val_mean=0.8002643431935992, val_std=0.12561722917585638),\n Result(name='politifact', feature='spacy', conv_layer='parma', accuracy=0.746606334841629, recall=0.6548672566371682, precision=0.8131868131868132, f1=0.7254901960784313, roc_auc=0.7487299246148804, train_mean=0.2697486590061869, train_std=0.21735591665795864, val_mean=0.6349387441362654, val_std=0.08116077920014872),\n Result(name='politifact', feature='profile', conv_layer='parma', accuracy=0.7420814479638009, recall=0.7964601769911505, precision=0.7258064516129032, f1=0.759493670886076, roc_auc=0.7408226810881677, train_mean=0.5803552891526903, train_std=0.07641529431416327, val_mean=0.6442087173461915, val_std=0.07329143094050941),\n Result(name='gossipcop', feature='profile', conv_layer='parma', accuracy=0.7320961840041819, recall=0.7599164926931107, precision=0.7204354280059376, f1=0.7396494792989586, roc_auc=0.7320524871842518, train_mean=0.5503598454452696, train_std=0.03267252750165963, val_mean=0.5252796404702322, val_std=0.02907106480241138),\n Result(name='politifact', feature='profile', conv_layer='gcn', accuracy=0.7194570135746606, recall=0.6194690265486725, precision=0.7865168539325843, f1=0.693069306930693, roc_auc=0.7217715503113733, train_mean=0.4025549513953073, train_std=0.13668136778516918, val_mean=0.7670485547610691, val_std=0.0640023952381579),\n Result(name='politifact', feature='profile', conv_layer='gat', accuracy=0.7194570135746606, recall=0.5486725663716814, precision=0.8493150684931506, f1=0.6666666666666666, roc_auc=0.7234103572599148, train_mean=0.4293960213661194, train_std=0.14051299712426102, val_mean=0.7765960880688259, val_std=0.09301260546352307),\n Result(name='gossipcop', feature='bert', conv_layer='parma', accuracy=0.6923680083638265, recall=0.8397703549060542, precision=0.6490520371117386, f1=0.7321956769055745, roc_auc=0.6921364863535506, train_mean=0.4786408566293262, train_std=0.06197587296925171, val_mean=0.5635930808952877, val_std=0.08638581875418039),\n Result(name='politifact', feature='bert', conv_layer='sage', accuracy=0.6742081447963801, recall=0.39823008849557523, precision=0.9183673469387755, f1=0.5555555555555556, roc_auc=0.6805965257292692, train_mean=0.2759783855772444, train_std=0.48200980708646396, val_mean=0.712644887822015, val_std=0.540212544479433),\n Result(name='politifact', feature='content', conv_layer='sage', accuracy=0.6108597285067874, recall=0.9823008849557522, precision=0.5692307692307692, f1=0.7207792207792207, roc_auc=0.6022615535889873, train_mean=0.7342489157404218, train_std=0.34125402481948136, val_mean=0.8268608450889587, val_std=0.5120464562238334),\n Result(name='politifact', feature='content', conv_layer='gcn', accuracy=0.5203619909502263, recall=1.0, precision=0.5159817351598174, f1=0.6807228915662651, roc_auc=0.5092592592592593, train_mean=0.6999051570892334, train_std=0.15521683513460957, val_mean=0.7684007150786264, val_std=0.24954731895197615),\n Result(name='politifact', feature='bert', conv_layer='parma', accuracy=0.5203619909502263, recall=1.0, precision=0.5159817351598174, f1=0.6807228915662651, roc_auc=0.5092592592592593, train_mean=0.24224819182418286, train_std=0.29619762515503284, val_mean=0.8200212001800538, val_std=0.541466483052325),\n Result(name='politifact', feature='content', conv_layer='parma', accuracy=0.5113122171945701, recall=1.0, precision=0.5113122171945701, f1=0.6766467065868264, roc_auc=0.5, train_mean=0.6834108199392046, train_std=0.030693562071323198, val_mean=0.7416600142206464, val_std=0.07586433685396748),\n Result(name='gossipcop', feature='content', conv_layer='sage', accuracy=0.5007841087297439, recall=1.0, precision=0.5007841087297439, f1=0.6673632880529432, roc_auc=0.5, train_mean=0.6969576182819548, train_std=0.011536856039789462, val_mean=0.6958362940379551, val_std=0.005472727714513392),\n Result(name='gossipcop', feature='content', conv_layer='gcn', accuracy=0.4992158912702561, recall=0.0, precision=0.0, f1=0.0, roc_auc=0.5, train_mean=0.6984141879611544, train_std=0.028021082421462336, val_mean=0.6944018254961286, val_std=0.007666467192809788),\n Result(name='gossipcop', feature='content', conv_layer='parma', accuracy=0.4992158912702561, recall=0.0, precision=0.0, f1=0.0, roc_auc=0.5, train_mean=0.6943359791286406, train_std=0.005693797440214099, val_mean=0.6929820694242205, val_std=0.0001664708032547548),\n Result(name='gossipcop', feature='spacy', conv_layer='parma', accuracy=0.4992158912702561, recall=0.0, precision=0.0, f1=0.0, roc_auc=0.5, train_mean=0.6931944673023528, train_std=0.0002939880174119939, val_mean=0.693111024584089, val_std=0.0006076542729471328),\n Result(name='politifact', feature='content', conv_layer='gat', accuracy=0.48868778280542985, recall=0.0, precision=0.0, f1=0.0, roc_auc=0.5, train_mean=0.7053394981792995, train_std=0.1908981782439478, val_mean=0.7673993280955723, val_std=0.25230645797306506)]"
     },
     "execution_count": 7,
     "metadata": {},
     "output_type": "execute_result"
    }
   ],
   "source": [
    "sorted(results, key=lambda x: x.accuracy, reverse=True)"
   ],
   "metadata": {
    "collapsed": false,
    "ExecuteTime": {
     "end_time": "2024-11-18T18:49:14.626967956Z",
     "start_time": "2024-11-18T18:49:14.584696554Z"
    }
   },
   "id": "8d9ebd6c83871ed2",
   "execution_count": 7
  },
  {
   "cell_type": "code",
   "outputs": [],
   "source": [
    "df = pd.DataFrame(results)\n",
    "df.to_csv('./results/upfdnet.csv')"
   ],
   "metadata": {
    "collapsed": false,
    "ExecuteTime": {
     "end_time": "2024-11-18T18:49:17.543008845Z",
     "start_time": "2024-11-18T18:49:17.531189386Z"
    }
   },
   "id": "3261e02e9e7a8712",
   "execution_count": 8
  },
  {
   "cell_type": "markdown",
   "source": [
    "# UPFDSingle"
   ],
   "metadata": {
    "collapsed": false
   },
   "id": "a9f37a3fe146cd80"
  },
  {
   "cell_type": "code",
   "outputs": [
    {
     "data": {
      "text/plain": "Combination:   0%|          | 0/32 [00:00<?, ?it/s]",
      "application/vnd.jupyter.widget-view+json": {
       "version_major": 2,
       "version_minor": 0,
       "model_id": "80a19e14c32c4e52adf9bdb79b4c86f5"
      }
     },
     "metadata": {},
     "output_type": "display_data"
    },
    {
     "data": {
      "text/plain": "Training:   0%|          | 0/35 [00:00<?, ?it/s]",
      "application/vnd.jupyter.widget-view+json": {
       "version_major": 2,
       "version_minor": 0,
       "model_id": "225f46eec8a141cdbc262426b4166300"
      }
     },
     "metadata": {},
     "output_type": "display_data"
    }
   ],
   "source": [
    "results = []\n",
    "\n",
    "for name, feature, conv_layer in tqdm(combinations, desc=f\"Combination\"):\n",
    "    train_dataset = UPFD(root=root, name=name, feature=feature, split='train')\n",
    "    val_dataset = UPFD(root=root, name=name, feature=feature, split='val')\n",
    "    test_dataset = UPFD(root=root, name=name, feature=feature, split='test')\n",
    "    \n",
    "    train_loader = DataLoader(train_dataset, batch_size=config.batch_size, shuffle=True)\n",
    "    val_loader = DataLoader(val_dataset, batch_size=config.batch_size, shuffle=False)\n",
    "    test_loader = DataLoader(test_dataset, batch_size=config.batch_size, shuffle=False)\n",
    "    \n",
    "    model = UPFDSingle(conv_layer=conv_layer,\n",
    "                       feature_type=feature,\n",
    "                       hidden_dim=config.hidden_dim,\n",
    "                       out_dim=train_dataset.num_classes,\n",
    "                       dropout=config.dropout).to(device)\n",
    "    optimizer = torch.optim.Adam(model.parameters(), lr=config.lr, weight_decay=config.l2)\n",
    "    \n",
    "    train_losses = []\n",
    "    val_losses = []\n",
    "\n",
    "    for epoch in tqdm(range(config.epochs), desc=f\"Training\"):\n",
    "        train_loss = train(model, optimizer, train_loader, device)\n",
    "        train_losses.append(train_loss)\n",
    "        \n",
    "        val_loss = validate(model, val_loader, device)\n",
    "        val_losses.append(val_loss)\n",
    "    \n",
    "    acc, recall, precision, f1, roc_auc = test(model, test_loader, device)\n",
    "    train_mean, train_std = np.mean(train_losses), np.std(train_losses)\n",
    "    val_mean, val_std = np.mean(val_losses), np.std(val_losses)\n",
    "    \n",
    "    curr_result = Result(name=name, feature=feature, conv_layer=conv_layer, accuracy=acc, recall=recall, precision=precision, f1=f1, roc_auc=roc_auc, train_mean=train_mean, train_std=train_std, val_mean=val_mean, val_std=val_std)\n",
    "    results.append(curr_result)"
   ],
   "metadata": {
    "collapsed": false,
    "ExecuteTime": {
     "start_time": "2024-11-18T12:23:06.859106506Z"
    }
   },
   "id": "38936a97a337e8d5",
   "execution_count": null
  },
  {
   "cell_type": "code",
   "outputs": [],
   "source": [
    "sorted(results, key=lambda x: x.accuracy, reverse=True)"
   ],
   "metadata": {
    "collapsed": false
   },
   "id": "49a1b71deece2333",
   "execution_count": null
  },
  {
   "cell_type": "code",
   "outputs": [],
   "source": [
    "df = pd.DataFrame(results)\n",
    "df.to_csv('./results/upfdsingle.csv')"
   ],
   "metadata": {
    "collapsed": false
   },
   "id": "7470869939cfa7db",
   "execution_count": null
  },
  {
   "cell_type": "markdown",
   "source": [
    "# Multi Feature "
   ],
   "metadata": {
    "collapsed": false
   },
   "id": "ce3e563d23e57dbe"
  },
  {
   "cell_type": "code",
   "outputs": [
    {
     "data": {
      "text/plain": "Combinations:   0%|          | 0/24 [00:00<?, ?it/s]",
      "application/vnd.jupyter.widget-view+json": {
       "version_major": 2,
       "version_minor": 0,
       "model_id": "5d52d5f6db5b400ca1dcb6da346dc7ac"
      }
     },
     "metadata": {},
     "output_type": "display_data"
    },
    {
     "data": {
      "text/plain": "Training:   0%|          | 0/35 [00:00<?, ?it/s]",
      "application/vnd.jupyter.widget-view+json": {
       "version_major": 2,
       "version_minor": 0,
       "model_id": "bd0e49c08f9a414383d615f63dd12f30"
      }
     },
     "metadata": {},
     "output_type": "display_data"
    },
    {
     "data": {
      "text/plain": "Training:   0%|          | 0/35 [00:00<?, ?it/s]",
      "application/vnd.jupyter.widget-view+json": {
       "version_major": 2,
       "version_minor": 0,
       "model_id": "4045d981dd2548b5be28aabd73b86eb6"
      }
     },
     "metadata": {},
     "output_type": "display_data"
    },
    {
     "data": {
      "text/plain": "Training:   0%|          | 0/35 [00:00<?, ?it/s]",
      "application/vnd.jupyter.widget-view+json": {
       "version_major": 2,
       "version_minor": 0,
       "model_id": "5402d9708ecc4070a4c961cfeaca94ab"
      }
     },
     "metadata": {},
     "output_type": "display_data"
    },
    {
     "data": {
      "text/plain": "Training:   0%|          | 0/35 [00:00<?, ?it/s]",
      "application/vnd.jupyter.widget-view+json": {
       "version_major": 2,
       "version_minor": 0,
       "model_id": "4f852887ff7f49178a322561ea3566bb"
      }
     },
     "metadata": {},
     "output_type": "display_data"
    },
    {
     "data": {
      "text/plain": "Training:   0%|          | 0/35 [00:00<?, ?it/s]",
      "application/vnd.jupyter.widget-view+json": {
       "version_major": 2,
       "version_minor": 0,
       "model_id": "22e39dac013a4b4680d87809afadb902"
      }
     },
     "metadata": {},
     "output_type": "display_data"
    },
    {
     "data": {
      "text/plain": "Training:   0%|          | 0/35 [00:00<?, ?it/s]",
      "application/vnd.jupyter.widget-view+json": {
       "version_major": 2,
       "version_minor": 0,
       "model_id": "4e5319cb3447477d8c93905942358c3e"
      }
     },
     "metadata": {},
     "output_type": "display_data"
    },
    {
     "data": {
      "text/plain": "Training:   0%|          | 0/35 [00:00<?, ?it/s]",
      "application/vnd.jupyter.widget-view+json": {
       "version_major": 2,
       "version_minor": 0,
       "model_id": "023e782ef7cc470084db6e445ddb9e9c"
      }
     },
     "metadata": {},
     "output_type": "display_data"
    },
    {
     "data": {
      "text/plain": "Training:   0%|          | 0/35 [00:00<?, ?it/s]",
      "application/vnd.jupyter.widget-view+json": {
       "version_major": 2,
       "version_minor": 0,
       "model_id": "2da60c3b61314babb3d2526faae2dcbb"
      }
     },
     "metadata": {},
     "output_type": "display_data"
    },
    {
     "data": {
      "text/plain": "Training:   0%|          | 0/35 [00:00<?, ?it/s]",
      "application/vnd.jupyter.widget-view+json": {
       "version_major": 2,
       "version_minor": 0,
       "model_id": "fd484df563134ee999aa297acb791081"
      }
     },
     "metadata": {},
     "output_type": "display_data"
    },
    {
     "data": {
      "text/plain": "Training:   0%|          | 0/35 [00:00<?, ?it/s]",
      "application/vnd.jupyter.widget-view+json": {
       "version_major": 2,
       "version_minor": 0,
       "model_id": "b8184e1c8edd411c8db55762aa24691f"
      }
     },
     "metadata": {},
     "output_type": "display_data"
    },
    {
     "data": {
      "text/plain": "Training:   0%|          | 0/35 [00:00<?, ?it/s]",
      "application/vnd.jupyter.widget-view+json": {
       "version_major": 2,
       "version_minor": 0,
       "model_id": "a133c8433b4a491d923033aa7832c7d5"
      }
     },
     "metadata": {},
     "output_type": "display_data"
    },
    {
     "data": {
      "text/plain": "Training:   0%|          | 0/35 [00:00<?, ?it/s]",
      "application/vnd.jupyter.widget-view+json": {
       "version_major": 2,
       "version_minor": 0,
       "model_id": "76803f2010524947b78755245bba0bb1"
      }
     },
     "metadata": {},
     "output_type": "display_data"
    },
    {
     "data": {
      "text/plain": "Training:   0%|          | 0/35 [00:00<?, ?it/s]",
      "application/vnd.jupyter.widget-view+json": {
       "version_major": 2,
       "version_minor": 0,
       "model_id": "9ebd76e9e1f54da69d36d01341e7fad8"
      }
     },
     "metadata": {},
     "output_type": "display_data"
    },
    {
     "data": {
      "text/plain": "Training:   0%|          | 0/35 [00:00<?, ?it/s]",
      "application/vnd.jupyter.widget-view+json": {
       "version_major": 2,
       "version_minor": 0,
       "model_id": "db059488147841f7ab66120324f913a2"
      }
     },
     "metadata": {},
     "output_type": "display_data"
    },
    {
     "data": {
      "text/plain": "Training:   0%|          | 0/35 [00:00<?, ?it/s]",
      "application/vnd.jupyter.widget-view+json": {
       "version_major": 2,
       "version_minor": 0,
       "model_id": "2c0c4684cb514b9599d9b1f3ef4999d2"
      }
     },
     "metadata": {},
     "output_type": "display_data"
    },
    {
     "data": {
      "text/plain": "Training:   0%|          | 0/35 [00:00<?, ?it/s]",
      "application/vnd.jupyter.widget-view+json": {
       "version_major": 2,
       "version_minor": 0,
       "model_id": "25db37a49251446fbc5437232d00d648"
      }
     },
     "metadata": {},
     "output_type": "display_data"
    },
    {
     "data": {
      "text/plain": "Training:   0%|          | 0/35 [00:00<?, ?it/s]",
      "application/vnd.jupyter.widget-view+json": {
       "version_major": 2,
       "version_minor": 0,
       "model_id": "1b5bbe6835d84253baf44f297c116fc3"
      }
     },
     "metadata": {},
     "output_type": "display_data"
    },
    {
     "data": {
      "text/plain": "Training:   0%|          | 0/35 [00:00<?, ?it/s]",
      "application/vnd.jupyter.widget-view+json": {
       "version_major": 2,
       "version_minor": 0,
       "model_id": "b5b69aa020404952aa5ec13cf8eb6ff9"
      }
     },
     "metadata": {},
     "output_type": "display_data"
    },
    {
     "data": {
      "text/plain": "Training:   0%|          | 0/35 [00:00<?, ?it/s]",
      "application/vnd.jupyter.widget-view+json": {
       "version_major": 2,
       "version_minor": 0,
       "model_id": "086624d6eba14d86aed1a8ee318b1e85"
      }
     },
     "metadata": {},
     "output_type": "display_data"
    },
    {
     "data": {
      "text/plain": "Training:   0%|          | 0/35 [00:00<?, ?it/s]",
      "application/vnd.jupyter.widget-view+json": {
       "version_major": 2,
       "version_minor": 0,
       "model_id": "e0ae4aa512fe4d04bc8aad5833dbf18b"
      }
     },
     "metadata": {},
     "output_type": "display_data"
    },
    {
     "data": {
      "text/plain": "Training:   0%|          | 0/35 [00:00<?, ?it/s]",
      "application/vnd.jupyter.widget-view+json": {
       "version_major": 2,
       "version_minor": 0,
       "model_id": "5a8f4df00a87464c894c5c5d4a01862e"
      }
     },
     "metadata": {},
     "output_type": "display_data"
    },
    {
     "data": {
      "text/plain": "Training:   0%|          | 0/35 [00:00<?, ?it/s]",
      "application/vnd.jupyter.widget-view+json": {
       "version_major": 2,
       "version_minor": 0,
       "model_id": "fc02ffd776c1422681b5070f4dd1fd10"
      }
     },
     "metadata": {},
     "output_type": "display_data"
    },
    {
     "data": {
      "text/plain": "Training:   0%|          | 0/35 [00:00<?, ?it/s]",
      "application/vnd.jupyter.widget-view+json": {
       "version_major": 2,
       "version_minor": 0,
       "model_id": "cfcd53d89863490bb72d45afd0afcd82"
      }
     },
     "metadata": {},
     "output_type": "display_data"
    },
    {
     "data": {
      "text/plain": "Training:   0%|          | 0/35 [00:00<?, ?it/s]",
      "application/vnd.jupyter.widget-view+json": {
       "version_major": 2,
       "version_minor": 0,
       "model_id": "fc617288beab4d5681ddd43638a15f9e"
      }
     },
     "metadata": {},
     "output_type": "display_data"
    }
   ],
   "source": [
    "results = []\n",
    "\n",
    "feature_combs = [\n",
    "    ['content', 'bert'],\n",
    "    ['bert', 'profile'],\n",
    "    ['profile', 'spacy']\n",
    "]\n",
    "\n",
    "for name, conv_layer, features in tqdm(list(product(names, conv_layers, feature_combs)), desc=\"Combinations\"):\n",
    "    train_multidataset = MultiFeatureDataset(features=features, name=name, split='train')\n",
    "    val_multidataset = MultiFeatureDataset(features=features, name=name, split='val')\n",
    "    test_multidataset = MultiFeatureDataset(features=features, name=name, split='test')\n",
    "    \n",
    "    multi_trainloader = DataLoader(train_multidataset, batch_size=config.batch_size, shuffle=True)\n",
    "    multi_valloader = DataLoader(val_multidataset, batch_size=config.batch_size, shuffle=False)\n",
    "    multi_testloader = DataLoader(test_multidataset, batch_size=config.batch_size, shuffle=False)\n",
    "    \n",
    "    \n",
    "    model = MultiFeatureNet(features=features, conv_layer=conv_layer, hidden_dim=config.hidden_dim, out_dim=train_dataset.num_classes, dropout=0.2).to(device)\n",
    "    optimizer = torch.optim.Adam(model.parameters(), lr=config.lr, weight_decay=config.l2)   \n",
    "\n",
    "    train_losses = []\n",
    "    val_losses = []\n",
    "\n",
    "    for epoch in tqdm(range(config.epochs), desc=f\"Training\"):\n",
    "        train_loss = train_multi(model, optimizer, multi_trainloader, device)\n",
    "        train_losses.append(train_loss)\n",
    "        \n",
    "        val_loss = validate_multi(model, multi_valloader, device)\n",
    "        val_losses.append(val_loss)\n",
    "    \n",
    "    acc, recall, precision, f1, roc_auc = test_multi(model, multi_testloader, device)\n",
    "    train_mean, train_std = np.mean(train_losses), np.std(train_losses)\n",
    "    val_mean, val_std = np.mean(val_losses), np.std(val_losses)\n",
    "    \n",
    "    curr_result = Result(name=name, feature=features, conv_layer=conv_layer, accuracy=acc, recall=recall, precision=precision, f1=f1, roc_auc=roc_auc, train_mean=train_mean, train_std=train_std, val_mean=val_mean, val_std=val_std)\n",
    "    results.append(curr_result)"
   ],
   "metadata": {
    "collapsed": false,
    "ExecuteTime": {
     "end_time": "2024-11-18T13:12:21.708832528Z",
     "start_time": "2024-11-18T13:05:07.424462877Z"
    }
   },
   "id": "85da1b64780934f3",
   "execution_count": 18
  },
  {
   "cell_type": "code",
   "outputs": [
    {
     "data": {
      "text/plain": "[Result(name='politifact', feature=['bert', 'profile'], conv_layer='gcn', accuracy=0.8190045248868778, recall=0.8053097345132744, precision=0.8348623853211009, f1=0.8198198198198198, roc_auc=0.8193215339233039, train_mean=0.5222991545285497, train_std=0.21903406916599294, val_mean=0.910599262373788, val_std=0.40374975623022724),\n Result(name='politifact', feature=['bert', 'profile'], conv_layer='gat', accuracy=0.8054298642533937, recall=0.831858407079646, precision=0.7966101694915254, f1=0.8138528138528138, roc_auc=0.8048180924287118, train_mean=0.4568661985120603, train_std=0.24506813325117927, val_mean=0.7361892189298357, val_std=0.15406207732691266),\n Result(name='politifact', feature=['profile', 'spacy'], conv_layer='sage', accuracy=0.8009049773755657, recall=0.6902654867256637, precision=0.896551724137931, f1=0.78, roc_auc=0.8034660766961651, train_mean=0.456974800995418, train_std=0.18504695443593921, val_mean=0.7903204168592181, val_std=0.12690821584802703),\n Result(name='politifact', feature=['profile', 'spacy'], conv_layer='gcn', accuracy=0.7963800904977375, recall=0.672566371681416, precision=0.9047619047619048, f1=0.7715736040609137, roc_auc=0.7992461488036711, train_mean=0.47453130057879855, train_std=0.19006449064701836, val_mean=0.6403885892459324, val_std=0.1623522959677648),\n Result(name='politifact', feature=['bert', 'profile'], conv_layer='sage', accuracy=0.7873303167420814, recall=0.6991150442477876, precision=0.8586956521739131, f1=0.7707317073170732, roc_auc=0.7893723369387086, train_mean=0.5753174973385674, train_std=0.16040271007429574, val_mean=0.7413294553756714, val_std=0.18509809612444064),\n Result(name='politifact', feature=['content', 'bert'], conv_layer='gcn', accuracy=0.7737556561085973, recall=0.8584070796460177, precision=0.7404580152671756, f1=0.7950819672131147, roc_auc=0.7717961324156013, train_mean=0.5563090636261872, train_std=0.19771093628064673, val_mean=0.7076628216675349, val_std=0.13461941745614986),\n Result(name='politifact', feature=['profile', 'spacy'], conv_layer='gat', accuracy=0.7601809954751131, recall=0.8849557522123894, precision=0.7142857142857143, f1=0.7905138339920948, roc_auc=0.7572926909210096, train_mean=0.5119413529123579, train_std=0.16580224420809517, val_mean=0.6766619162900107, val_std=0.1651291563316871),\n Result(name='politifact', feature=['content', 'bert'], conv_layer='gat', accuracy=0.6877828054298643, recall=0.9203539823008849, precision=0.6341463414634146, f1=0.7509025270758123, roc_auc=0.6823992133726647, train_mean=0.5032881006598473, train_std=0.22101192176899426, val_mean=0.7754893268857683, val_std=0.21675667024975612),\n Result(name='politifact', feature=['content', 'bert'], conv_layer='sage', accuracy=0.5203619909502263, recall=1.0, precision=0.5159817351598174, f1=0.6807228915662651, roc_auc=0.5092592592592593, train_mean=0.700153090272631, train_std=0.20057926422897246, val_mean=0.7907523563929967, val_std=0.39720147036016384),\n Result(name='gossipcop', feature=['content', 'bert'], conv_layer='gcn', accuracy=0.4992158912702561, recall=0.0, precision=0.0, f1=0.0, roc_auc=0.5, train_mean=0.69308393625986, train_std=0.00021369521235026264, val_mean=0.6929919382504054, val_std=7.695453420408464e-05),\n Result(name='gossipcop', feature=['bert', 'profile'], conv_layer='gcn', accuracy=0.4992158912702561, recall=0.0, precision=0.0, f1=0.0, roc_auc=0.5, train_mean=0.6933554405257816, train_std=0.0016363647995801052, val_mean=0.692965773514339, val_std=0.00016577651355963798),\n Result(name='gossipcop', feature=['profile', 'spacy'], conv_layer='gcn', accuracy=0.4992158912702561, recall=0.0, precision=0.0, f1=0.0, roc_auc=0.5, train_mean=0.6932679560449388, train_std=0.0006915794647535822, val_mean=0.6930189429010662, val_std=9.598197836413306e-05),\n Result(name='gossipcop', feature=['content', 'bert'], conv_layer='sage', accuracy=0.4992158912702561, recall=0.0, precision=0.0, f1=0.0, roc_auc=0.5, train_mean=0.6943874412112766, train_std=0.007150386282342053, val_mean=0.6930511566570826, val_std=0.00024311604771971236),\n Result(name='gossipcop', feature=['bert', 'profile'], conv_layer='sage', accuracy=0.4992158912702561, recall=0.0, precision=0.0, f1=0.0, roc_auc=0.5, train_mean=0.6930498446737017, train_std=0.00047879808344572565, val_mean=0.6929717901774813, val_std=0.0001382575111107603),\n Result(name='gossipcop', feature=['profile', 'spacy'], conv_layer='sage', accuracy=0.4992158912702561, recall=0.0, precision=0.0, f1=0.0, roc_auc=0.5, train_mean=0.6931627888528128, train_std=0.000309776191218321, val_mean=0.6930114003590174, val_std=3.988456486617687e-05),\n Result(name='gossipcop', feature=['content', 'bert'], conv_layer='gat', accuracy=0.4992158912702561, recall=0.0, precision=0.0, f1=0.0, roc_auc=0.5, train_mean=0.6934170889475989, train_std=0.0017262678330493113, val_mean=0.6929946313585554, val_std=3.948248767072059e-05),\n Result(name='gossipcop', feature=['bert', 'profile'], conv_layer='gat', accuracy=0.4992158912702561, recall=0.0, precision=0.0, f1=0.0, roc_auc=0.5, train_mean=0.6931359028059338, train_std=0.0006882696829742195, val_mean=0.6930031064578465, val_std=4.8692581064262414e-05),\n Result(name='gossipcop', feature=['profile', 'spacy'], conv_layer='gat', accuracy=0.4992158912702561, recall=0.0, precision=0.0, f1=0.0, roc_auc=0.5, train_mean=0.693253449409727, train_std=0.0006879195303463268, val_mean=0.6930420678002495, val_std=0.0002059506359647769),\n Result(name='gossipcop', feature=['content', 'bert'], conv_layer='parma', accuracy=0.4992158912702561, recall=0.0, precision=0.0, f1=0.0, roc_auc=0.5, train_mean=0.6931232359674242, train_std=0.0002947416354566779, val_mean=0.6930013234274729, val_std=3.166694512311567e-05),\n Result(name='gossipcop', feature=['bert', 'profile'], conv_layer='parma', accuracy=0.4992158912702561, recall=0.0, precision=0.0, f1=0.0, roc_auc=0.5, train_mean=0.6933131180112324, train_std=0.000604983053737197, val_mean=0.693022471496037, val_std=6.49564436042084e-05),\n Result(name='gossipcop', feature=['profile', 'spacy'], conv_layer='parma', accuracy=0.4992158912702561, recall=0.0, precision=0.0, f1=0.0, roc_auc=0.5, train_mean=0.6931447278885615, train_std=0.00026151274923500123, val_mean=0.6930240573201861, val_std=0.00010330490100314653),\n Result(name='politifact', feature=['content', 'bert'], conv_layer='parma', accuracy=0.48868778280542985, recall=0.0, precision=0.0, f1=0.0, roc_auc=0.5, train_mean=0.6806200674601963, train_std=0.0015472067080542252, val_mean=0.7316466195242746, val_std=0.005409596524838071),\n Result(name='politifact', feature=['bert', 'profile'], conv_layer='parma', accuracy=0.48868778280542985, recall=0.0, precision=0.0, f1=0.0, roc_auc=0.5, train_mean=0.6815063016755241, train_std=0.003944971020309519, val_mean=0.7304580705506462, val_std=0.010388856727458824),\n Result(name='politifact', feature=['profile', 'spacy'], conv_layer='parma', accuracy=0.48868778280542985, recall=0.0, precision=0.0, f1=0.0, roc_auc=0.5, train_mean=0.6815293005534581, train_std=0.003994369421495634, val_mean=0.7300454667636327, val_std=0.011453833811801444)]"
     },
     "execution_count": 19,
     "metadata": {},
     "output_type": "execute_result"
    }
   ],
   "source": [
    "sorted(results, key=lambda x: x.accuracy, reverse=True)"
   ],
   "metadata": {
    "collapsed": false,
    "ExecuteTime": {
     "end_time": "2024-11-18T13:16:39.024082414Z",
     "start_time": "2024-11-18T13:16:38.981462798Z"
    }
   },
   "id": "beac660d1d72e8fa",
   "execution_count": 19
  },
  {
   "cell_type": "code",
   "outputs": [],
   "source": [
    "df = pd.DataFrame(results)\n",
    "df.to_csv('./results/multifeature.csv')"
   ],
   "metadata": {
    "collapsed": false,
    "ExecuteTime": {
     "end_time": "2024-11-18T13:16:47.939597285Z",
     "start_time": "2024-11-18T13:16:47.922769667Z"
    }
   },
   "id": "3c6cff1c59019dd1",
   "execution_count": 20
  },
  {
   "cell_type": "markdown",
   "source": [
    "# Parallel Feature"
   ],
   "metadata": {
    "collapsed": false
   },
   "id": "dc32ad5f04fc2717"
  },
  {
   "cell_type": "code",
   "outputs": [
    {
     "data": {
      "text/plain": "Combinations:   0%|          | 0/24 [00:00<?, ?it/s]",
      "application/vnd.jupyter.widget-view+json": {
       "version_major": 2,
       "version_minor": 0,
       "model_id": "98af8ed00e344d979a55f9bea5958c50"
      }
     },
     "metadata": {},
     "output_type": "display_data"
    },
    {
     "data": {
      "text/plain": "Training:   0%|          | 0/35 [00:00<?, ?it/s]",
      "application/vnd.jupyter.widget-view+json": {
       "version_major": 2,
       "version_minor": 0,
       "model_id": "9879b6f24b924f8b8a87f78ebb655408"
      }
     },
     "metadata": {},
     "output_type": "display_data"
    },
    {
     "data": {
      "text/plain": "Training:   0%|          | 0/35 [00:00<?, ?it/s]",
      "application/vnd.jupyter.widget-view+json": {
       "version_major": 2,
       "version_minor": 0,
       "model_id": "4ec1cf8c93c444229897664cb3596b28"
      }
     },
     "metadata": {},
     "output_type": "display_data"
    },
    {
     "data": {
      "text/plain": "Training:   0%|          | 0/35 [00:00<?, ?it/s]",
      "application/vnd.jupyter.widget-view+json": {
       "version_major": 2,
       "version_minor": 0,
       "model_id": "7c290ebd4fb0467796a4977756fe6442"
      }
     },
     "metadata": {},
     "output_type": "display_data"
    },
    {
     "data": {
      "text/plain": "Training:   0%|          | 0/35 [00:00<?, ?it/s]",
      "application/vnd.jupyter.widget-view+json": {
       "version_major": 2,
       "version_minor": 0,
       "model_id": "6838d265eb8e4c9ca45809c3c990617f"
      }
     },
     "metadata": {},
     "output_type": "display_data"
    },
    {
     "data": {
      "text/plain": "Training:   0%|          | 0/35 [00:00<?, ?it/s]",
      "application/vnd.jupyter.widget-view+json": {
       "version_major": 2,
       "version_minor": 0,
       "model_id": "b36a575051a94d24b581cf9871dabe65"
      }
     },
     "metadata": {},
     "output_type": "display_data"
    },
    {
     "data": {
      "text/plain": "Training:   0%|          | 0/35 [00:00<?, ?it/s]",
      "application/vnd.jupyter.widget-view+json": {
       "version_major": 2,
       "version_minor": 0,
       "model_id": "4835f6ca049d42fca49e03b816a22527"
      }
     },
     "metadata": {},
     "output_type": "display_data"
    },
    {
     "data": {
      "text/plain": "Training:   0%|          | 0/35 [00:00<?, ?it/s]",
      "application/vnd.jupyter.widget-view+json": {
       "version_major": 2,
       "version_minor": 0,
       "model_id": "2f4beeed5e544d09bd96c09c0e679ecc"
      }
     },
     "metadata": {},
     "output_type": "display_data"
    },
    {
     "data": {
      "text/plain": "Training:   0%|          | 0/35 [00:00<?, ?it/s]",
      "application/vnd.jupyter.widget-view+json": {
       "version_major": 2,
       "version_minor": 0,
       "model_id": "d4779519579d48519132790ca87a8fa8"
      }
     },
     "metadata": {},
     "output_type": "display_data"
    },
    {
     "data": {
      "text/plain": "Training:   0%|          | 0/35 [00:00<?, ?it/s]",
      "application/vnd.jupyter.widget-view+json": {
       "version_major": 2,
       "version_minor": 0,
       "model_id": "aa922d4b49ff4987bccb23eb7c7091fe"
      }
     },
     "metadata": {},
     "output_type": "display_data"
    },
    {
     "data": {
      "text/plain": "Training:   0%|          | 0/35 [00:00<?, ?it/s]",
      "application/vnd.jupyter.widget-view+json": {
       "version_major": 2,
       "version_minor": 0,
       "model_id": "7dd5105b979f4927b028675c338924a6"
      }
     },
     "metadata": {},
     "output_type": "display_data"
    },
    {
     "data": {
      "text/plain": "Training:   0%|          | 0/35 [00:00<?, ?it/s]",
      "application/vnd.jupyter.widget-view+json": {
       "version_major": 2,
       "version_minor": 0,
       "model_id": "40863343713d42a29367c303791b1de2"
      }
     },
     "metadata": {},
     "output_type": "display_data"
    },
    {
     "data": {
      "text/plain": "Training:   0%|          | 0/35 [00:00<?, ?it/s]",
      "application/vnd.jupyter.widget-view+json": {
       "version_major": 2,
       "version_minor": 0,
       "model_id": "3e80703300014b1bb747cb1234718b5b"
      }
     },
     "metadata": {},
     "output_type": "display_data"
    },
    {
     "data": {
      "text/plain": "Training:   0%|          | 0/35 [00:00<?, ?it/s]",
      "application/vnd.jupyter.widget-view+json": {
       "version_major": 2,
       "version_minor": 0,
       "model_id": "377fa1a34b2348538ea6621e0763aa45"
      }
     },
     "metadata": {},
     "output_type": "display_data"
    },
    {
     "data": {
      "text/plain": "Training:   0%|          | 0/35 [00:00<?, ?it/s]",
      "application/vnd.jupyter.widget-view+json": {
       "version_major": 2,
       "version_minor": 0,
       "model_id": "e1609c1eab2e40d7a32303d2d08b0369"
      }
     },
     "metadata": {},
     "output_type": "display_data"
    },
    {
     "data": {
      "text/plain": "Training:   0%|          | 0/35 [00:00<?, ?it/s]",
      "application/vnd.jupyter.widget-view+json": {
       "version_major": 2,
       "version_minor": 0,
       "model_id": "dafe6ef33c4d4ac89be29d0e78edd35a"
      }
     },
     "metadata": {},
     "output_type": "display_data"
    },
    {
     "data": {
      "text/plain": "Training:   0%|          | 0/35 [00:00<?, ?it/s]",
      "application/vnd.jupyter.widget-view+json": {
       "version_major": 2,
       "version_minor": 0,
       "model_id": "37cbddac4ecb4b50878f162886a041bc"
      }
     },
     "metadata": {},
     "output_type": "display_data"
    },
    {
     "data": {
      "text/plain": "Training:   0%|          | 0/35 [00:00<?, ?it/s]",
      "application/vnd.jupyter.widget-view+json": {
       "version_major": 2,
       "version_minor": 0,
       "model_id": "623ebdad7b464f48b12456d01b6bb5c9"
      }
     },
     "metadata": {},
     "output_type": "display_data"
    },
    {
     "data": {
      "text/plain": "Training:   0%|          | 0/35 [00:00<?, ?it/s]",
      "application/vnd.jupyter.widget-view+json": {
       "version_major": 2,
       "version_minor": 0,
       "model_id": "b294b91e4bf546448e2eedc127c2f4b2"
      }
     },
     "metadata": {},
     "output_type": "display_data"
    },
    {
     "data": {
      "text/plain": "Training:   0%|          | 0/35 [00:00<?, ?it/s]",
      "application/vnd.jupyter.widget-view+json": {
       "version_major": 2,
       "version_minor": 0,
       "model_id": "467ab5da991f4bbba9df7c05b8d172d9"
      }
     },
     "metadata": {},
     "output_type": "display_data"
    },
    {
     "data": {
      "text/plain": "Training:   0%|          | 0/35 [00:00<?, ?it/s]",
      "application/vnd.jupyter.widget-view+json": {
       "version_major": 2,
       "version_minor": 0,
       "model_id": "71d276b084864c519b0c592bd60001ec"
      }
     },
     "metadata": {},
     "output_type": "display_data"
    },
    {
     "data": {
      "text/plain": "Training:   0%|          | 0/35 [00:00<?, ?it/s]",
      "application/vnd.jupyter.widget-view+json": {
       "version_major": 2,
       "version_minor": 0,
       "model_id": "b3a4783fb7824762af9e0cbca3890a63"
      }
     },
     "metadata": {},
     "output_type": "display_data"
    },
    {
     "data": {
      "text/plain": "Training:   0%|          | 0/35 [00:00<?, ?it/s]",
      "application/vnd.jupyter.widget-view+json": {
       "version_major": 2,
       "version_minor": 0,
       "model_id": "8c1e105f815f4af7be687deca594ae87"
      }
     },
     "metadata": {},
     "output_type": "display_data"
    },
    {
     "data": {
      "text/plain": "Training:   0%|          | 0/35 [00:00<?, ?it/s]",
      "application/vnd.jupyter.widget-view+json": {
       "version_major": 2,
       "version_minor": 0,
       "model_id": "2244fc2d9b6f4c339cf813635d7b8f3a"
      }
     },
     "metadata": {},
     "output_type": "display_data"
    },
    {
     "data": {
      "text/plain": "Training:   0%|          | 0/35 [00:00<?, ?it/s]",
      "application/vnd.jupyter.widget-view+json": {
       "version_major": 2,
       "version_minor": 0,
       "model_id": "a096fd8e3bce4537a978ba2e3610f863"
      }
     },
     "metadata": {},
     "output_type": "display_data"
    }
   ],
   "source": [
    "results = []\n",
    "\n",
    "feature_combs = [\n",
    "    ['content', 'bert'],\n",
    "    ['bert', 'profile'],\n",
    "    ['profile', 'spacy']\n",
    "]\n",
    "\n",
    "for name, conv_layer, features in tqdm(list(product(names, conv_layers, feature_combs)), desc=\"Combinations\"):\n",
    "    train_multidataset = MultiFeatureDataset(features=features, name=name, split='train')\n",
    "    val_multidataset = MultiFeatureDataset(features=features, name=name, split='val')\n",
    "    test_multidataset = MultiFeatureDataset(features=features, name=name, split='test')\n",
    "    \n",
    "    multi_trainloader = DataLoader(train_multidataset, batch_size=config.batch_size, shuffle=True)\n",
    "    multi_valloader = DataLoader(val_multidataset, batch_size=config.batch_size, shuffle=False)\n",
    "    multi_testloader = DataLoader(test_multidataset, batch_size=config.batch_size, shuffle=False)\n",
    "    \n",
    "    \n",
    "    model = ParallelFeatureNet(features=features, conv_layer=conv_layer, hidden_dim=config.hidden_dim, out_dim=train_dataset.num_classes, dropout=0.2).to(device)\n",
    "    optimizer = torch.optim.Adam(model.parameters(), lr=config.lr, weight_decay=config.l2)   \n",
    "\n",
    "    train_losses = []\n",
    "    val_losses = []\n",
    "\n",
    "    for epoch in tqdm(range(config.epochs), desc=f\"Training\"):\n",
    "        train_loss = train_multi(model, optimizer, multi_trainloader, device)\n",
    "        train_losses.append(train_loss)\n",
    "        \n",
    "        val_loss = validate_multi(model, multi_valloader, device)\n",
    "        val_losses.append(val_loss)\n",
    "    \n",
    "    acc, recall, precision, f1, roc_auc = test_multi(model, multi_testloader, device)\n",
    "    train_mean, train_std = np.mean(train_losses), np.std(train_losses)\n",
    "    val_mean, val_std = np.mean(val_losses), np.std(val_losses)\n",
    "    \n",
    "    curr_result = Result(name=name, feature=features, conv_layer=conv_layer, accuracy=acc, recall=recall, precision=precision, f1=f1, roc_auc=roc_auc, train_mean=train_mean, train_std=train_std, val_mean=val_mean, val_std=val_std)\n",
    "    results.append(curr_result)"
   ],
   "metadata": {
    "collapsed": false,
    "ExecuteTime": {
     "end_time": "2024-11-18T13:33:26.512303104Z",
     "start_time": "2024-11-18T13:23:21.885180871Z"
    }
   },
   "id": "a68d9507a3be13",
   "execution_count": 8
  },
  {
   "cell_type": "code",
   "outputs": [
    {
     "data": {
      "text/plain": "[Result(name='gossipcop', feature=['profile', 'spacy'], conv_layer='sage', accuracy=0.9231573444851019, recall=0.9008350730688935, precision=0.9431693989071038, f1=0.9215162840363054, roc_auc=0.9231924056443944, train_mean=0.41325491858380187, train_std=0.157092479251925, val_mean=0.3728804755210877, val_std=0.12467048910101622),\n Result(name='gossipcop', feature=['profile', 'spacy'], conv_layer='gat', accuracy=0.797961317302666, recall=0.6617954070981211, precision=0.9102656137832017, f1=0.7663946811725597, roc_auc=0.7981751904600553, train_mean=0.5782906344012608, train_std=0.050314190506717676, val_mean=0.5278170565196446, val_std=0.06888627621532191),\n Result(name='politifact', feature=['profile', 'spacy'], conv_layer='gat', accuracy=0.7963800904977375, recall=0.6902654867256637, precision=0.8863636363636364, f1=0.7761194029850746, roc_auc=0.7988364470665356, train_mean=0.3998149220432554, train_std=0.1592850138686564, val_mean=0.5820902381624494, val_std=0.13794624485975798),\n Result(name='politifact', feature=['profile', 'spacy'], conv_layer='sage', accuracy=0.7918552036199095, recall=0.8584070796460177, precision=0.7637795275590551, f1=0.8083333333333333, roc_auc=0.7903146509341199, train_mean=0.4784900635480881, train_std=0.1415064356552185, val_mean=0.7318312832287379, val_std=0.13829753746000847),\n Result(name='politifact', feature=['profile', 'spacy'], conv_layer='gcn', accuracy=0.7828054298642534, recall=0.6637168141592921, precision=0.8823529411764706, f1=0.7575757575757576, roc_auc=0.7855621107833497, train_mean=0.46813332183020456, train_std=0.16162522007688884, val_mean=0.5829154210431235, val_std=0.15343281792085653),\n Result(name='gossipcop', feature=['bert', 'profile'], conv_layer='gcn', accuracy=0.7561421850496602, recall=0.6795407098121086, precision=0.8032078963602715, f1=0.7362171331636981, roc_auc=0.7562625015029129, train_mean=0.59058450640194, train_std=0.1530413644947202, val_mean=0.5745264867373875, val_std=0.08622259943810393),\n Result(name='gossipcop', feature=['profile', 'spacy'], conv_layer='gcn', accuracy=0.7271301620491375, recall=0.81419624217119, precision=0.693950177935943, f1=0.7492795389048992, roc_auc=0.7269934090437102, train_mean=0.6297397479178414, train_std=0.018472096179715753, val_mean=0.6206966686248779, val_std=0.03428497410834612),\n Result(name='politifact', feature=['content', 'bert'], conv_layer='gcn', accuracy=0.6877828054298643, recall=0.8761061946902655, precision=0.6428571428571429, f1=0.7415730337078652, roc_auc=0.6834234677155031, train_mean=1.1199910010610308, train_std=1.3772262671656819, val_mean=1.1905130761010305, val_std=1.2083428709370831),\n Result(name='politifact', feature=['bert', 'profile'], conv_layer='sage', accuracy=0.6787330316742082, recall=0.8849557522123894, precision=0.6329113924050633, f1=0.7380073800738007, roc_auc=0.6739593575876761, train_mean=1.0982809441430228, train_std=1.2741341881624355, val_mean=1.2088110753468104, val_std=1.6036242246778882),\n Result(name='politifact', feature=['bert', 'profile'], conv_layer='gcn', accuracy=0.6561085972850679, recall=0.34513274336283184, precision=0.9512195121951219, f1=0.5064935064935064, roc_auc=0.6633071124221567, train_mean=0.777004386484623, train_std=0.9232055551574196, val_mean=0.9270774304866791, val_std=0.6207408330549554),\n Result(name='gossipcop', feature=['content', 'bert'], conv_layer='gcn', accuracy=0.638003136434919, recall=0.9618997912317327, precision=0.5841521394611727, f1=0.7268783277460067, roc_auc=0.6374943982336674, train_mean=0.6842601963451932, train_std=0.3452421726130253, val_mean=0.6448611625603267, val_std=0.09324905338269297),\n Result(name='politifact', feature=['content', 'bert'], conv_layer='parma', accuracy=0.5113122171945701, recall=1.0, precision=0.5113122171945701, f1=0.6766467065868264, roc_auc=0.5, train_mean=59.73796893358231, train_std=120.5134044377239, val_mean=64.11658168860845, val_std=119.54579345481345),\n Result(name='gossipcop', feature=['content', 'bert'], conv_layer='sage', accuracy=0.4992158912702561, recall=0.0, precision=0.0, f1=0.0, roc_auc=0.5, train_mean=0.7593737216222854, train_std=0.2818531410933189, val_mean=0.6982594002996173, val_std=0.05413218467600505),\n Result(name='gossipcop', feature=['bert', 'profile'], conv_layer='sage', accuracy=0.4992158912702561, recall=0.0, precision=0.0, f1=0.0, roc_auc=0.5, train_mean=0.7197474533603305, train_std=0.168059287426386, val_mean=0.6893299177714757, val_std=0.03600342955986118),\n Result(name='gossipcop', feature=['content', 'bert'], conv_layer='gat', accuracy=0.4992158912702561, recall=0.0, precision=0.0, f1=0.0, roc_auc=0.5, train_mean=0.7287921046453809, train_std=0.20282083982739454, val_mean=0.693379591873714, val_std=0.0012498947547852984),\n Result(name='gossipcop', feature=['bert', 'profile'], conv_layer='gat', accuracy=0.4992158912702561, recall=0.0, precision=0.0, f1=0.0, roc_auc=0.5, train_mean=0.7016509710796295, train_std=0.04776932024452249, val_mean=0.6918075520651681, val_std=0.01273915010079013),\n Result(name='gossipcop', feature=['content', 'bert'], conv_layer='parma', accuracy=0.4992158912702561, recall=0.0, precision=0.0, f1=0.0, roc_auc=0.5, train_mean=3348.3249695248073, train_std=19162.358941921975, val_mean=1.2724945735931397, val_std=3.2047321988004827),\n Result(name='gossipcop', feature=['bert', 'profile'], conv_layer='parma', accuracy=0.4992158912702561, recall=0.0, precision=0.0, f1=0.0, roc_auc=0.5, train_mean=23.425059813544866, train_std=117.19587985514198, val_mean=2.950790627683912, val_std=10.1954665283965),\n Result(name='gossipcop', feature=['profile', 'spacy'], conv_layer='parma', accuracy=0.4992158912702561, recall=0.0, precision=0.0, f1=0.0, roc_auc=0.5, train_mean=2.2196448136889746, train_std=7.9461096988583995, val_mean=0.8963128444126675, val_std=1.164140664238444),\n Result(name='politifact', feature=['content', 'bert'], conv_layer='sage', accuracy=0.48868778280542985, recall=0.0, precision=0.0, f1=0.0, roc_auc=0.5, train_mean=1.843556978872844, train_std=2.6396994905539577, val_mean=1.851881011894771, val_std=2.3279661294080247),\n Result(name='politifact', feature=['content', 'bert'], conv_layer='gat', accuracy=0.48868778280542985, recall=0.0, precision=0.0, f1=0.0, roc_auc=0.5, train_mean=0.8264530999319893, train_std=0.3872753121616908, val_mean=0.8792138389178685, val_std=0.46756942327519324),\n Result(name='politifact', feature=['bert', 'profile'], conv_layer='gat', accuracy=0.48868778280542985, recall=0.0, precision=0.0, f1=0.0, roc_auc=0.5, train_mean=0.7778208068438939, train_std=0.3656159426610696, val_mean=0.8279384970664978, val_std=0.39832973617833983),\n Result(name='politifact', feature=['bert', 'profile'], conv_layer='parma', accuracy=0.48868778280542985, recall=0.0, precision=0.0, f1=0.0, roc_auc=0.5, train_mean=35.88176174334117, train_std=124.74152131543822, val_mean=40.994652048179084, val_std=162.32405964834848),\n Result(name='politifact', feature=['profile', 'spacy'], conv_layer='parma', accuracy=0.48868778280542985, recall=0.0, precision=0.0, f1=0.0, roc_auc=0.5, train_mean=14.717491122654506, train_std=27.72375181714314, val_mean=16.078030845097132, val_std=36.247446059604606)]"
     },
     "execution_count": 9,
     "metadata": {},
     "output_type": "execute_result"
    }
   ],
   "source": [
    "sorted(results, key=lambda x: x.accuracy, reverse=True)"
   ],
   "metadata": {
    "collapsed": false,
    "ExecuteTime": {
     "end_time": "2024-11-18T13:34:07.332331428Z",
     "start_time": "2024-11-18T13:34:07.290526902Z"
    }
   },
   "id": "722990738c61012a",
   "execution_count": 9
  },
  {
   "cell_type": "code",
   "outputs": [],
   "source": [
    "df = pd.DataFrame(results)\n",
    "df.to_csv('./results/parallelfeature.csv')"
   ],
   "metadata": {
    "collapsed": false,
    "ExecuteTime": {
     "end_time": "2024-11-18T13:34:12.484378409Z",
     "start_time": "2024-11-18T13:34:12.472705833Z"
    }
   },
   "id": "48905ac405e59b81",
   "execution_count": 10
  },
  {
   "cell_type": "code",
   "outputs": [],
   "source": [
    "plt.plot(train_losses, label=\"Training loss\")\n",
    "plt.plot(val_losses, label=\"Validation loss\")\n",
    "plt.legend()\n",
    "plt.show()"
   ],
   "metadata": {
    "collapsed": false
   },
   "id": "6b2e1e62d1abd8b7",
   "execution_count": null
  },
  {
   "cell_type": "code",
   "outputs": [],
   "source": [
    "acc"
   ],
   "metadata": {
    "collapsed": false
   },
   "id": "70bced6f8e35c90c",
   "execution_count": null
  },
  {
   "cell_type": "code",
   "outputs": [],
   "source": [
    "train_mean, train_std"
   ],
   "metadata": {
    "collapsed": false
   },
   "id": "ef640ee1aadcb652",
   "execution_count": null
  },
  {
   "cell_type": "code",
   "outputs": [],
   "source": [
    "val_mean, val_std"
   ],
   "metadata": {
    "collapsed": false
   },
   "id": "6e5fb9b273cb17fc",
   "execution_count": null
  },
  {
   "cell_type": "code",
   "outputs": [],
   "source": [],
   "metadata": {
    "collapsed": false
   },
   "id": "2a1a16bd13aeb380"
  }
 ],
 "metadata": {
  "kernelspec": {
   "display_name": "Python 3",
   "language": "python",
   "name": "python3"
  },
  "language_info": {
   "codemirror_mode": {
    "name": "ipython",
    "version": 2
   },
   "file_extension": ".py",
   "mimetype": "text/x-python",
   "name": "python",
   "nbconvert_exporter": "python",
   "pygments_lexer": "ipython2",
   "version": "2.7.6"
  }
 },
 "nbformat": 4,
 "nbformat_minor": 5
}
