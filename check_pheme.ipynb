{
 "cells": [
  {
   "cell_type": "code",
   "execution_count": 14,
   "id": "initial_id",
   "metadata": {
    "collapsed": true,
    "ExecuteTime": {
     "end_time": "2024-10-31T20:43:55.540301315Z",
     "start_time": "2024-10-31T20:43:55.529372844Z"
    }
   },
   "outputs": [],
   "source": [
    "import json\n",
    "import os\n",
    "\n",
    "import pandas as pd"
   ]
  },
  {
   "cell_type": "code",
   "outputs": [
    {
     "data": {
      "text/plain": "(62445, 4)"
     },
     "execution_count": 2,
     "metadata": {},
     "output_type": "execute_result"
    }
   ],
   "source": [
    "df = pd.read_csv(\"datasets/dataset.csv\")\n",
    "df.shape"
   ],
   "metadata": {
    "collapsed": false,
    "ExecuteTime": {
     "end_time": "2024-10-31T20:38:48.288541375Z",
     "start_time": "2024-10-31T20:38:48.173824002Z"
    }
   },
   "id": "c43115c3000e0fb6",
   "execution_count": 2
  },
  {
   "cell_type": "code",
   "outputs": [
    {
     "data": {
      "text/plain": "                                                    text  is_rumor  \\\n0      Charlie Hebdo became well known for publishing...       0.0   \n1      Now 10 dead in a shooting there today RT \"@BBC...       0.0   \n2      @BBCDanielS @BBCWorld I'm guessing this is bei...       0.0   \n3      @BBCDanielS @BBCWorld why would you mention th...       0.0   \n4                @BBCDanielS @BBCWorld perps identified?       0.0   \n...                                                  ...       ...   \n62440  @AnonyOps @Xplant So that means its ok to torc...       1.0   \n62441  @RianAlden not at all, but they need to change...       1.0   \n62442  @Xplant @AnonyOps Absoluteky.  But it pains me...       1.0   \n62443  @Xplant @AnonyOps I'm curious how many of thes...       1.0   \n62444  @Xplant @AnonyOps You get 15,000 people showin...       1.0   \n\n         user.handle         topic  \n0         BBCDanielS  charliehebdo  \n1          robbylevy  charliehebdo  \n2      ModerateInAll  charliehebdo  \n3        GabTarquini  charliehebdo  \n4      freethought41  charliehebdo  \n...              ...           ...  \n62440      RianAlden      ferguson  \n62441         Xplant      ferguson  \n62442      RianAlden      ferguson  \n62443      RianAlden      ferguson  \n62444      RianAlden      ferguson  \n\n[62445 rows x 4 columns]",
      "text/html": "<div>\n<style scoped>\n    .dataframe tbody tr th:only-of-type {\n        vertical-align: middle;\n    }\n\n    .dataframe tbody tr th {\n        vertical-align: top;\n    }\n\n    .dataframe thead th {\n        text-align: right;\n    }\n</style>\n<table border=\"1\" class=\"dataframe\">\n  <thead>\n    <tr style=\"text-align: right;\">\n      <th></th>\n      <th>text</th>\n      <th>is_rumor</th>\n      <th>user.handle</th>\n      <th>topic</th>\n    </tr>\n  </thead>\n  <tbody>\n    <tr>\n      <th>0</th>\n      <td>Charlie Hebdo became well known for publishing...</td>\n      <td>0.0</td>\n      <td>BBCDanielS</td>\n      <td>charliehebdo</td>\n    </tr>\n    <tr>\n      <th>1</th>\n      <td>Now 10 dead in a shooting there today RT \"@BBC...</td>\n      <td>0.0</td>\n      <td>robbylevy</td>\n      <td>charliehebdo</td>\n    </tr>\n    <tr>\n      <th>2</th>\n      <td>@BBCDanielS @BBCWorld I'm guessing this is bei...</td>\n      <td>0.0</td>\n      <td>ModerateInAll</td>\n      <td>charliehebdo</td>\n    </tr>\n    <tr>\n      <th>3</th>\n      <td>@BBCDanielS @BBCWorld why would you mention th...</td>\n      <td>0.0</td>\n      <td>GabTarquini</td>\n      <td>charliehebdo</td>\n    </tr>\n    <tr>\n      <th>4</th>\n      <td>@BBCDanielS @BBCWorld perps identified?</td>\n      <td>0.0</td>\n      <td>freethought41</td>\n      <td>charliehebdo</td>\n    </tr>\n    <tr>\n      <th>...</th>\n      <td>...</td>\n      <td>...</td>\n      <td>...</td>\n      <td>...</td>\n    </tr>\n    <tr>\n      <th>62440</th>\n      <td>@AnonyOps @Xplant So that means its ok to torc...</td>\n      <td>1.0</td>\n      <td>RianAlden</td>\n      <td>ferguson</td>\n    </tr>\n    <tr>\n      <th>62441</th>\n      <td>@RianAlden not at all, but they need to change...</td>\n      <td>1.0</td>\n      <td>Xplant</td>\n      <td>ferguson</td>\n    </tr>\n    <tr>\n      <th>62442</th>\n      <td>@Xplant @AnonyOps Absoluteky.  But it pains me...</td>\n      <td>1.0</td>\n      <td>RianAlden</td>\n      <td>ferguson</td>\n    </tr>\n    <tr>\n      <th>62443</th>\n      <td>@Xplant @AnonyOps I'm curious how many of thes...</td>\n      <td>1.0</td>\n      <td>RianAlden</td>\n      <td>ferguson</td>\n    </tr>\n    <tr>\n      <th>62444</th>\n      <td>@Xplant @AnonyOps You get 15,000 people showin...</td>\n      <td>1.0</td>\n      <td>RianAlden</td>\n      <td>ferguson</td>\n    </tr>\n  </tbody>\n</table>\n<p>62445 rows × 4 columns</p>\n</div>"
     },
     "execution_count": 3,
     "metadata": {},
     "output_type": "execute_result"
    }
   ],
   "source": [
    "df"
   ],
   "metadata": {
    "collapsed": false,
    "ExecuteTime": {
     "end_time": "2024-10-31T20:38:49.924826752Z",
     "start_time": "2024-10-31T20:38:49.857298337Z"
    }
   },
   "id": "4f8c6d63dfeccb04",
   "execution_count": 3
  },
  {
   "cell_type": "code",
   "outputs": [
    {
     "data": {
      "text/plain": "13824.0"
     },
     "execution_count": 6,
     "metadata": {},
     "output_type": "execute_result"
    }
   ],
   "source": [
    "df['is_rumor'].sum()"
   ],
   "metadata": {
    "collapsed": false,
    "ExecuteTime": {
     "end_time": "2024-10-30T07:53:38.663436904Z",
     "start_time": "2024-10-30T07:53:38.652555256Z"
    }
   },
   "id": "7d52b171723035a3",
   "execution_count": 6
  },
  {
   "cell_type": "code",
   "outputs": [],
   "source": [
    "def read_json(path: str):\n",
    "    with open(path) as file:\n",
    "        data = json.load(file)\n",
    "    return data"
   ],
   "metadata": {
    "collapsed": false,
    "ExecuteTime": {
     "end_time": "2024-10-31T20:41:53.618463065Z",
     "start_time": "2024-10-31T20:41:53.606054304Z"
    }
   },
   "id": "dacb664f64cedbbd",
   "execution_count": 5
  },
  {
   "cell_type": "code",
   "outputs": [],
   "source": [
    "reaction = read_json(\"/home/baimyrza/programming/mlwp_final_project/datasets/pheme-rnr-dataset/charliehebdo/non-rumours/552784600502915072/reactions/552785249420447745.json\")\n",
    "source = read_json(\"/home/baimyrza/programming/mlwp_final_project/datasets/pheme-rnr-dataset/charliehebdo/non-rumours/552784600502915072/source-tweet/552784600502915072.json\")"
   ],
   "metadata": {
    "collapsed": false,
    "ExecuteTime": {
     "end_time": "2024-10-31T20:42:30.526655101Z",
     "start_time": "2024-10-31T20:42:30.484470835Z"
    }
   },
   "id": "42a56fa018de971e",
   "execution_count": 7
  },
  {
   "cell_type": "code",
   "outputs": [
    {
     "data": {
      "text/plain": "dict_keys(['contributors', 'truncated', 'text', 'in_reply_to_status_id', 'id', 'favorite_count', 'source', 'retweeted', 'coordinates', 'entities', 'in_reply_to_screen_name', 'id_str', 'retweet_count', 'in_reply_to_user_id', 'favorited', 'user', 'geo', 'in_reply_to_user_id_str', 'lang', 'created_at', 'in_reply_to_status_id_str', 'place'])"
     },
     "execution_count": 9,
     "metadata": {},
     "output_type": "execute_result"
    }
   ],
   "source": [
    "reaction.keys()"
   ],
   "metadata": {
    "collapsed": false,
    "ExecuteTime": {
     "end_time": "2024-10-31T20:42:40.323541402Z",
     "start_time": "2024-10-31T20:42:40.309974864Z"
    }
   },
   "id": "712434bfec05aa31",
   "execution_count": 9
  },
  {
   "cell_type": "code",
   "outputs": [
    {
     "data": {
      "text/plain": "{'contributors': None,\n 'truncated': False,\n 'text': 'Now 10 dead in a shooting there today RT \"@BBCDanielS: Charlie Hebdo became well known for publishing the Muhammed cartoons two years ago”',\n 'in_reply_to_status_id': 552784600502915072,\n 'id': 552785249420447745,\n 'favorite_count': 0,\n 'source': '<a href=\"http://twitter.com/download/iphone\" rel=\"nofollow\">Twitter for iPhone</a>',\n 'retweeted': False,\n 'coordinates': None,\n 'entities': {'symbols': [],\n  'user_mentions': [{'id': 331658004,\n    'indices': [42, 53],\n    'id_str': '331658004',\n    'screen_name': 'BBCDanielS',\n    'name': 'Daniel Sandford'}],\n  'hashtags': [],\n  'urls': []},\n 'in_reply_to_screen_name': 'BBCDanielS',\n 'id_str': '552785249420447745',\n 'retweet_count': 0,\n 'in_reply_to_user_id': 331658004,\n 'favorited': False,\n 'user': {'follow_request_sent': False,\n  'profile_use_background_image': True,\n  'profile_text_color': '333333',\n  'default_profile_image': False,\n  'id': 18370911,\n  'profile_background_image_url_https': 'https://pbs.twimg.com/profile_background_images/578554964/clrvcuc60cp6ce3hqosb.jpeg',\n  'verified': False,\n  'profile_location': None,\n  'profile_image_url_https': 'https://pbs.twimg.com/profile_images/378800000320937958/abf98da1430f224cbea0c75c027a178c_normal.jpeg',\n  'profile_sidebar_fill_color': 'DDEEF6',\n  'entities': {'description': {'urls': []}},\n  'followers_count': 4671,\n  'profile_sidebar_border_color': 'C0DEED',\n  'id_str': '18370911',\n  'profile_background_color': 'C0DEED',\n  'listed_count': 118,\n  'is_translation_enabled': False,\n  'utc_offset': -21600,\n  'statuses_count': 5064,\n  'description': 'agricultural commodity options/futures trader in CBOT corn options pit, student of markets, former meat marketer, renewable energy supporter, duke blue devil',\n  'friends_count': 4954,\n  'location': 'Chicago',\n  'profile_link_color': '0084B4',\n  'profile_image_url': 'http://pbs.twimg.com/profile_images/378800000320937958/abf98da1430f224cbea0c75c027a178c_normal.jpeg',\n  'following': False,\n  'geo_enabled': False,\n  'profile_banner_url': 'https://pbs.twimg.com/profile_banners/18370911/1398141023',\n  'profile_background_image_url': 'http://pbs.twimg.com/profile_background_images/578554964/clrvcuc60cp6ce3hqosb.jpeg',\n  'name': 'Rob Levy',\n  'lang': 'en',\n  'profile_background_tile': False,\n  'favourites_count': 300,\n  'screen_name': 'robbylevy',\n  'notifications': False,\n  'url': None,\n  'created_at': 'Thu Dec 25 05:12:43 +0000 2008',\n  'contributors_enabled': False,\n  'time_zone': 'Central Time (US & Canada)',\n  'protected': False,\n  'default_profile': False,\n  'is_translator': False},\n 'geo': None,\n 'in_reply_to_user_id_str': '331658004',\n 'lang': 'en',\n 'created_at': 'Wed Jan 07 11:14:08 +0000 2015',\n 'in_reply_to_status_id_str': '552784600502915072',\n 'place': None}"
     },
     "execution_count": 12,
     "metadata": {},
     "output_type": "execute_result"
    }
   ],
   "source": [
    "reaction"
   ],
   "metadata": {
    "collapsed": false,
    "ExecuteTime": {
     "end_time": "2024-10-31T20:43:00.523290204Z",
     "start_time": "2024-10-31T20:43:00.472769058Z"
    }
   },
   "id": "d0f6a7c8492b749c",
   "execution_count": 12
  },
  {
   "cell_type": "code",
   "outputs": [
    {
     "data": {
      "text/plain": "{'contributors': None,\n 'truncated': False,\n 'text': 'Charlie Hebdo became well known for publishing the Muhammed cartoons two years ago',\n 'in_reply_to_status_id': None,\n 'id': 552784600502915072,\n 'favorite_count': 41,\n 'source': '<a href=\"http://twitter.com\" rel=\"nofollow\">Twitter Web Client</a>',\n 'retweeted': False,\n 'coordinates': None,\n 'entities': {'symbols': [], 'user_mentions': [], 'hashtags': [], 'urls': []},\n 'in_reply_to_screen_name': None,\n 'id_str': '552784600502915072',\n 'retweet_count': 202,\n 'in_reply_to_user_id': None,\n 'favorited': False,\n 'user': {'follow_request_sent': False,\n  'profile_use_background_image': True,\n  'profile_text_color': '5A5A5A',\n  'default_profile_image': False,\n  'id': 331658004,\n  'profile_background_image_url_https': 'https://pbs.twimg.com/profile_background_images/337316083/bbc_twitter_template1280.jpg',\n  'verified': True,\n  'profile_location': None,\n  'profile_image_url_https': 'https://pbs.twimg.com/profile_images/1497949200/DanielSandfordSmall_normal.jpg',\n  'profile_sidebar_fill_color': 'FFFFFF',\n  'entities': {'url': {'urls': [{'url': 'http://t.co/tPNR3GoVZJ',\n      'indices': [0, 22],\n      'expanded_url': 'http://news.bbc.co.uk',\n      'display_url': 'news.bbc.co.uk'}]},\n   'description': {'urls': []}},\n  'followers_count': 41591,\n  'profile_sidebar_border_color': 'CCCCCC',\n  'id_str': '331658004',\n  'profile_background_color': 'FFFFFF',\n  'listed_count': 1657,\n  'is_translation_enabled': False,\n  'utc_offset': 14400,\n  'statuses_count': 15128,\n  'description': 'I am Home Affairs Correspondent for BBC News. Police, prisons, law, crime and terrorism. Before that Moscow Correspondent so still tweet about Russia/Ukraine.',\n  'friends_count': 2268,\n  'location': '',\n  'profile_link_color': '1F527B',\n  'profile_image_url': 'http://pbs.twimg.com/profile_images/1497949200/DanielSandfordSmall_normal.jpg',\n  'following': False,\n  'geo_enabled': True,\n  'profile_banner_url': 'https://pbs.twimg.com/profile_banners/331658004/1360223450',\n  'profile_background_image_url': 'http://pbs.twimg.com/profile_background_images/337316083/bbc_twitter_template1280.jpg',\n  'name': 'Daniel Sandford',\n  'lang': 'en',\n  'profile_background_tile': False,\n  'favourites_count': 0,\n  'screen_name': 'BBCDanielS',\n  'notifications': False,\n  'url': 'http://t.co/tPNR3GoVZJ',\n  'created_at': 'Fri Jul 08 14:32:54 +0000 2011',\n  'contributors_enabled': False,\n  'time_zone': 'Moscow',\n  'protected': False,\n  'default_profile': False,\n  'is_translator': False},\n 'geo': None,\n 'in_reply_to_user_id_str': None,\n 'lang': 'en',\n 'created_at': 'Wed Jan 07 11:11:33 +0000 2015',\n 'in_reply_to_status_id_str': None,\n 'place': None}"
     },
     "execution_count": 13,
     "metadata": {},
     "output_type": "execute_result"
    }
   ],
   "source": [
    "source"
   ],
   "metadata": {
    "collapsed": false,
    "ExecuteTime": {
     "end_time": "2024-10-31T20:43:02.932183279Z",
     "start_time": "2024-10-31T20:43:02.920006945Z"
    }
   },
   "id": "dee2be6558bfb28e",
   "execution_count": 13
  },
  {
   "cell_type": "code",
   "outputs": [],
   "source": [],
   "metadata": {
    "collapsed": false
   },
   "id": "36d61226ca5b399f"
  }
 ],
 "metadata": {
  "kernelspec": {
   "display_name": "Python 3",
   "language": "python",
   "name": "python3"
  },
  "language_info": {
   "codemirror_mode": {
    "name": "ipython",
    "version": 2
   },
   "file_extension": ".py",
   "mimetype": "text/x-python",
   "name": "python",
   "nbconvert_exporter": "python",
   "pygments_lexer": "ipython2",
   "version": "2.7.6"
  }
 },
 "nbformat": 4,
 "nbformat_minor": 5
}
